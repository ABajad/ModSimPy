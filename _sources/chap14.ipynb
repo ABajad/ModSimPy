{
 "cells": [
  {
   "cell_type": "markdown",
   "id": "infrared-shower",
   "metadata": {},
   "source": [
    "# Chapter 14"
   ]
  },
  {
   "cell_type": "markdown",
   "id": "documentary-steal",
   "metadata": {
    "tags": [
     "remove-cell"
    ]
   },
   "source": [
    "*Modeling and Simulation in Python*\n",
    "\n",
    "Copyright 2021 Allen Downey\n",
    "\n",
    "License: [Creative Commons Attribution-NonCommercial-ShareAlike 4.0 International](https://creativecommons.org/licenses/by-nc-sa/4.0/)"
   ]
  },
  {
   "cell_type": "code",
   "execution_count": 1,
   "id": "wanted-precipitation",
   "metadata": {
    "tags": [
     "remove-cell"
    ]
   },
   "outputs": [],
   "source": [
    "# install Pint if necessary\n",
    "\n",
    "try:\n",
    "    import pint\n",
    "except ImportError:\n",
    "    !pip install pint"
   ]
  },
  {
   "cell_type": "code",
   "execution_count": 2,
   "id": "earned-kidney",
   "metadata": {
    "tags": [
     "remove-cell"
    ]
   },
   "outputs": [],
   "source": [
    "# download modsim.py if necessary\n",
    "\n",
    "from os.path import basename, exists\n",
    "\n",
    "def download(url):\n",
    "    filename = basename(url)\n",
    "    if not exists(filename):\n",
    "        from urllib.request import urlretrieve\n",
    "        local, _ = urlretrieve(url, filename)\n",
    "        print('Downloaded ' + local)\n",
    "    \n",
    "download('https://raw.githubusercontent.com/AllenDowney/' +\n",
    "         'ModSimPy/master/modsim.py')"
   ]
  },
  {
   "cell_type": "code",
   "execution_count": 3,
   "id": "forty-hammer",
   "metadata": {
    "tags": [
     "remove-cell"
    ]
   },
   "outputs": [],
   "source": [
    "# import functions from modsim\n",
    "\n",
    "from modsim import *"
   ]
  },
  {
   "cell_type": "markdown",
   "id": "attractive-corner",
   "metadata": {},
   "source": [
    "[Click here to run this chapter on Colab](https://colab.research.google.com/github/AllenDowney/ModSimPy/blob/master//chapters/chap14.ipynb)"
   ]
  },
  {
   "cell_type": "code",
   "execution_count": 4,
   "id": "middle-surge",
   "metadata": {
    "tags": [
     "remove-cell"
    ]
   },
   "outputs": [],
   "source": [
    "download('https://github.com/AllenDowney/ModSimPy/raw/master/' +\n",
    "         'chap11.py')"
   ]
  },
  {
   "cell_type": "code",
   "execution_count": 5,
   "id": "hybrid-making",
   "metadata": {
    "tags": [
     "remove-cell"
    ]
   },
   "outputs": [],
   "source": [
    "download('https://github.com/AllenDowney/ModSimPy/raw/master/' +\n",
    "         'chap12.py')"
   ]
  },
  {
   "cell_type": "code",
   "execution_count": 6,
   "id": "inclusive-characteristic",
   "metadata": {
    "tags": [
     "remove-cell"
    ]
   },
   "outputs": [],
   "source": [
    "download('https://github.com/AllenDowney/ModSimPy/raw/master/' +\n",
    "         'chap13.py')"
   ]
  },
  {
   "cell_type": "code",
   "execution_count": 23,
   "id": "grave-occasions",
   "metadata": {
    "tags": [
     "remove-cell"
    ]
   },
   "outputs": [],
   "source": [
    "# import code from previous notebooks\n",
    "\n",
    "from chap11 import make_system\n",
    "from chap11 import update_func\n",
    "from chap11 import run_simulation\n",
    "\n",
    "from chap12 import calc_total_infected\n",
    "\n",
    "from chap13 import sweep_beta\n",
    "from chap13 import sweep_parameters"
   ]
  },
  {
   "cell_type": "markdown",
   "id": "brief-trademark",
   "metadata": {},
   "source": [
    "In the previous chapter we swept the parameters of the SIR model: the contact rate, `beta`, and the recovery rate, `gamma`.\n",
    "For each pair of parameters, we ran a simulation and computed the total fraction of the population infected.\n",
    "\n",
    "In this chapter we investigate the relationship between the parameters and this metric, using both simulation and analysis."
   ]
  },
  {
   "cell_type": "markdown",
   "id": "weekly-award",
   "metadata": {},
   "source": [
    "## Nondimensionalization\n",
    "\n",
    "The figures in the previous chapter suggest that there is a relationship between the parameters of the SIR model, `beta` and `gamma`, and the fraction of the population that is infected. Let's think what that relationship might be.\n",
    "\n",
    "-   When `beta` exceeds `gamma`, there are more contacts\n",
    "    than recoveries during each day. The difference between `beta` and `gamma` might be called the \"excess contact rate\", in units of contacts per day.\n",
    "\n",
    "-   As an alternative, we might consider the ratio `beta/gamma`, which\n",
    "    is the number of contacts per recovery. Because the numerator and\n",
    "    denominator are in the same units, this ratio is **dimensionless**, which means it has no units.\n",
    "\n",
    "Describing physical systems using dimensionless parameters is often a\n",
    "useful move in the modeling and simulation game. In fact, it is so useful that it has a name: **nondimensionalization** (see\n",
    "<http://modsimpy.com/nondim>).\n",
    "\n",
    "So we'll try the second option first."
   ]
  },
  {
   "cell_type": "markdown",
   "id": "legendary-terrorism",
   "metadata": {},
   "source": [
    "## Exploring the results\n",
    "\n",
    "In the previous chapter, we wrote a function, `sweep_parameters`,\n",
    "that takes an array of values for `beta` and an array of values for `gamma`.\n",
    "It runs a simulation for each pair of parameters and returns a `SweepFrame` with the results.\n",
    "\n",
    "I'll run it again with the following arrays of parameters."
   ]
  },
  {
   "cell_type": "code",
   "execution_count": 8,
   "id": "genetic-morris",
   "metadata": {},
   "outputs": [],
   "source": [
    "beta_array = [0.1, 0.2, 0.3, 0.4, 0.5, \n",
    "              0.6, 0.7, 0.8, 0.9, 1.0 , 1.1]\n",
    "gamma_array = [0.2, 0.4, 0.6, 0.8]\n",
    "frame = sweep_parameters(beta_array, gamma_array)"
   ]
  },
  {
   "cell_type": "markdown",
   "id": "hearing-cycle",
   "metadata": {},
   "source": [
    "Here's what the first few rows look like:"
   ]
  },
  {
   "cell_type": "code",
   "execution_count": 9,
   "id": "appointed-terrorist",
   "metadata": {},
   "outputs": [
    {
     "data": {
      "text/html": [
       "<div>\n",
       "<style scoped>\n",
       "    .dataframe tbody tr th:only-of-type {\n",
       "        vertical-align: middle;\n",
       "    }\n",
       "\n",
       "    .dataframe tbody tr th {\n",
       "        vertical-align: top;\n",
       "    }\n",
       "\n",
       "    .dataframe thead th {\n",
       "        text-align: right;\n",
       "    }\n",
       "</style>\n",
       "<table border=\"1\" class=\"dataframe\">\n",
       "  <thead>\n",
       "    <tr style=\"text-align: right;\">\n",
       "      <th></th>\n",
       "      <th>0.2</th>\n",
       "      <th>0.4</th>\n",
       "      <th>0.6</th>\n",
       "      <th>0.8</th>\n",
       "    </tr>\n",
       "    <tr>\n",
       "      <th>Parameter</th>\n",
       "      <th></th>\n",
       "      <th></th>\n",
       "      <th></th>\n",
       "      <th></th>\n",
       "    </tr>\n",
       "  </thead>\n",
       "  <tbody>\n",
       "    <tr>\n",
       "      <th>0.1</th>\n",
       "      <td>0.010756</td>\n",
       "      <td>0.003642</td>\n",
       "      <td>0.002191</td>\n",
       "      <td>0.001567</td>\n",
       "    </tr>\n",
       "    <tr>\n",
       "      <th>0.2</th>\n",
       "      <td>0.118984</td>\n",
       "      <td>0.010763</td>\n",
       "      <td>0.005447</td>\n",
       "      <td>0.003644</td>\n",
       "    </tr>\n",
       "    <tr>\n",
       "      <th>0.3</th>\n",
       "      <td>0.589095</td>\n",
       "      <td>0.030185</td>\n",
       "      <td>0.010771</td>\n",
       "      <td>0.006526</td>\n",
       "    </tr>\n",
       "    <tr>\n",
       "      <th>0.4</th>\n",
       "      <td>0.801339</td>\n",
       "      <td>0.131563</td>\n",
       "      <td>0.020917</td>\n",
       "      <td>0.010780</td>\n",
       "    </tr>\n",
       "    <tr>\n",
       "      <th>0.5</th>\n",
       "      <td>0.896577</td>\n",
       "      <td>0.396409</td>\n",
       "      <td>0.046140</td>\n",
       "      <td>0.017640</td>\n",
       "    </tr>\n",
       "  </tbody>\n",
       "</table>\n",
       "</div>"
      ],
      "text/plain": [
       "                0.2       0.4       0.6       0.8\n",
       "Parameter                                        \n",
       "0.1        0.010756  0.003642  0.002191  0.001567\n",
       "0.2        0.118984  0.010763  0.005447  0.003644\n",
       "0.3        0.589095  0.030185  0.010771  0.006526\n",
       "0.4        0.801339  0.131563  0.020917  0.010780\n",
       "0.5        0.896577  0.396409  0.046140  0.017640"
      ]
     },
     "execution_count": 9,
     "metadata": {},
     "output_type": "execute_result"
    }
   ],
   "source": [
    "frame.head()"
   ]
  },
  {
   "cell_type": "markdown",
   "id": "catholic-alfred",
   "metadata": {},
   "source": [
    "The `SweepFrame` has one row for each value of `beta` and one column for each value of `gamma`. \n",
    "\n",
    "We can print the values in the `SweepFrame` like this:"
   ]
  },
  {
   "cell_type": "code",
   "execution_count": 10,
   "id": "collected-waterproof",
   "metadata": {},
   "outputs": [
    {
     "name": "stdout",
     "output_type": "stream",
     "text": [
      "0.1 0.2 0.010756340768063644\n",
      "0.2 0.2 0.11898421353185373\n",
      "0.3 0.2 0.5890954199973404\n",
      "0.4 0.2 0.8013385277185551\n",
      "0.5 0.2 0.8965769637207062\n",
      "0.6 0.2 0.942929291399791\n",
      "0.7 0.2 0.966299311298026\n",
      "0.8 0.2 0.9781518959989762\n",
      "0.9 0.2 0.9840568957948106\n",
      "1.0 0.2 0.9868823507202488\n",
      "1.1 0.2 0.988148177093735\n",
      "0.1 0.4 0.0036416926514175607\n",
      "0.2 0.4 0.010763463373360094\n",
      "0.3 0.4 0.030184952469116566\n",
      "0.4 0.4 0.131562924303259\n",
      "0.5 0.4 0.3964094037932606\n",
      "0.6 0.4 0.5979016626615987\n",
      "0.7 0.4 0.7284704154876106\n",
      "0.8 0.4 0.8144604459153759\n",
      "0.9 0.4 0.8722697237137128\n",
      "1.0 0.4 0.9116692168795855\n",
      "1.1 0.4 0.9386802509510287\n",
      "0.1 0.6 0.002190722188881611\n",
      "0.2 0.6 0.005446688837466351\n",
      "0.3 0.6 0.010771139974975585\n",
      "0.4 0.6 0.020916599304195316\n",
      "0.5 0.6 0.04614035896610047\n",
      "0.6 0.6 0.13288938996079536\n",
      "0.7 0.6 0.3118432512847451\n",
      "0.8 0.6 0.47832565854255393\n",
      "0.9 0.6 0.605687582114665\n",
      "1.0 0.6 0.7014254793376209\n",
      "1.1 0.6 0.7738176405451065\n",
      "0.1 0.8 0.0015665254038139675\n",
      "0.2 0.8 0.003643953969662994\n",
      "0.3 0.8 0.006526163529085194\n",
      "0.4 0.8 0.010779807499500693\n",
      "0.5 0.8 0.017639902596349066\n",
      "0.6 0.8 0.030291868201986594\n",
      "0.7 0.8 0.05882382948158804\n",
      "0.8 0.8 0.13358889291095588\n",
      "0.9 0.8 0.2668895539427739\n",
      "1.0 0.8 0.40375121210421994\n",
      "1.1 0.8 0.519583469821867\n"
     ]
    }
   ],
   "source": [
    "for gamma in frame.columns:\n",
    "    column = frame[gamma]\n",
    "    for beta in column.index:\n",
    "        metric = column[beta]\n",
    "        print(beta, gamma, metric)"
   ]
  },
  {
   "cell_type": "markdown",
   "id": "unexpected-surgeon",
   "metadata": {},
   "source": [
    "This is the first example we've seen with one `for` loop inside another:\n",
    "\n",
    "-   Each time the outer loop runs, it selects a value of `gamma` from\n",
    "    the columns of the `SweepFrame` and extracts the corresponding\n",
    "    column.\n",
    "\n",
    "-   Each time the inner loop runs, it selects a value of `beta` from the index of the column and selects the corresponding element, which is the fraction of the population that got infected.\n",
    "\n",
    "Since there are 11 rows and 4 columns, the total number of lines in the output is 44.\n",
    "\n",
    "The following function uses the same loop to enumerate the elements of the `SweepFrame`, but instead of printing a line for each element, it plots a point."
   ]
  },
  {
   "cell_type": "code",
   "execution_count": 11,
   "id": "polar-flash",
   "metadata": {},
   "outputs": [],
   "source": [
    "from matplotlib.pyplot import plot\n",
    "\n",
    "def plot_sweep_frame(frame):\n",
    "    for gamma in frame.columns:\n",
    "        column = frame[gamma]\n",
    "        for beta in column.index:\n",
    "            metric = column[beta]\n",
    "            plot(beta/gamma, metric, '.', color='C1')"
   ]
  },
  {
   "cell_type": "markdown",
   "id": "shared-boxing",
   "metadata": {},
   "source": [
    "On the $x$-axis, it plots the ratio `beta/gamma`.\n",
    "On the $y$-axis, it plots the fraction of the population that's infected.\n",
    "\n",
    "Here's what it looks like:"
   ]
  },
  {
   "cell_type": "code",
   "execution_count": 12,
   "id": "incorporate-launch",
   "metadata": {},
   "outputs": [
    {
     "data": {
      "image/png": "[encoded data removed]",
      "text/plain": [
       "<Figure size 432x288 with 1 Axes>"
      ]
     },
     "metadata": {
      "needs_background": "light"
     },
     "output_type": "display_data"
    }
   ],
   "source": [
    "plot_sweep_frame(frame)\n",
    "\n",
    "decorate(xlabel='Contact number (beta/gamma)',\n",
    "         ylabel='Fraction infected')"
   ]
  },
  {
   "cell_type": "markdown",
   "id": "tropical-colony",
   "metadata": {},
   "source": [
    "The results fall on a single curve, at least approximately. That means that we can predict the fraction of the population that will be infected based on a single parameter, the ratio `beta/gamma`. We don't need to know the values of `beta` and `gamma` separately."
   ]
  },
  {
   "cell_type": "markdown",
   "id": "lightweight-surfing",
   "metadata": {},
   "source": [
    "## Contact number\n",
    "\n",
    "From Section xxx, recall that the number of new infections in a\n",
    "given day is $\\beta s i N$, and the number of recoveries is\n",
    "$\\gamma i N$. If we divide these quantities, the result is\n",
    "$\\beta s / \\gamma$, which is the number of new infections per recovery\n",
    "(as a fraction of the population).\n",
    "\n",
    "When a new disease is introduced to a susceptible population, $s$ is\n",
    "approximately 1, so the number of people infected by each sick person is $\\beta / \\gamma$. This ratio is called the \"contact number\\\" or \"basic reproduction number\\\" (see <http://modsimpy.com/contact>). By convention it is usually denoted $R_0$, but in the context of an SIR model, that notation is confusing, so we'll use $c$ instead."
   ]
  },
  {
   "cell_type": "markdown",
   "id": "banner-egyptian",
   "metadata": {},
   "source": [
    "The results in the previous section suggest that there is a relationship between $c$ and the total number of infections. We can derive this relationship by analyzing the differential equations from\n",
    "Section xxx:\n",
    "\n",
    "$$\\begin{aligned}\n",
    "\\frac{ds}{dt} &= -\\beta s i \\\\\n",
    "\\frac{di}{dt} &= \\beta s i - \\gamma i\\\\\n",
    "\\frac{dr}{dt} &= \\gamma i\\end{aligned}$$ \n",
    "\n",
    "In the same way we divided the\n",
    "contact rate by the infection rate to get the dimensionless quantity\n",
    "$c$, now we'll divide $di/dt$ by $ds/dt$ to get a ratio of rates:\n",
    "\n",
    "$$\\frac{di}{ds} = \\frac{\\beta s i - \\gamma i}{-\\beta s i}$$ \n",
    "\n",
    "Which we can simplify as\n",
    "\n",
    "$$\\frac{di}{ds} = -1 + \\frac{\\gamma}{\\beta s}$$ \n",
    "\n",
    "Replacing $\\beta/\\gamma$ with $c$, we can write\n",
    "\n",
    "$$\\frac{di}{ds} = -1 + \\frac{1}{c s}$$ "
   ]
  },
  {
   "cell_type": "markdown",
   "id": "noticed-mouse",
   "metadata": {},
   "source": [
    "Dividing one differential equation by another is not an obvious move, but in this case it is useful because it gives us a relationship between $i$, $s$ and $c$ that does not depend on time. From that relationship, we can derive an equation that relates $c$ to the final value of $s$. In theory, this equation makes it possible to infer $c$ by observing the course of an epidemic."
   ]
  },
  {
   "cell_type": "markdown",
   "id": "accessible-bernard",
   "metadata": {},
   "source": [
    "Here's how the derivation goes. We multiply both sides of the previous\n",
    "equation by $ds$: \n",
    "\n",
    "$$di = \\left( -1 + \\frac{1}{cs} \\right) ds$$ \n",
    "\n",
    "And then integrate both sides: \n",
    "\n",
    "$$i = -s + \\frac{1}{c} \\log s + q$$ \n",
    "\n",
    "where $q$ is a constant of integration. Rearranging terms yields:\n",
    "\n",
    "$$q = i + s - \\frac{1}{c} \\log s$$ \n",
    "\n",
    "Now let's see if we can figure out what $q$ is. At the beginning of an epidemic, if the fraction infected is small and nearly everyone is susceptible, we can use the approximations $i(0) = 0$ and $s(0) = 1$ to compute $q$:\n",
    "\n",
    "$$q = 0 + 1 + \\frac{1}{c} \\log 1$$ \n",
    "\n",
    "Since $\\log 1 = 0$, we get $q = 1$."
   ]
  },
  {
   "cell_type": "markdown",
   "id": "instrumental-placement",
   "metadata": {},
   "source": [
    "Now, at the end of the epidemic, let's assume that $i(\\infty) = 0$, and $s(\\infty)$ is an unknown quantity, $s_{\\infty}$. Now we have:\n",
    "\n",
    "$$q = 1 = 0 + s_{\\infty}- \\frac{1}{c} \\log s_{\\infty}$$ \n",
    "\n",
    "Solving for $c$, we get $$c = \\frac{\\log s_{\\infty}}{s_{\\infty}- 1}$$ By relating $c$ and $s_{\\infty}$, this equation makes it possible to estimate $c$ based on data, and possibly predict the behavior of future epidemics."
   ]
  },
  {
   "cell_type": "markdown",
   "id": "under-dating",
   "metadata": {},
   "source": [
    "## Analysis and simulation\n",
    "\n",
    "Let's compare this analytic result to the results from simulation. I'll create an array of values for $s_{\\infty}$."
   ]
  },
  {
   "cell_type": "code",
   "execution_count": 13,
   "id": "architectural-growth",
   "metadata": {},
   "outputs": [],
   "source": [
    "s_inf_array = linspace(0.003, 0.99, 50)"
   ]
  },
  {
   "cell_type": "markdown",
   "id": "oriented-turtle",
   "metadata": {},
   "source": [
    "And compute the corresponding values of $c$:"
   ]
  },
  {
   "cell_type": "code",
   "execution_count": 14,
   "id": "narrative-embassy",
   "metadata": {},
   "outputs": [],
   "source": [
    "from numpy import log\n",
    "\n",
    "c_array = log(s_inf_array) / (s_inf_array - 1)"
   ]
  },
  {
   "cell_type": "markdown",
   "id": "assisted-public",
   "metadata": {},
   "source": [
    "To get the total infected, we compute the difference between $s(0)$ and\n",
    "$s(\\infty)$, then store the results in a `Series`:"
   ]
  },
  {
   "cell_type": "code",
   "execution_count": 15,
   "id": "canadian-assumption",
   "metadata": {},
   "outputs": [],
   "source": [
    "frac_infected = 1 - s_inf_array"
   ]
  },
  {
   "cell_type": "markdown",
   "id": "published-generation",
   "metadata": {},
   "source": [
    "The ModSim library provides a function called `make_series` we can use to put `c_array` and `frac_infected` in a Pandas `Series`."
   ]
  },
  {
   "cell_type": "code",
   "execution_count": 16,
   "id": "antique-watch",
   "metadata": {},
   "outputs": [],
   "source": [
    "frac_infected_series = make_series(c_array, frac_infected)"
   ]
  },
  {
   "cell_type": "markdown",
   "id": "conscious-bathroom",
   "metadata": {},
   "source": [
    "Now we can plot the results:"
   ]
  },
  {
   "cell_type": "code",
   "execution_count": 17,
   "id": "fallen-router",
   "metadata": {},
   "outputs": [
    {
     "data": {
      "image/png": "[encoded data removed]",
      "text/plain": [
       "<Figure size 432x288 with 1 Axes>"
      ]
     },
     "metadata": {
      "needs_background": "light"
     },
     "output_type": "display_data"
    }
   ],
   "source": [
    "plot_sweep_frame(frame)\n",
    "frac_infected_series.plot(label='analysis')\n",
    "\n",
    "decorate(xlabel='Contact number (c)',\n",
    "         ylabel='Fraction infected')"
   ]
  },
  {
   "cell_type": "markdown",
   "id": "billion-worthy",
   "metadata": {},
   "source": [
    "When the contact number exceeds 1, analysis and simulation agree. When\n",
    "the contact number is less than 1, they do not: analysis indicates there should be no infections; in the simulations there are a small number of infections.\n",
    "\n",
    "The reason for the discrepancy is that the simulation divides time into a discrete series of days, whereas the analysis treats time as a\n",
    "continuous quantity.\n",
    "When the contact number is large, these two models agree; when it is small, they diverge."
   ]
  },
  {
   "cell_type": "markdown",
   "id": "alternate-surprise",
   "metadata": {},
   "source": [
    "## Estimating contact number\n",
    "\n",
    "The previous figure shows that if we know the contact number, we can estimate the fraction of the population that will be infected with just a few arithmetic operations.\n",
    "We don't have to run a simulation.\n",
    "\n",
    "Also, we can read the figure the other way; if we know what fraction of the population was affected by a past outbreak, we can estimate the contact number.\n",
    "Then, if we know one of the parameters, like `gamma`, we can use the contact number to estimate the other parameter, like `beta`.\n",
    "\n",
    "At least in theory, we can.\n",
    "In practice, it might not work very well, because of the shape of the curve. \n",
    "\n",
    "* When the contact number is low, the curve is quite steep, which means that small changes in $c$ yield big changes in the number of infections. If we observe that the total fraction infected is anywhere from 20% to 80%, we would conclude that $c$ is near 2.\n",
    "\n",
    "* And when the contact number is high, the curve is nearly flat, which means that it's hard to see the difference between values of $c$ between 3 and 6.\n",
    "\n",
    "So it might not be practical to use this curve to estimate $c$."
   ]
  },
  {
   "cell_type": "markdown",
   "id": "related-council",
   "metadata": {},
   "source": [
    "## Summary\n",
    "\n",
    "In this chapter we used simulations to explore the relationship between `beta`, `gamma`, and the fraction infected.\n",
    "Then we used analysis to explain that relationship.\n",
    "\n",
    "With that, we are done with the SIR model.\n",
    "In the next chapter we move on to thermal systems and the notorious coffee cooling problem."
   ]
  },
  {
   "cell_type": "markdown",
   "id": "removed-conviction",
   "metadata": {},
   "source": [
    "## Exercises"
   ]
  },
  {
   "cell_type": "markdown",
   "id": "textile-program",
   "metadata": {},
   "source": [
    "**Exercise:** At the beginning of this chapter, I suggested two ways to relate `beta` and `gamma`: we could compute their difference or their ratio.\n",
    "\n",
    "Because the ratio is dimensionless, I suggested we explore it first, and that led us to discover the contact number, which is `beta/gamma`.\n",
    "When we plotted the fraction infected as a function of the contact number, we found that this metric falls on a single curve, at least approximately.\n",
    "That indicates that the ratio is enough to predict the results; we don't have to know `beta` and `gamma` individually. \n",
    "\n",
    "But that leaves a question open: what happens if we do the same thing using the difference instead of the ratio?\n",
    "\n",
    "Write a version of `plot_sweep_frame`, called `plot_sweep_frame_difference`, that plots the fraction infected versus the difference `beta-gamma`.\n",
    "\n",
    "What do the results look like, and what does that imply? "
   ]
  },
  {
   "cell_type": "code",
   "execution_count": 18,
   "id": "current-tiger",
   "metadata": {
    "tags": [
     "hide-cell"
    ]
   },
   "outputs": [],
   "source": [
    "# Solution\n",
    "\n",
    "def plot_sweep_frame_difference(frame):\n",
    "    for gamma in frame.columns:\n",
    "        column = frame[gamma]\n",
    "        for beta in column.index:\n",
    "            metric = column[beta]\n",
    "            plot(beta - gamma, metric, '.', color='C1')"
   ]
  },
  {
   "cell_type": "code",
   "execution_count": 19,
   "id": "specialized-regression",
   "metadata": {
    "tags": [
     "hide-cell"
    ]
   },
   "outputs": [
    {
     "data": {
      "image/png": "[encoded data removed]",
      "text/plain": [
       "<Figure size 432x288 with 1 Axes>"
      ]
     },
     "metadata": {
      "needs_background": "light"
     },
     "output_type": "display_data"
    }
   ],
   "source": [
    "# Solution\n",
    "\n",
    "plot_sweep_frame_difference(frame)\n",
    "\n",
    "decorate(xlabel='Excess infection rate (infections-recoveries per day)',\n",
    "         ylabel='Fraction infected')"
   ]
  },
  {
   "cell_type": "code",
   "execution_count": 20,
   "id": "canadian-authentication",
   "metadata": {
    "tags": [
     "hide-cell"
    ]
   },
   "outputs": [],
   "source": [
    "# Solution\n",
    "\n",
    "# The results don't fall on a curve, which means that if we \n",
    "# know the difference between `beta` and `gamma`, \n",
    "# but not their ratio, that's not enough to predict \n",
    "# the fraction infected."
   ]
  },
  {
   "cell_type": "markdown",
   "id": "angry-perfume",
   "metadata": {},
   "source": [
    "**Exercise:** Suppose you run a survey at the end of the semester and find that 26% of students had the Freshman Plague at some point.\n",
    "\n",
    "What is your best estimate of `c`?\n",
    "\n",
    "Hint: if you display `frac_infected_series`, you can read off the answer. "
   ]
  },
  {
   "cell_type": "code",
   "execution_count": 21,
   "id": "surgical-mouth",
   "metadata": {
    "scrolled": true,
    "tags": [
     "hide-cell"
    ]
   },
   "outputs": [
    {
     "data": {
      "text/html": [
       "<div>\n",
       "<style scoped>\n",
       "    .dataframe tbody tr th:only-of-type {\n",
       "        vertical-align: middle;\n",
       "    }\n",
       "\n",
       "    .dataframe tbody tr th {\n",
       "        vertical-align: top;\n",
       "    }\n",
       "\n",
       "    .dataframe thead th {\n",
       "        text-align: right;\n",
       "    }\n",
       "</style>\n",
       "<table border=\"1\" class=\"dataframe\">\n",
       "  <thead>\n",
       "    <tr style=\"text-align: right;\">\n",
       "      <th></th>\n",
       "      <th>values</th>\n",
       "    </tr>\n",
       "    <tr>\n",
       "      <th>index</th>\n",
       "      <th></th>\n",
       "    </tr>\n",
       "  </thead>\n",
       "  <tbody>\n",
       "    <tr>\n",
       "      <th>5.826623</th>\n",
       "      <td>0.997000</td>\n",
       "    </tr>\n",
       "    <tr>\n",
       "      <th>3.855292</th>\n",
       "      <td>0.976857</td>\n",
       "    </tr>\n",
       "    <tr>\n",
       "      <th>3.281996</th>\n",
       "      <td>0.956714</td>\n",
       "    </tr>\n",
       "    <tr>\n",
       "      <th>2.944613</th>\n",
       "      <td>0.936571</td>\n",
       "    </tr>\n",
       "    <tr>\n",
       "      <th>2.708398</th>\n",
       "      <td>0.916429</td>\n",
       "    </tr>\n",
       "    <tr>\n",
       "      <th>2.528340</th>\n",
       "      <td>0.896286</td>\n",
       "    </tr>\n",
       "    <tr>\n",
       "      <th>2.383888</th>\n",
       "      <td>0.876143</td>\n",
       "    </tr>\n",
       "    <tr>\n",
       "      <th>2.263951</th>\n",
       "      <td>0.856000</td>\n",
       "    </tr>\n",
       "    <tr>\n",
       "      <th>2.161874</th>\n",
       "      <td>0.835857</td>\n",
       "    </tr>\n",
       "    <tr>\n",
       "      <th>2.073358</th>\n",
       "      <td>0.815714</td>\n",
       "    </tr>\n",
       "    <tr>\n",
       "      <th>1.995467</th>\n",
       "      <td>0.795571</td>\n",
       "    </tr>\n",
       "    <tr>\n",
       "      <th>1.926111</th>\n",
       "      <td>0.775429</td>\n",
       "    </tr>\n",
       "    <tr>\n",
       "      <th>1.863750</th>\n",
       "      <td>0.755286</td>\n",
       "    </tr>\n",
       "    <tr>\n",
       "      <th>1.807220</th>\n",
       "      <td>0.735143</td>\n",
       "    </tr>\n",
       "    <tr>\n",
       "      <th>1.755617</th>\n",
       "      <td>0.715000</td>\n",
       "    </tr>\n",
       "    <tr>\n",
       "      <th>1.708229</th>\n",
       "      <td>0.694857</td>\n",
       "    </tr>\n",
       "    <tr>\n",
       "      <th>1.664484</th>\n",
       "      <td>0.674714</td>\n",
       "    </tr>\n",
       "    <tr>\n",
       "      <th>1.623917</th>\n",
       "      <td>0.654571</td>\n",
       "    </tr>\n",
       "    <tr>\n",
       "      <th>1.586142</th>\n",
       "      <td>0.634429</td>\n",
       "    </tr>\n",
       "    <tr>\n",
       "      <th>1.550839</th>\n",
       "      <td>0.614286</td>\n",
       "    </tr>\n",
       "    <tr>\n",
       "      <th>1.517739</th>\n",
       "      <td>0.594143</td>\n",
       "    </tr>\n",
       "    <tr>\n",
       "      <th>1.486613</th>\n",
       "      <td>0.574000</td>\n",
       "    </tr>\n",
       "    <tr>\n",
       "      <th>1.457264</th>\n",
       "      <td>0.553857</td>\n",
       "    </tr>\n",
       "    <tr>\n",
       "      <th>1.429523</th>\n",
       "      <td>0.533714</td>\n",
       "    </tr>\n",
       "    <tr>\n",
       "      <th>1.403242</th>\n",
       "      <td>0.513571</td>\n",
       "    </tr>\n",
       "    <tr>\n",
       "      <th>1.378295</th>\n",
       "      <td>0.493429</td>\n",
       "    </tr>\n",
       "    <tr>\n",
       "      <th>1.354567</th>\n",
       "      <td>0.473286</td>\n",
       "    </tr>\n",
       "    <tr>\n",
       "      <th>1.331959</th>\n",
       "      <td>0.453143</td>\n",
       "    </tr>\n",
       "    <tr>\n",
       "      <th>1.310383</th>\n",
       "      <td>0.433000</td>\n",
       "    </tr>\n",
       "    <tr>\n",
       "      <th>1.289761</th>\n",
       "      <td>0.412857</td>\n",
       "    </tr>\n",
       "    <tr>\n",
       "      <th>1.270022</th>\n",
       "      <td>0.392714</td>\n",
       "    </tr>\n",
       "    <tr>\n",
       "      <th>1.251104</th>\n",
       "      <td>0.372571</td>\n",
       "    </tr>\n",
       "    <tr>\n",
       "      <th>1.232948</th>\n",
       "      <td>0.352429</td>\n",
       "    </tr>\n",
       "    <tr>\n",
       "      <th>1.215505</th>\n",
       "      <td>0.332286</td>\n",
       "    </tr>\n",
       "    <tr>\n",
       "      <th>1.198727</th>\n",
       "      <td>0.312143</td>\n",
       "    </tr>\n",
       "    <tr>\n",
       "      <th>1.182573</th>\n",
       "      <td>0.292000</td>\n",
       "    </tr>\n",
       "    <tr>\n",
       "      <th>1.167003</th>\n",
       "      <td>0.271857</td>\n",
       "    </tr>\n",
       "    <tr>\n",
       "      <th>1.151982</th>\n",
       "      <td>0.251714</td>\n",
       "    </tr>\n",
       "    <tr>\n",
       "      <th>1.137479</th>\n",
       "      <td>0.231571</td>\n",
       "    </tr>\n",
       "    <tr>\n",
       "      <th>1.123464</th>\n",
       "      <td>0.211429</td>\n",
       "    </tr>\n",
       "    <tr>\n",
       "      <th>1.109908</th>\n",
       "      <td>0.191286</td>\n",
       "    </tr>\n",
       "    <tr>\n",
       "      <th>1.096788</th>\n",
       "      <td>0.171143</td>\n",
       "    </tr>\n",
       "    <tr>\n",
       "      <th>1.084080</th>\n",
       "      <td>0.151000</td>\n",
       "    </tr>\n",
       "    <tr>\n",
       "      <th>1.071762</th>\n",
       "      <td>0.130857</td>\n",
       "    </tr>\n",
       "    <tr>\n",
       "      <th>1.059815</th>\n",
       "      <td>0.110714</td>\n",
       "    </tr>\n",
       "    <tr>\n",
       "      <th>1.048220</th>\n",
       "      <td>0.090571</td>\n",
       "    </tr>\n",
       "    <tr>\n",
       "      <th>1.036960</th>\n",
       "      <td>0.070429</td>\n",
       "    </tr>\n",
       "    <tr>\n",
       "      <th>1.026019</th>\n",
       "      <td>0.050286</td>\n",
       "    </tr>\n",
       "    <tr>\n",
       "      <th>1.015381</th>\n",
       "      <td>0.030143</td>\n",
       "    </tr>\n",
       "    <tr>\n",
       "      <th>1.005034</th>\n",
       "      <td>0.010000</td>\n",
       "    </tr>\n",
       "  </tbody>\n",
       "</table>\n",
       "</div>"
      ],
      "text/plain": [
       "            values\n",
       "index             \n",
       "5.826623  0.997000\n",
       "3.855292  0.976857\n",
       "3.281996  0.956714\n",
       "2.944613  0.936571\n",
       "2.708398  0.916429\n",
       "2.528340  0.896286\n",
       "2.383888  0.876143\n",
       "2.263951  0.856000\n",
       "2.161874  0.835857\n",
       "2.073358  0.815714\n",
       "1.995467  0.795571\n",
       "1.926111  0.775429\n",
       "1.863750  0.755286\n",
       "1.807220  0.735143\n",
       "1.755617  0.715000\n",
       "1.708229  0.694857\n",
       "1.664484  0.674714\n",
       "1.623917  0.654571\n",
       "1.586142  0.634429\n",
       "1.550839  0.614286\n",
       "1.517739  0.594143\n",
       "1.486613  0.574000\n",
       "1.457264  0.553857\n",
       "1.429523  0.533714\n",
       "1.403242  0.513571\n",
       "1.378295  0.493429\n",
       "1.354567  0.473286\n",
       "1.331959  0.453143\n",
       "1.310383  0.433000\n",
       "1.289761  0.412857\n",
       "1.270022  0.392714\n",
       "1.251104  0.372571\n",
       "1.232948  0.352429\n",
       "1.215505  0.332286\n",
       "1.198727  0.312143\n",
       "1.182573  0.292000\n",
       "1.167003  0.271857\n",
       "1.151982  0.251714\n",
       "1.137479  0.231571\n",
       "1.123464  0.211429\n",
       "1.109908  0.191286\n",
       "1.096788  0.171143\n",
       "1.084080  0.151000\n",
       "1.071762  0.130857\n",
       "1.059815  0.110714\n",
       "1.048220  0.090571\n",
       "1.036960  0.070429\n",
       "1.026019  0.050286\n",
       "1.015381  0.030143\n",
       "1.005034  0.010000"
      ]
     },
     "execution_count": 21,
     "metadata": {},
     "output_type": "execute_result"
    }
   ],
   "source": [
    "# Solution\n",
    "\n",
    "show(frac_infected_series)"
   ]
  },
  {
   "cell_type": "code",
   "execution_count": 22,
   "id": "focused-magnet",
   "metadata": {
    "tags": [
     "hide-cell"
    ]
   },
   "outputs": [],
   "source": [
    "# Solution\n",
    "\n",
    "# It looks like the fraction infected is 0.26 when the contact \n",
    "# number is about 1.16"
   ]
  },
  {
   "cell_type": "markdown",
   "id": "charged-sample",
   "metadata": {},
   "source": [
    "**Exercise**: So far the only metric we have considered is the total fraction of the population that gets infected over the course of an epidemic.  That is an important metric, but it is not the only one we care about.\n",
    "\n",
    "For example, if we have limited resources to deal with infected people, we might also be concerned about the number of people who are sick at the peak of the epidemic, which is the maximum of `I`.\n",
    "\n",
    "Write a version of `sweep_beta` that computes this metric, and use it to compute a `SweepFrame` for a range of values of `beta` and `gamma`.\n",
    "Make a contour plot that shows the value of this metric as a function of `beta` and `gamma`.\n",
    "\n",
    "Then use `plot_sweep_frame` to plot the maximum of `I` as a function of the contact number, `beta/gamma`.\n",
    "Do the results fall on a single curve?"
   ]
  },
  {
   "cell_type": "code",
   "execution_count": 22,
   "id": "greatest-palestine",
   "metadata": {
    "tags": [
     "hide-cell"
    ]
   },
   "outputs": [],
   "source": [
    "# Solution\n",
    "\n",
    "def sweep_beta_max(beta_array, gamma):\n",
    "    sweep = SweepSeries()\n",
    "    for beta in beta_array:\n",
    "        system = make_system(beta, gamma)\n",
    "        results = run_simulation(system, update_func)\n",
    "        sweep[beta] = results.I.max()\n",
    "    return sweep"
   ]
  },
  {
   "cell_type": "code",
   "execution_count": 23,
   "id": "average-practitioner",
   "metadata": {
    "tags": [
     "hide-cell"
    ]
   },
   "outputs": [],
   "source": [
    "# Solution\n",
    "\n",
    "def sweep_parameters_max(beta_array, gamma_array):\n",
    "    frame = SweepFrame(columns=gamma_array)\n",
    "    for gamma in gamma_array:\n",
    "        frame[gamma] = sweep_beta_max(beta_array, gamma)\n",
    "    return frame"
   ]
  },
  {
   "cell_type": "code",
   "execution_count": 24,
   "id": "elegant-gamma",
   "metadata": {
    "tags": [
     "hide-cell"
    ]
   },
   "outputs": [],
   "source": [
    "# Solution\n",
    "\n",
    "frame_max = sweep_parameters_max(beta_array, gamma_array)"
   ]
  },
  {
   "cell_type": "code",
   "execution_count": 25,
   "id": "plain-dayton",
   "metadata": {
    "tags": [
     "hide-cell"
    ]
   },
   "outputs": [
    {
     "data": {
      "image/png": "[encoded data removed]",
      "text/plain": [
       "<Figure size 432x288 with 1 Axes>"
      ]
     },
     "metadata": {
      "needs_background": "light"
     },
     "output_type": "display_data"
    }
   ],
   "source": [
    "# Solution\n",
    "\n",
    "contour(frame_max)\n",
    "\n",
    "decorate(xlabel='Recovery rate (gamma)',\n",
    "         ylabel='Contact rate (beta)',\n",
    "         title='Contour plot, maximum I')"
   ]
  },
  {
   "cell_type": "code",
   "execution_count": 27,
   "id": "sexual-services",
   "metadata": {
    "tags": [
     "hide-cell"
    ]
   },
   "outputs": [
    {
     "data": {
      "image/png": "[encoded data removed]",
      "text/plain": [
       "<Figure size 432x288 with 1 Axes>"
      ]
     },
     "metadata": {
      "needs_background": "light"
     },
     "output_type": "display_data"
    }
   ],
   "source": [
    "# Solution\n",
    "\n",
    "system = make_system(0.8, 0.2)\n",
    "results = run_simulation(system, update_func)\n",
    "plot_results(results.S, results.I, results.R)"
   ]
  },
  {
   "cell_type": "code",
   "execution_count": 30,
   "id": "central-fever",
   "metadata": {
    "tags": [
     "hide-cell"
    ]
   },
   "outputs": [],
   "source": [
    "# Solution\n",
    "\n",
    "from matplotlib.pyplot import plot\n",
    "\n",
    "def plot_sweep_frame(frame):\n",
    "    for gamma in frame.columns:\n",
    "        series = frame[gamma]\n",
    "        for beta in series.index:\n",
    "            metric = series[beta]\n",
    "            plot(beta/gamma, metric, '.', color='C1')"
   ]
  },
  {
   "cell_type": "code",
   "execution_count": 31,
   "id": "tropical-advancement",
   "metadata": {
    "tags": [
     "hide-cell"
    ]
   },
   "outputs": [
    {
     "data": {
      "image/png": "[encoded data removed]",
      "text/plain": [
       "<Figure size 432x288 with 1 Axes>"
      ]
     },
     "metadata": {
      "needs_background": "light"
     },
     "output_type": "display_data"
    }
   ],
   "source": [
    "# Solution\n",
    "\n",
    "plot_sweep_frame(frame_max)"
   ]
  },
  {
   "cell_type": "markdown",
   "id": "editorial-coating",
   "metadata": {},
   "source": [
    "## Under the hood\n",
    "\n",
    "ModSim provides `make_series` to make it easier to create a Pandas Series.  In this chapter, we used it like this: "
   ]
  },
  {
   "cell_type": "code",
   "execution_count": 26,
   "id": "corresponding-india",
   "metadata": {},
   "outputs": [],
   "source": [
    "make_series(t_array, T_array)"
   ]
  },
  {
   "cell_type": "markdown",
   "id": "comparable-strap",
   "metadata": {},
   "source": [
    "If you import `Series` from Pandas, you can make a `Series` yourself, like this:"
   ]
  },
  {
   "cell_type": "code",
   "execution_count": 27,
   "id": "constant-christianity",
   "metadata": {},
   "outputs": [],
   "source": [
    "from pandas import Series\n",
    "\n",
    "Series(T_array, t_array)"
   ]
  },
  {
   "cell_type": "markdown",
   "id": "wireless-president",
   "metadata": {},
   "source": [
    "The difference is that the arguments are in reverse order: the first argument is stored as the values in the `Series`; the second argument is stored as the `index`.\n",
    "\n",
    "I find that order counterintuitive, which is why I use `make_series`.\n",
    "`make_series` takes the same optional keyword arguments as `Series`, which you can read about at <https://pandas.pydata.org/pandas-docs/stable/reference/api/pandas.Series.html>."
   ]
  },
  {
   "cell_type": "code",
   "execution_count": null,
   "id": "hidden-recipient",
   "metadata": {},
   "outputs": [],
   "source": []
  }
 ],
 "metadata": {
  "celltoolbar": "Tags",
  "kernelspec": {
   "display_name": "Python 3",
   "language": "python",
   "name": "python3"
  },
  "language_info": {
   "codemirror_mode": {
    "name": "ipython",
    "version": 3
   },
   "file_extension": ".py",
   "mimetype": "text/x-python",
   "name": "python",
   "nbconvert_exporter": "python",
   "pygments_lexer": "ipython3",
   "version": "3.9.1"
  }
 },
 "nbformat": 4,
 "nbformat_minor": 5
}
