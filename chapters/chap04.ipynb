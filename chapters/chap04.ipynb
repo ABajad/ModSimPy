{
 "cells": [
  {
   "cell_type": "markdown",
   "id": "existing-guidance",
   "metadata": {},
   "source": [
    "# Chapter 4"
   ]
  },
  {
   "cell_type": "markdown",
   "id": "imported-table",
   "metadata": {
    "tags": []
   },
   "source": [
    "*Modeling and Simulation in Python*\n",
    "\n",
    "Copyright 2021 Allen Downey\n",
    "\n",
    "License: [Creative Commons Attribution-NonCommercial-ShareAlike 4.0 International](https://creativecommons.org/licenses/by-nc-sa/4.0/)"
   ]
  },
  {
   "cell_type": "code",
   "execution_count": null,
   "id": "electoral-turkey",
   "metadata": {
    "tags": []
   },
   "outputs": [],
   "source": [
    "# install Pint if necessary\n",
    "\n",
    "try:\n",
    "    import pint\n",
    "except ImportError:\n",
    "    !pip install pint"
   ]
  },
  {
   "cell_type": "code",
   "execution_count": 1,
   "id": "meaning-public",
   "metadata": {
    "tags": []
   },
   "outputs": [],
   "source": [
    "# download modsim.py if necessary\n",
    "\n",
    "from os.path import basename, exists\n",
    "\n",
    "def download(url):\n",
    "    filename = basename(url)\n",
    "    if not exists(filename):\n",
    "        from urllib.request import urlretrieve\n",
    "        local, _ = urlretrieve(url, filename)\n",
    "        print('Downloaded ' + local)\n",
    "    \n",
    "download('https://raw.githubusercontent.com/AllenDowney/' +\n",
    "         'ModSimPy/main/modsim.py')"
   ]
  },
  {
   "cell_type": "code",
   "execution_count": null,
   "id": "alike-thompson",
   "metadata": {
    "tags": []
   },
   "outputs": [],
   "source": [
    "# import functions from modsim\n",
    "\n",
    "from modsim import *"
   ]
  },
  {
   "cell_type": "markdown",
   "id": "caring-gnome",
   "metadata": {},
   "source": [
    "Here the code from previous chapters we'll reuse."
   ]
  },
  {
   "cell_type": "code",
   "execution_count": 2,
   "id": "stylish-raising",
   "metadata": {},
   "outputs": [],
   "source": [
    "\n",
    "\n",
    "def step(state, p1, p2):\n",
    "    \"\"\"Simulate one time step.\n",
    "    \n",
    "    state: bikeshare State object\n",
    "    p1: probability of an Olin->Wellesley ride\n",
    "    p2: probability of a Wellesley->Olin ride\n",
    "    \"\"\"\n",
    "    if flip(p1):\n",
    "        bike_to_wellesley(state)\n",
    "    \n",
    "    if flip(p2):\n",
    "        bike_to_olin(state)"
   ]
  },
  {
   "cell_type": "code",
   "execution_count": 3,
   "id": "wound-bottle",
   "metadata": {},
   "outputs": [],
   "source": [
    "def bike_to_olin(state):\n",
    "    \"\"\"Move one bike from Wellesley to Olin.\n",
    "    \n",
    "    state: bikeshare State object\n",
    "    \"\"\"\n",
    "    if state.wellesley == 0:\n",
    "        state.wellesley_empty += 1\n",
    "        return\n",
    "    state.wellesley -= 1\n",
    "    state.olin += 1"
   ]
  },
  {
   "cell_type": "code",
   "execution_count": 4,
   "id": "prescribed-affect",
   "metadata": {},
   "outputs": [],
   "source": [
    "def bike_to_wellesley(state):\n",
    "    \"\"\"Move one bike from Olin to Wellesley.\n",
    "    \n",
    "    state: bikeshare State object\n",
    "    \"\"\"\n",
    "    if state.olin == 0:\n",
    "        state.olin_empty += 1\n",
    "        return\n",
    "    state.olin -= 1\n",
    "    state.wellesley += 1"
   ]
  },
  {
   "cell_type": "markdown",
   "id": "atlantic-collectible",
   "metadata": {},
   "source": [
    "In the previous chapter we defined metrics that quantify the performance of bike sharing this system. In this chapter we see how those metrics depend on the parameters of the system, like the Customer rate of customers at bike stations.\n",
    "\n",
    "We also discuss a program development strategy, called incremental\n",
    "development, that might help you write programs faster and spend less\n",
    "time debugging."
   ]
  },
  {
   "cell_type": "markdown",
   "id": "strategic-newspaper",
   "metadata": {},
   "source": [
    "## Functions that return values\n",
    "\n",
    "We have seen several functions that return values; for example, when you run `sqrt`, it returns a number you can assign to a variable."
   ]
  },
  {
   "cell_type": "code",
   "execution_count": 5,
   "id": "imposed-pregnancy",
   "metadata": {},
   "outputs": [],
   "source": [
    "from numpy import sqrt\n",
    "\n",
    "root_2 = sqrt(2)\n",
    "root_2"
   ]
  },
  {
   "cell_type": "markdown",
   "id": "unsigned-recipe",
   "metadata": {},
   "source": [
    "When you run `State`, it returns a new `State` object:"
   ]
  },
  {
   "cell_type": "code",
   "execution_count": 6,
   "id": "accessible-wallace",
   "metadata": {},
   "outputs": [],
   "source": [
    "\n",
    "\n",
    "bikeshare = State(olin=10, wellesley=2)\n",
    "bikeshare"
   ]
  },
  {
   "cell_type": "markdown",
   "id": "missing-pendant",
   "metadata": {},
   "source": [
    "Not all functions have return values. For example, when you run `step`,\n",
    "it updates a `State` object, but it doesn't return a value.\n",
    "\n",
    "To write functions that return values, we can use a `return` statement, like this:"
   ]
  },
  {
   "cell_type": "code",
   "execution_count": 7,
   "id": "minimal-supervisor",
   "metadata": {},
   "outputs": [],
   "source": [
    "def add_five(x):\n",
    "    return x + 5"
   ]
  },
  {
   "cell_type": "markdown",
   "id": "sized-intensity",
   "metadata": {},
   "source": [
    "`add_five` takes a parameter, `x`, which could be any number. It\n",
    "computes `x + 5` and returns the result. So if we run it like this, the\n",
    "result is `8`:"
   ]
  },
  {
   "cell_type": "code",
   "execution_count": 8,
   "id": "warming-program",
   "metadata": {},
   "outputs": [],
   "source": [
    "add_five(3)"
   ]
  },
  {
   "cell_type": "markdown",
   "id": "rental-representation",
   "metadata": {},
   "source": [
    "As a more useful example, here's a version of `run_simulation` that\n",
    "creates a `State` object, runs a simulation, and then returns the\n",
    "`State` object:"
   ]
  },
  {
   "cell_type": "code",
   "execution_count": 9,
   "id": "sitting-cleveland",
   "metadata": {},
   "outputs": [],
   "source": [
    "\n",
    "\n",
    "def run_simulation(p1, p2, num_steps):\n",
    "    state = State(olin=10, wellesley=2,\n",
    "                  olin_empty=0, wellesley_empty=0)\n",
    "    \n",
    "    for i in range(num_steps):\n",
    "        step(state, p1, p2)\n",
    "        \n",
    "    return state"
   ]
  },
  {
   "cell_type": "markdown",
   "id": "minimal-ability",
   "metadata": {},
   "source": [
    "We can call `run_simulation` like this:"
   ]
  },
  {
   "cell_type": "code",
   "execution_count": 10,
   "id": "difficult-shepherd",
   "metadata": {},
   "outputs": [],
   "source": [
    "final_state = run_simulation(0.3, 0.2, 60)"
   ]
  },
  {
   "cell_type": "markdown",
   "id": "charming-wheel",
   "metadata": {},
   "source": [
    "The result is a `State` object that represents the final state of the system, including the metrics we'll use to evaluate the performance of the system:"
   ]
  },
  {
   "cell_type": "code",
   "execution_count": 11,
   "id": "tough-sweet",
   "metadata": {},
   "outputs": [],
   "source": [
    "print(final_state.olin_empty, \n",
    "      final_state.wellesley_empty)"
   ]
  },
  {
   "cell_type": "markdown",
   "id": "aggregate-lightweight",
   "metadata": {},
   "source": [
    "The simulation we just ran starts with `olin=10` and `wellesley=2`, and uses the values `p1=0.3`, `p2=0.2`, and `num_steps=60`. \n",
    "These five values are **parameters of the model**, which are quantities that determine the behavior of the system.\n",
    "\n",
    "It is easy to get the parameters of a model confused with the parameters of a function. \n",
    "In fact, it is common for the parameters of the model to appear as parameters in functions. \n",
    "\n",
    "For example, the previous version of `run_simulation` takes `p1`, `p2`, and `num_steps` as parameters.\n",
    "So we can call `run_simulation` with different parameters and see how\n",
    "the metrics, like the number of unhappy customers, depend on the\n",
    "parameters. But before we do that, we need a new version of a `for` loop."
   ]
  },
  {
   "cell_type": "markdown",
   "id": "valuable-aircraft",
   "metadata": {},
   "source": [
    "## Loops and arrays\n",
    "\n",
    "In `run_simulation`, we use this `for` loop:\n",
    "\n",
    "```\n",
    "    for i in range(num_steps):\n",
    "        step(state, p1, p2)\n",
    "```\n",
    "\n",
    "In this example, `range` creates a sequence of numbers from 0 to `num_steps` (including `0` but not `num_steps`). \n",
    "Each time through the loop, the next number in the sequence gets assigned to the loop variable, `i`.\n",
    "\n",
    "But `range` only works with integers; to get a sequence of non-integer\n",
    "values, we can use `linspace`, which is defined NumPy:"
   ]
  },
  {
   "cell_type": "code",
   "execution_count": 12,
   "id": "bound-juice",
   "metadata": {},
   "outputs": [],
   "source": [
    "from numpy import linspace\n",
    "\n",
    "p1_array = linspace(0, 1, 5)\n",
    "p1_array"
   ]
  },
  {
   "cell_type": "markdown",
   "id": "ordered-colleague",
   "metadata": {},
   "source": [
    "The arguments indicate where the sequence should start and stop, and how\n",
    "many elements it should contain. In this example, the sequence contains\n",
    "`5` equally-spaced numbers, starting at `0` and ending at `1`.\n",
    "\n",
    "The result is a NumPy **array**, which is a new kind of object we have\n",
    "not seen before. An array is a container for a sequence of numbers.\n",
    "\n",
    "We can use an array in a `for` loop like this:"
   ]
  },
  {
   "cell_type": "code",
   "execution_count": 13,
   "id": "commercial-methodology",
   "metadata": {},
   "outputs": [],
   "source": [
    "for p1 in p1_array:\n",
    "    print(p1)"
   ]
  },
  {
   "cell_type": "markdown",
   "id": "finnish-budapest",
   "metadata": {},
   "source": [
    "When this loop runs, it\n",
    "\n",
    "1.  Gets the first value from the array and assigns it to `p1`.\n",
    "\n",
    "2.  Runs the body of the loop, which prints `p1`.\n",
    "\n",
    "3.  Gets the next value from the array and assigns it to `p1`.\n",
    "\n",
    "4.  Runs the body of the loop, which prints `p1`.\n",
    "\n",
    "And so on, until it gets to the end of the array. This will come in handy in the next section."
   ]
  },
  {
   "cell_type": "markdown",
   "id": "crazy-belize",
   "metadata": {},
   "source": [
    "## Sweeping parameters\n",
    "\n",
    "If we know the actual values of parameters like `p1` and `p2`, we can\n",
    "use them to make specific predictions, like how many bikes will be at\n",
    "Olin after one hour.\n",
    "\n",
    "But prediction is not the only goal; models like this are also used to\n",
    "explain why systems behave as they do and to evaluate alternative\n",
    "designs. For example, if we observe the system and notice that we often run out of bikes at a particular time, we could use the model to figure out why that happens. And if we are considering adding more bikes, or another station, we could evaluate the effect of various \"what if\" scenarios.\n",
    "\n",
    "As an example, suppose we have enough data to estimate that `p2` is\n",
    "about `0.2`, but we don't have any information about `p1`. We could run simulations with a range of values for `p1` and see how the results vary. This process is called **sweeping** a parameter, in the sense that the value of the parameter \"sweeps\" through a range of possible values.\n",
    "\n",
    "Now that we know about loops and arrays, we can use them like this:"
   ]
  },
  {
   "cell_type": "code",
   "execution_count": 14,
   "id": "working-chair",
   "metadata": {},
   "outputs": [],
   "source": [
    "p1_array = linspace(0, 0.6, 6)\n",
    "p2 = 0.2\n",
    "num_steps = 60\n",
    "\n",
    "for p1 in p1_array:\n",
    "    final_state = run_simulation(p1, p2, num_steps)\n",
    "    print(p1, final_state.olin_empty)"
   ]
  },
  {
   "cell_type": "markdown",
   "id": "chicken-mainstream",
   "metadata": {},
   "source": [
    "Each time through the loop, we run a simulation with a different value\n",
    "of `p1` and the same value of `p2`, `0.2`. Then we print `p1` and the\n",
    "number of unhappy customers at Olin.\n",
    "\n",
    "To save and plot the results, we can use a `SweepSeries` object, which\n",
    "is similar to a `TimeSeries`; the difference is that the labels in a\n",
    "`SweepSeries` are parameter values rather than time values.\n",
    "\n",
    "We can create an empty `SweepSeries` like this:"
   ]
  },
  {
   "cell_type": "code",
   "execution_count": 15,
   "id": "instrumental-session",
   "metadata": {},
   "outputs": [],
   "source": [
    "\n",
    "\n",
    "sweep = SweepSeries()"
   ]
  },
  {
   "cell_type": "markdown",
   "id": "listed-orleans",
   "metadata": {},
   "source": [
    "And add values like this:"
   ]
  },
  {
   "cell_type": "code",
   "execution_count": 16,
   "id": "hollywood-technical",
   "metadata": {},
   "outputs": [],
   "source": [
    "for p1 in p1_array:\n",
    "    final_state = run_simulation(p1, p2, num_steps)\n",
    "    sweep[p1] = final_state.olin_empty"
   ]
  },
  {
   "cell_type": "markdown",
   "id": "instructional-showcase",
   "metadata": {},
   "source": [
    "The result is a `SweepSeries` that maps from each value of `p1` to the\n",
    "resulting number of unhappy customers. Then we can plot the results:"
   ]
  },
  {
   "cell_type": "code",
   "execution_count": 49,
   "id": "hollywood-spirit",
   "metadata": {},
   "outputs": [],
   "source": [
    "\n",
    "\n",
    "sweep.plot(label='Olin')\n",
    "\n",
    "decorate(title='Olin-Wellesley Bikeshare',\n",
    "         xlabel='Customer rate at Olin (p1 in customers/min)', \n",
    "         ylabel='Number of unhappy customers')"
   ]
  },
  {
   "cell_type": "markdown",
   "id": "intense-start",
   "metadata": {},
   "source": [
    "NumPy provides functions that compute a variety of summary statistics, like `mean`, `median`, and `std` (which computes standard deviation).\n",
    "\n",
    "We can use `mean` to compute the average of the values in a series, like this:"
   ]
  },
  {
   "cell_type": "code",
   "execution_count": 18,
   "id": "contemporary-enough",
   "metadata": {},
   "outputs": [],
   "source": [
    "from numpy import mean\n",
    "\n",
    "mean(sweep)"
   ]
  },
  {
   "cell_type": "markdown",
   "id": "owned-senior",
   "metadata": {},
   "source": [
    "In this example, computing the mean might not be useful, but in the exercises below, it will be."
   ]
  },
  {
   "cell_type": "markdown",
   "id": "korean-christianity",
   "metadata": {},
   "source": [
    "## Incremental development\n",
    "\n",
    "When you start writing programs that are more than a few lines, you\n",
    "might find yourself spending more and more time debugging. The more code you write before you start debugging, the harder it is to find the problem.\n",
    "\n",
    "**Incremental development** is a way of programming that tries to\n",
    "minimize the pain of debugging. The fundamental steps are:\n",
    "\n",
    "1.  Always start with a working program. If you have an example from a\n",
    "    book, or a program you wrote that is similar to what you are working\n",
    "    on, start with that. Otherwise, start with something you *know* is\n",
    "    correct, like `x=5`. Run the program and confirm that it does what\n",
    "    you expect.\n",
    "\n",
    "2.  Make one small, testable change at a time. A \"testable\" change is\n",
    "    one that displays something or has some other effect you can check.\n",
    "    Ideally, you should know what the correct answer is, or be able to\n",
    "    check it by performing another computation.\n",
    "\n",
    "3.  Run the program and see if the change worked. If so, go back to\n",
    "    Step 2. If not, you will have to do some debugging, but if the\n",
    "    change you made was small, it shouldn't take long to find the\n",
    "    problem.\n",
    "\n",
    "When this process works, your changes usually work the first time, or if they don't, the problem is obvious. In practice, there are two problems with incremental development:\n",
    "\n",
    "-   Sometimes you have to write extra code to generate visible output\n",
    "    that you can check. This extra code is called **scaffolding**\n",
    "    because you use it to build the program and then remove it when you\n",
    "    are done. That might seem like a waste, but time you spend on\n",
    "    scaffolding is almost always time you save on debugging.\n",
    "\n",
    "-   When you are getting started, it might not be obvious how to choose\n",
    "    the steps that get from `x=5` to the program you are trying to\n",
    "    write. You will see more examples of this process as we go along,\n",
    "    and you will get better with experience.\n",
    "\n",
    "If you find yourself writing more than a few lines of code before you\n",
    "start testing, and you are spending a lot of time debugging, try\n",
    "incremental development."
   ]
  },
  {
   "cell_type": "markdown",
   "id": "nominated-assault",
   "metadata": {},
   "source": [
    "## Summary"
   ]
  },
  {
   "cell_type": "markdown",
   "id": "appreciated-preview",
   "metadata": {},
   "source": [
    "## Exercises"
   ]
  },
  {
   "cell_type": "markdown",
   "id": "primary-quest",
   "metadata": {},
   "source": [
    "**Exercise:** Write a function called `make_state` that creates a `State` object with the state variables `olin=10` and `wellesley=2`, and then returns the new `State` object.\n",
    "\n",
    "Write a line of code that calls `make_state` and assigns the result to a variable named `init`."
   ]
  },
  {
   "cell_type": "code",
   "execution_count": 19,
   "id": "reflected-freedom",
   "metadata": {},
   "outputs": [],
   "source": [
    "# Solution goes here"
   ]
  },
  {
   "cell_type": "code",
   "execution_count": 20,
   "id": "north-formation",
   "metadata": {},
   "outputs": [],
   "source": [
    "# Solution goes here"
   ]
  },
  {
   "cell_type": "markdown",
   "id": "robust-blair",
   "metadata": {},
   "source": [
    "**Exercise:** Read the documentation of `linspace` at <>.\n",
    "Then use it to make an array of 101 equally spaced points between 0 and 1 (including both)."
   ]
  },
  {
   "cell_type": "code",
   "execution_count": 21,
   "id": "collected-butter",
   "metadata": {},
   "outputs": [],
   "source": [
    "# Solution goes here"
   ]
  },
  {
   "cell_type": "markdown",
   "id": "fleet-debut",
   "metadata": {},
   "source": [
    "**Exercise:** Wrap the code from this chapter in a function named `sweep_p1` that takes an array called `p1_array` as a parameter.  It should create a new `SweepSeries`, run a simulation for each value of `p1` in `p1_array`, store the results in the `SweepSeries`, and return the `SweepSeries`.\n",
    "\n",
    "Use your function to plot the number of unhappy customers at Olin as a function of `p1`.  Label the axes."
   ]
  },
  {
   "cell_type": "code",
   "execution_count": 22,
   "id": "authorized-sarah",
   "metadata": {},
   "outputs": [],
   "source": [
    "# Solution goes here"
   ]
  },
  {
   "cell_type": "code",
   "execution_count": 23,
   "id": "romance-wisdom",
   "metadata": {},
   "outputs": [],
   "source": [
    "# Solution goes here"
   ]
  },
  {
   "cell_type": "markdown",
   "id": "developmental-broad",
   "metadata": {},
   "source": [
    "**Exercise:** Write a function called `sweep_p2` that runs simulations with `p1=0.5` and a range of values for `p2`.  It should store the results in a `SweepSeries` and return the `SweepSeries`.\n"
   ]
  },
  {
   "cell_type": "code",
   "execution_count": 24,
   "id": "norman-banana",
   "metadata": {},
   "outputs": [],
   "source": [
    "# Solution goes here"
   ]
  },
  {
   "cell_type": "code",
   "execution_count": 25,
   "id": "mexican-robert",
   "metadata": {},
   "outputs": [],
   "source": [
    "# Solution goes here"
   ]
  },
  {
   "cell_type": "markdown",
   "id": "separate-mention",
   "metadata": {},
   "source": [
    "## Optional Exercises\n",
    "\n",
    "The following two exercises are a little more challenging.  If you are comfortable with what you have learned so far, you should give them a try.  If you feel like you have your hands full, you might want to skip them for now."
   ]
  },
  {
   "cell_type": "markdown",
   "id": "bearing-orbit",
   "metadata": {},
   "source": [
    "**Exercise:** Because our simulations are random, the results vary from one run to another, and the results of a parameter sweep tend to be noisy.  We can get a clearer picture of the relationship between a parameter and a metric by running multiple simulations with the same parameter and taking the average of the results.\n",
    "\n",
    "Write a function called `run_multiple_simulations` that takes as parameters `p1`, `p2`, `num_steps`, and `num_runs`.\n",
    "\n",
    "`num_runs` specifies how many times it should call `run_simulation`.\n",
    "\n",
    "After each run, it should store the total number of unhappy customers (at Olin or Wellesley) in a `TimeSeries`.\n",
    "At the end, it should return the `TimeSeries`.\n",
    "\n",
    "Test your function with parameters\n",
    "\n",
    "```\n",
    "p1 = 0.3\n",
    "p2 = 0.3\n",
    "num_steps = 60\n",
    "num_runs = 10\n",
    "```\n",
    "\n",
    "Display the resulting `TimeSeries` and use the `mean` function from NumPy to compute the average number of unhappy customers."
   ]
  },
  {
   "cell_type": "code",
   "execution_count": 42,
   "id": "accredited-salmon",
   "metadata": {},
   "outputs": [],
   "source": [
    "# Solution goes here"
   ]
  },
  {
   "cell_type": "code",
   "execution_count": 43,
   "id": "visible-allowance",
   "metadata": {},
   "outputs": [],
   "source": [
    "# Solution goes here"
   ]
  },
  {
   "cell_type": "code",
   "execution_count": 44,
   "id": "spatial-fundamentals",
   "metadata": {},
   "outputs": [],
   "source": [
    "# Solution goes here"
   ]
  },
  {
   "cell_type": "markdown",
   "id": "structural-expense",
   "metadata": {},
   "source": [
    "**Exercise:**  Continuting the previous exercise, use `run_multiple_simulations` to run simulations with a range of values for `p1` and\n",
    "\n",
    "```\n",
    "p2 = 0.3\n",
    "num_steps = 60\n",
    "num_runs = 20\n",
    "```\n",
    "\n",
    "Store the results in a `SweepSeries`, then plot the average number of unhappy customers as a function of `p1`.  Label the axes.\n",
    "\n",
    "What value of `p1` minimizes the average number of unhappy customers?"
   ]
  },
  {
   "cell_type": "code",
   "execution_count": 45,
   "id": "reverse-emphasis",
   "metadata": {
    "scrolled": true
   },
   "outputs": [],
   "source": [
    "# Solution goes here"
   ]
  },
  {
   "cell_type": "code",
   "execution_count": 46,
   "id": "broad-latitude",
   "metadata": {
    "scrolled": true
   },
   "outputs": [],
   "source": [
    "# Solution goes here"
   ]
  },
  {
   "cell_type": "code",
   "execution_count": null,
   "id": "powerful-planner",
   "metadata": {},
   "outputs": [],
   "source": []
  }
 ],
 "metadata": {
  "kernelspec": {
   "display_name": "Python 3",
   "language": "python",
   "name": "python3"
  },
  "language_info": {
   "codemirror_mode": {
    "name": "ipython",
    "version": 3
   },
   "file_extension": ".py",
   "mimetype": "text/x-python",
   "name": "python",
   "nbconvert_exporter": "python",
   "pygments_lexer": "ipython3",
   "version": "3.7.9"
  }
 },
 "nbformat": 4,
 "nbformat_minor": 5
}
