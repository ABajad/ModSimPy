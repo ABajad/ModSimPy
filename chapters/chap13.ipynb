{
 "cells": [
  {
   "cell_type": "markdown",
   "id": "artistic-wells",
   "metadata": {},
   "source": [
    "# Chapter 13"
   ]
  },
  {
   "cell_type": "markdown",
   "id": "imported-table",
   "metadata": {
    "tags": []
   },
   "source": [
    "*Modeling and Simulation in Python*\n",
    "\n",
    "Copyright 2021 Allen Downey\n",
    "\n",
    "License: [Creative Commons Attribution-NonCommercial-ShareAlike 4.0 International](https://creativecommons.org/licenses/by-nc-sa/4.0/)"
   ]
  },
  {
   "cell_type": "code",
   "execution_count": null,
   "id": "electoral-turkey",
   "metadata": {
    "tags": []
   },
   "outputs": [],
   "source": [
    "# install Pint if necessary\n",
    "\n",
    "try:\n",
    "    import pint\n",
    "except ImportError:\n",
    "    !pip install pint"
   ]
  },
  {
   "cell_type": "code",
   "execution_count": 1,
   "id": "formal-context",
   "metadata": {
    "tags": []
   },
   "outputs": [],
   "source": [
    "# download modsim.py if necessary\n",
    "\n",
    "from os.path import basename, exists\n",
    "\n",
    "def download(url):\n",
    "    filename = basename(url)\n",
    "    if not exists(filename):\n",
    "        from urllib.request import urlretrieve\n",
    "        local, _ = urlretrieve(url, filename)\n",
    "        print('Downloaded ' + local)\n",
    "    \n",
    "download('https://raw.githubusercontent.com/AllenDowney/' +\n",
    "         'ModSimPy/master/modsim.py')"
   ]
  },
  {
   "cell_type": "code",
   "execution_count": null,
   "id": "progressive-typing",
   "metadata": {
    "tags": []
   },
   "outputs": [],
   "source": [
    "# import functions from modsim\n",
    "\n",
    "from modsim import *"
   ]
  },
  {
   "cell_type": "markdown",
   "id": "plastic-trigger",
   "metadata": {},
   "source": [
    "[Click here to run this chapter on Colab](https://colab.research.google.com/github/AllenDowney/ModSimPy/blob/master//chapters/chap13.ipynb)"
   ]
  },
  {
   "cell_type": "code",
   "execution_count": 4,
   "id": "apparent-horizon",
   "metadata": {
    "tags": []
   },
   "outputs": [],
   "source": [
    "# import code from previous notebooks\n",
    "\n",
    "from chap11 import make_system\n",
    "from chap11 import update_func\n",
    "from chap11 import run_simulation\n",
    "from chap12 import calc_total_infected"
   ]
  },
  {
   "cell_type": "markdown",
   "id": "electoral-montgomery",
   "metadata": {},
   "source": [
    "In the previous chapters I presented an SIR model of infectious disease, specifically the Kermack-McKendrick model. We extended the model to include vaccination and the effect of a hand-washing campaign, and used the extended model to allocate a limited budget optimally, that is, to minimize the number of infections.\n",
    "\n",
    "But we assumed that the parameters of the model, contact rate and\n",
    "recovery rate, were known. In this chapter, we explore the behavior of\n",
    "the model as we vary these parameters, use analysis to understand these relationships better, and propose a method for using data to estimate parameters."
   ]
  },
  {
   "cell_type": "markdown",
   "id": "nervous-spread",
   "metadata": {},
   "source": [
    "## Sweeping beta\n",
    "\n",
    "Recall that $\\beta$ is the contact rate, which captures both the\n",
    "frequency of interaction between people and the fraction of those\n",
    "interactions that result in a new infection. If $N$ is the size of the\n",
    "population and $s$ is the fraction that's susceptible, $s N$ is the\n",
    "number of susceptibles, $\\beta s N$ is the number of contacts per day\n",
    "between susceptibles and other people, and $\\beta s i N$ is the number\n",
    "of those contacts where the other person is infectious.\n",
    "\n",
    "As $\\beta$ increases, we expect the total number of infections to\n",
    "increase. To quantify that relationship, I'll create a range of values\n",
    "for $\\beta$:"
   ]
  },
  {
   "cell_type": "code",
   "execution_count": 5,
   "id": "amazing-operations",
   "metadata": {},
   "outputs": [],
   "source": [
    "beta_array = linspace(0.1, 1.1, 11)\n",
    "gamma = 0.25"
   ]
  },
  {
   "cell_type": "markdown",
   "id": "adopted-selling",
   "metadata": {},
   "source": [
    "Then run the simulation for each value and print the results."
   ]
  },
  {
   "cell_type": "code",
   "execution_count": 6,
   "id": "brief-minutes",
   "metadata": {},
   "outputs": [],
   "source": [
    "for beta in beta_array:\n",
    "    system = make_system(beta, gamma)\n",
    "    results = run_simulation(system, update_func)\n",
    "    print(beta, calc_total_infected(results, system))"
   ]
  },
  {
   "cell_type": "markdown",
   "id": "understanding-teach",
   "metadata": {},
   "source": [
    "We can wrap that code in a function and store the results in a\n",
    "`SweepSeries` object:"
   ]
  },
  {
   "cell_type": "code",
   "execution_count": 7,
   "id": "single-burke",
   "metadata": {
    "tags": []
   },
   "outputs": [],
   "source": [
    "def sweep_beta(beta_array, gamma):\n",
    "    sweep = SweepSeries()\n",
    "    for beta in beta_array:\n",
    "        system = make_system(beta, gamma)\n",
    "        results = run_simulation(system, update_func)\n",
    "        sweep[beta] = calc_total_infected(results, system)\n",
    "    return sweep"
   ]
  },
  {
   "cell_type": "markdown",
   "id": "wired-wrist",
   "metadata": {},
   "source": [
    "Now we can run `sweep_beta` like this:"
   ]
  },
  {
   "cell_type": "code",
   "execution_count": 8,
   "id": "collected-practice",
   "metadata": {},
   "outputs": [],
   "source": [
    "infected_sweep = sweep_beta(beta_array, gamma)"
   ]
  },
  {
   "cell_type": "markdown",
   "id": "exempt-binary",
   "metadata": {},
   "source": [
    "And plot the results:"
   ]
  },
  {
   "cell_type": "code",
   "execution_count": 9,
   "id": "competitive-amount",
   "metadata": {},
   "outputs": [],
   "source": [
    "label = f'gamma = {gamma}'\n",
    "label"
   ]
  },
  {
   "cell_type": "markdown",
   "id": "imported-huntington",
   "metadata": {},
   "source": [
    "The first line uses a formatted string literal, also called an **f-string** to assemble a label for the plotted line:\n",
    "\n",
    "-   An f-string starts with the letter \"f\" followed by a string in single or double quote. \n",
    "\n",
    "-   The string can contain any number of format specifiers in squiggly brackets, `{}`.\n",
    "\n",
    "-   When a variable name appears in a format specifier, it is replaced with the value of the variable.\n",
    "\n",
    "In this example, if the value of `gamma` is `0.25`, the value of `label` is `'gamma = 0.25'`.\n",
    "\n",
    "You can read more about f-strings at <https://docs.python.org/3/tutorial/inputoutput.html#tut-f-strings>.\n",
    "\n"
   ]
  },
  {
   "cell_type": "code",
   "execution_count": 10,
   "id": "certain-second",
   "metadata": {},
   "outputs": [],
   "source": [
    "infected_sweep.plot(label=label)\n",
    "\n",
    "decorate(xlabel='Contact rate (beta)',\n",
    "         ylabel='Fraction infected')"
   ]
  },
  {
   "cell_type": "markdown",
   "id": "affiliated-honduras",
   "metadata": {},
   "source": [
    "Remember that this figure\n",
    "is a parameter sweep, not a time series, so the x-axis is the parameter\n",
    "`beta`, not time.\n",
    "\n",
    "When `beta` is small, the contact rate is low and the outbreak never\n",
    "really takes off; the total number of infected students is near zero. As\n",
    "`beta` increases, it reaches a threshold near 0.3 where the fraction of\n",
    "infected students increases quickly. When `beta` exceeds 0.5, more than\n",
    "80% of the population gets sick."
   ]
  },
  {
   "cell_type": "markdown",
   "id": "worst-alexandria",
   "metadata": {},
   "source": [
    "## Sweeping gamma\n",
    "\n",
    "Let's see what that looks like for a few different values of `gamma`.\n",
    "Again, we'll use `linspace` to make an array of values:"
   ]
  },
  {
   "cell_type": "code",
   "execution_count": 13,
   "id": "advised-venice",
   "metadata": {},
   "outputs": [],
   "source": [
    "gamma_array = linspace(0.1, 0.7, 4)"
   ]
  },
  {
   "cell_type": "markdown",
   "id": "sensitive-folder",
   "metadata": {},
   "source": [
    "And run `sweep_beta` for each value of `gamma`:"
   ]
  },
  {
   "cell_type": "code",
   "execution_count": 14,
   "id": "determined-consent",
   "metadata": {},
   "outputs": [],
   "source": [
    "for gamma in gamma_array:\n",
    "    infected_sweep = sweep_beta(beta_array, gamma)\n",
    "    label = 'gamma = ' + str(gamma)\n",
    "    infected_sweep.plot(label=label)\n",
    "    \n",
    "decorate()"
   ]
  },
  {
   "cell_type": "markdown",
   "id": "tutorial-venture",
   "metadata": {},
   "source": [
    "When `gamma` is low, the recovery rate is low, which means people are infectious longer.\n",
    "In that case, even a low contact rate (`beta`) results in an epidemic.\n",
    "\n",
    "When `gamma` is high, `beta` has to be even higher to get things going."
   ]
  },
  {
   "cell_type": "markdown",
   "id": "rising-flour",
   "metadata": {},
   "source": [
    "## SweepFrame\n",
    "\n",
    "In the previous section, we swept a range of values for `gamma`, and for\n",
    "each value, we swept a range of values for `beta`. This process is a\n",
    "**two-dimensional sweep**.\n",
    "\n",
    "If we want to store the results, rather than plot them, we can use a\n",
    "`SweepFrame`, which is a kind of `DataFrame` where the rows sweep one\n",
    "parameter, the columns sweep another parameter, and the values contain\n",
    "metrics from a simulation.\n",
    "\n",
    "This function shows how it works:"
   ]
  },
  {
   "cell_type": "code",
   "execution_count": 15,
   "id": "aquatic-federal",
   "metadata": {
    "tags": []
   },
   "outputs": [],
   "source": [
    "def sweep_parameters(beta_array, gamma_array):\n",
    "    frame = SweepFrame(columns=gamma_array)\n",
    "    for gamma in gamma_array:\n",
    "        frame[gamma] = sweep_beta(beta_array, gamma)\n",
    "    return frame"
   ]
  },
  {
   "cell_type": "markdown",
   "id": "level-distinction",
   "metadata": {},
   "source": [
    "`sweep_parameters` takes as parameters an array of values for `beta` and\n",
    "an array of values for `gamma`.\n",
    "\n",
    "It creates a `SweepFrame` to store the results, with one column for each\n",
    "value of `gamma` and one row for each value of `beta`.\n",
    "\n",
    "Each time through the loop, we run `sweep_beta`. The result is a\n",
    "`SweepSeries` object with one element for each value of `beta`. The\n",
    "assignment inside the loop stores the `SweepSeries` as a new column in\n",
    "the `SweepFrame`, corresponding to the current value of `gamma`.\n",
    "\n",
    "At the end, the `SweepFrame` stores the fraction of students infected\n",
    "for each pair of parameters, `beta` and `gamma`.\n",
    "\n",
    "We can run `sweep_parameters` like this:"
   ]
  },
  {
   "cell_type": "code",
   "execution_count": 16,
   "id": "julian-liberia",
   "metadata": {},
   "outputs": [],
   "source": [
    "frame = sweep_parameters(beta_array, gamma_array)"
   ]
  },
  {
   "cell_type": "markdown",
   "id": "sharing-contemporary",
   "metadata": {},
   "source": [
    "With the results in a `SweepFrame`, we can plot each column like this:"
   ]
  },
  {
   "cell_type": "code",
   "execution_count": 21,
   "id": "superior-redhead",
   "metadata": {},
   "outputs": [],
   "source": [
    "for gamma in gamma_array:\n",
    "    label = f'gamma = {gamma}'\n",
    "    frame[gamma].plot(label=label)\n",
    "\n",
    "decorate(xlabel='Contact rate (beta)',\n",
    "         ylabel='Fraction infected')"
   ]
  },
  {
   "cell_type": "markdown",
   "id": "english-photographer",
   "metadata": {},
   "source": [
    "Alternatively, we can plot each row like this:"
   ]
  },
  {
   "cell_type": "code",
   "execution_count": 25,
   "id": "regular-drama",
   "metadata": {},
   "outputs": [],
   "source": [
    "for beta in [0.2, 0.5, 0.8, 1.1]:\n",
    "    label = f'beta = {beta}'\n",
    "    frame.loc[beta].plot(label=label)\n",
    "    \n",
    "decorate(xlabel='Recovery rate (gamma)',\n",
    "         ylabel='Fraction infected')"
   ]
  },
  {
   "cell_type": "markdown",
   "id": "selective-evaluation",
   "metadata": {},
   "source": [
    "This example demonstrates one use of a `SweepFrame`: we can run the analysis once, save the results, and then generate different visualizations.\n",
    "\n",
    "Another way to visualize the results of a two-dimensional sweep is a\n",
    "**contour plot**, which shows the parameters on the axes and contour\n",
    "lines, that is, lines of constant value. In this example, the value is\n",
    "the fraction of students infected.\n",
    "\n",
    "The ModSim library provides `contour`, which takes a `SweepFrame` as a\n",
    "parameter:"
   ]
  },
  {
   "cell_type": "code",
   "execution_count": 26,
   "id": "logical-method",
   "metadata": {},
   "outputs": [],
   "source": [
    "contour(frame)\n",
    "\n",
    "decorate(xlabel='Recovery rate (gamma)',\n",
    "         ylabel='Contact rate (beta)',\n",
    "         title='Fraction infected, contour plot')"
   ]
  },
  {
   "cell_type": "markdown",
   "id": "corresponding-headline",
   "metadata": {},
   "source": [
    "Infection rates are lowest in the lower right, where the contact rate is and the recovery rate is high. They increase as we move to the upper left, where the contact rate is high and the recovery rate is low.\n",
    "\n",
    "This figure suggests that there might be a relationship between `beta`\n",
    "and `gamma` that determines the outcome of the model. In fact, there is.\n",
    "In the next chapter we'll explore it by running simulations, then derive it by analysis.\n",
    "\n"
   ]
  },
  {
   "cell_type": "markdown",
   "id": "located-double",
   "metadata": {},
   "source": [
    "## Summary"
   ]
  },
  {
   "cell_type": "markdown",
   "id": "flying-tracker",
   "metadata": {},
   "source": [
    "## Exercises"
   ]
  },
  {
   "cell_type": "markdown",
   "id": "stopped-breathing",
   "metadata": {},
   "source": [
    "**Exercise:**  Suppose the infectious period for the Freshman Plague is known to be 2 days on average, and suppose during one particularly bad year, 40% of the class is infected at some point.  Estimate the time between contacts."
   ]
  },
  {
   "cell_type": "code",
   "execution_count": 32,
   "id": "talented-crack",
   "metadata": {},
   "outputs": [],
   "source": [
    "# Solution goes here"
   ]
  },
  {
   "cell_type": "code",
   "execution_count": 30,
   "id": "pressed-isaac",
   "metadata": {},
   "outputs": [],
   "source": [
    "# Solution goes here"
   ]
  },
  {
   "cell_type": "code",
   "execution_count": 31,
   "id": "equal-crazy",
   "metadata": {},
   "outputs": [],
   "source": [
    "# Solution goes here"
   ]
  },
  {
   "cell_type": "code",
   "execution_count": null,
   "id": "desirable-crystal",
   "metadata": {},
   "outputs": [],
   "source": []
  }
 ],
 "metadata": {
  "celltoolbar": "Tags",
  "kernelspec": {
   "display_name": "Python 3",
   "language": "python",
   "name": "python3"
  },
  "language_info": {
   "codemirror_mode": {
    "name": "ipython",
    "version": 3
   },
   "file_extension": ".py",
   "mimetype": "text/x-python",
   "name": "python",
   "nbconvert_exporter": "python",
   "pygments_lexer": "ipython3",
   "version": "3.9.1"
  }
 },
 "nbformat": 4,
 "nbformat_minor": 5
}
