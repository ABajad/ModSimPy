{
 "cells": [
  {
   "cell_type": "markdown",
   "id": "happy-minutes",
   "metadata": {},
   "source": [
    "# Chapter 14"
   ]
  },
  {
   "cell_type": "markdown",
   "id": "imported-table",
   "metadata": {
    "tags": []
   },
   "source": [
    "*Modeling and Simulation in Python*\n",
    "\n",
    "Copyright 2021 Allen Downey\n",
    "\n",
    "License: [Creative Commons Attribution-NonCommercial-ShareAlike 4.0 International](https://creativecommons.org/licenses/by-nc-sa/4.0/)"
   ]
  },
  {
   "cell_type": "code",
   "execution_count": null,
   "id": "electoral-turkey",
   "metadata": {
    "tags": []
   },
   "outputs": [],
   "source": [
    "# install Pint if necessary\n",
    "\n",
    "try:\n",
    "    import pint\n",
    "except ImportError:\n",
    "    !pip install pint"
   ]
  },
  {
   "cell_type": "code",
   "execution_count": 1,
   "id": "formal-context",
   "metadata": {
    "tags": []
   },
   "outputs": [],
   "source": [
    "# download modsim.py if necessary\n",
    "\n",
    "from os.path import basename, exists\n",
    "\n",
    "def download(url):\n",
    "    filename = basename(url)\n",
    "    if not exists(filename):\n",
    "        from urllib.request import urlretrieve\n",
    "        local, _ = urlretrieve(url, filename)\n",
    "        print('Downloaded ' + local)\n",
    "    \n",
    "download('https://raw.githubusercontent.com/AllenDowney/' +\n",
    "         'ModSimPy/master/modsim.py')"
   ]
  },
  {
   "cell_type": "code",
   "execution_count": null,
   "id": "progressive-typing",
   "metadata": {
    "tags": []
   },
   "outputs": [],
   "source": [
    "# import functions from modsim\n",
    "\n",
    "from modsim import *"
   ]
  },
  {
   "cell_type": "markdown",
   "id": "plastic-trigger",
   "metadata": {},
   "source": [
    "[Click here to run this chapter on Colab](https://colab.research.google.com/github/AllenDowney/ModSimPy/blob/master//chapters/chap14.ipynb)"
   ]
  },
  {
   "cell_type": "code",
   "execution_count": 4,
   "id": "level-struggle",
   "metadata": {},
   "outputs": [],
   "source": [
    "# import code from previous notebooks\n",
    "\n",
    "from chap11 import make_system\n",
    "from chap11 import update_func\n",
    "from chap11 import run_simulation\n",
    "\n",
    "from chap12 import calc_total_infected\n",
    "\n",
    "from chap13 import sweep_beta\n",
    "from chap13 import sweep_parameters"
   ]
  },
  {
   "cell_type": "markdown",
   "id": "disturbed-joshua",
   "metadata": {},
   "source": [
    "In the previous chapters we used simulation to predict the effect of an infectious disease in a susceptible population and to design\n",
    "interventions that would minimize the effect.\n",
    "\n",
    "In this chapter we use analysis to investigate the relationship between the parameters, `beta` and `gamma`, and the outcome of the simulation."
   ]
  },
  {
   "cell_type": "markdown",
   "id": "respiratory-twelve",
   "metadata": {},
   "source": [
    "## Nondimensionalization\n",
    "\n",
    "The figures in\n",
    "Section [\\[sweepframe\\]](#sweepframe){reference-type=\"ref\"\n",
    "reference=\"sweepframe\"} suggest that there is a relationship between the parameters of the SIR model, `beta` and `gamma`, that determines the outcome of the simulation, the fraction of students infected. Let's think what that relationship might be.\n",
    "\n",
    "-   When `beta` exceeds `gamma`, that means there are more contacts\n",
    "    (that is, potential infections) than recoveries during each day (or other unit of time). The difference between `beta` and `gamma` might be called the \"excess contact rate\\\", in units of contacts per day.\n",
    "\n",
    "-   As an alternative, we might consider the ratio `beta/gamma`, which\n",
    "    is the number of contacts per recovery. Because the numerator and\n",
    "    denominator are in the same units, this ratio is **dimensionless**, which means it has no units.\n",
    "\n",
    "Describing physical systems using dimensionless parameters is often a\n",
    "useful move in the modeling and simulation game. It is so useful, in\n",
    "fact, that it has a name: **nondimensionalization** (see\n",
    "<http://modsimpy.com/nondim>).\n",
    "\n",
    "So we'll try the second option first."
   ]
  },
  {
   "cell_type": "markdown",
   "id": "caroline-compiler",
   "metadata": {},
   "source": [
    "## Exploring the results\n",
    "\n",
    "Suppose we have a `SweepFrame` with one row for each value of `beta` and one column for each value of `gamma`. Each element in the `SweepFrame` is the fraction of students infected in a simulation with a given pair of parameters.\n",
    "\n",
    "We can print the values in the `SweepFrame` like this:"
   ]
  },
  {
   "cell_type": "code",
   "execution_count": 5,
   "id": "flying-chosen",
   "metadata": {},
   "outputs": [],
   "source": [
    "beta_array = [0.1, 0.2, 0.3, 0.4, 0.5, 0.6, 0.7, 0.8, 0.9, 1.0 , 1.1]\n",
    "gamma_array = [0.2, 0.4, 0.6, 0.8]\n",
    "frame = sweep_parameters(beta_array, gamma_array)\n",
    "frame.head()"
   ]
  },
  {
   "cell_type": "code",
   "execution_count": 6,
   "id": "satisfied-japan",
   "metadata": {},
   "outputs": [],
   "source": [
    "for gamma in frame.columns:\n",
    "    column = frame[gamma]\n",
    "    for beta in column.index:\n",
    "        frac_infected = column[beta]\n",
    "        print(beta, gamma, frac_infected)"
   ]
  },
  {
   "cell_type": "markdown",
   "id": "automotive-solution",
   "metadata": {},
   "source": [
    "This is the first example we've seen with one `for` loop inside another:\n",
    "\n",
    "-   Each time the outer loop runs, it selects a value of `gamma` from\n",
    "    the columns of the `DataFrame` and extracts the corresponding\n",
    "    column.\n",
    "\n",
    "-   Each time the inner loop runs, it selects a value of `beta` from the\n",
    "    column and selects the corresponding element, which is the fraction\n",
    "    of students infected.\n",
    "\n",
    "In the example from the previous chapter, `frame` has 4 columns, one for\n",
    "each value of `gamma`, and 11 rows, one for each value of `beta`. So\n",
    "these loops print 44 lines, one for each pair of parameters.\n",
    "\n",
    "The following function encapulates the previous loop and plots the\n",
    "fraction infected as a function of the ratio `beta/gamma`:"
   ]
  },
  {
   "cell_type": "code",
   "execution_count": 7,
   "id": "baking-tactics",
   "metadata": {},
   "outputs": [],
   "source": [
    "from matplotlib.pyplot import plot\n",
    "\n",
    "def plot_sweep_frame(frame):\n",
    "    for gamma in frame.columns:\n",
    "        series = frame[gamma]\n",
    "        for beta in series.index:\n",
    "            frac_infected = series[beta]\n",
    "            plot(beta/gamma, frac_infected, 'o', \n",
    "                 color='C1', alpha=0.4)"
   ]
  },
  {
   "cell_type": "code",
   "execution_count": 8,
   "id": "dental-outreach",
   "metadata": {},
   "outputs": [],
   "source": [
    "plot_sweep_frame(frame)\n",
    "\n",
    "decorate(xlabel='Contact number (beta/gamma)',\n",
    "         ylabel='Fraction infected')"
   ]
  },
  {
   "cell_type": "markdown",
   "id": "systematic-gossip",
   "metadata": {},
   "source": [
    "The results fall on a single curve, at least approximately. That means that we can predict the fraction of students who will be infected based on a single parameter, the ratio `beta/gamma`. We don't need to know the values of `beta` and `gamma` separately."
   ]
  },
  {
   "cell_type": "markdown",
   "id": "theoretical-arrow",
   "metadata": {},
   "source": [
    "## Contact number\n",
    "\n",
    "From Section xxx, recall that the number of new infections in a\n",
    "given day is $\\beta s i N$, and the number of recoveries is\n",
    "$\\gamma i N$. If we divide these quantities, the result is\n",
    "$\\beta s / \\gamma$, which is the number of new infections per recovery\n",
    "(as a fraction of the population).\n",
    "\n",
    "When a new disease is introduced to a susceptible population, $s$ is\n",
    "approximately 1, so the number of people infected by each sick person is $\\beta / \\gamma$. This ratio is called the \"contact number\\\" or \"basic reproduction number\\\" (see <http://modsimpy.com/contact>). By convention it is usually denoted $R_0$, but in the context of an SIR model, this notation is confusing, so we'll use $c$ instead."
   ]
  },
  {
   "cell_type": "markdown",
   "id": "intimate-romance",
   "metadata": {},
   "source": [
    "The results in the previous section suggest that there is a relationship between $c$ and the total number of infections. We can derive this relationship by analyzing the differential equations from\n",
    "Section xxx:\n",
    "\n",
    "$$\\begin{aligned}\n",
    "\\frac{ds}{dt} &= -\\beta s i \\\\\n",
    "\\frac{di}{dt} &= \\beta s i - \\gamma i\\\\\n",
    "\\frac{dr}{dt} &= \\gamma i\\end{aligned}$$ \n",
    "\n",
    "In the same way we divided the\n",
    "contact rate by the infection rate to get the dimensionless quantity\n",
    "$c$, now we'll divide $di/dt$ by $ds/dt$ to get a ratio of rates:\n",
    "\n",
    "$$\\frac{di}{ds} = -1 + \\frac{1}{cs}$$ \n",
    "\n",
    "Dividing one differential equation by another is not an obvious move, but in this case it is useful because it gives us a relationship between $i$, $s$ and $c$ that does not depend on time. From that relationship, we can derive an equation that relates $c$ to the final value of $s$. In theory, this equation makes it possible to infer $c$ by observing the course of an epidemic."
   ]
  },
  {
   "cell_type": "markdown",
   "id": "revolutionary-motorcycle",
   "metadata": {},
   "source": [
    "Here's how the derivation goes. We multiply both sides of the previous\n",
    "equation by $ds$: \n",
    "\n",
    "$$di = \\left( -1 + \\frac{1}{cs} \\right) ds$$ \n",
    "\n",
    "And then integrate both sides: \n",
    "\n",
    "$$i = -s + \\frac{1}{c} \\log s + q$$ \n",
    "\n",
    "where $q$ is a constant of integration. Rearranging terms yields:\n",
    "\n",
    "$$q = i + s - \\frac{1}{c} \\log s$$ \n",
    "\n",
    "Now let's see if we can figure out what $q$ is. At the beginning of an epidemic, if the fraction infected is small and nearly everyone is susceptible, we can use the approximations $i(0) = 0$ and $s(0) = 1$ to compute $q$:\n",
    "\n",
    "$$q = 0 + 1 + \\frac{1}{c} \\log 1$$ \n",
    "\n",
    "Since $\\log 1 = 0$, we get $q = 1$."
   ]
  },
  {
   "cell_type": "markdown",
   "id": "spread-convert",
   "metadata": {},
   "source": [
    "Now, at the end of the epidemic, let's assume that $i(\\infty) = 0$, and $s(\\infty)$ is an unknown quantity, $s_{\\infty}$. Now we have:\n",
    "\n",
    "$$q = 1 = 0 + s_{\\infty}- \\frac{1}{c} \\log s_{\\infty}$$ \n",
    "\n",
    "Solving for $c$, we get $$c = \\frac{\\log s_{\\infty}}{s_{\\infty}- 1}$$ By relating $c$ and $s_{\\infty}$, this equation makes it possible to estimate $c$ based on data, and possibly predict the behavior of future epidemics."
   ]
  },
  {
   "cell_type": "markdown",
   "id": "intended-worker",
   "metadata": {},
   "source": [
    "## Analysis and simulation\n",
    "\n",
    "Let's compare this analytic result to the results from simulation. I'll create an array of values for $s_{\\infty}$"
   ]
  },
  {
   "cell_type": "code",
   "execution_count": 9,
   "id": "previous-schedule",
   "metadata": {},
   "outputs": [],
   "source": [
    "from numpy import linspace\n",
    "\n",
    "s_inf_array = linspace(0.0001, 0.999, 31)"
   ]
  },
  {
   "cell_type": "markdown",
   "id": "positive-float",
   "metadata": {},
   "source": [
    "And compute the corresponding values of $c$:"
   ]
  },
  {
   "cell_type": "code",
   "execution_count": 10,
   "id": "valuable-landscape",
   "metadata": {},
   "outputs": [],
   "source": [
    "from numpy import log\n",
    "\n",
    "c_array = log(s_inf_array) / (s_inf_array - 1)"
   ]
  },
  {
   "cell_type": "markdown",
   "id": "premium-carry",
   "metadata": {},
   "source": [
    "To get the total infected, we compute the difference between $s(0)$ and\n",
    "$s(\\infty)$, then store the results in a `Series`:"
   ]
  },
  {
   "cell_type": "code",
   "execution_count": 20,
   "id": "composite-cabinet",
   "metadata": {},
   "outputs": [],
   "source": [
    "frac_infected = 1 - s_inf_array"
   ]
  },
  {
   "cell_type": "markdown",
   "id": "satisfactory-blink",
   "metadata": {},
   "source": [
    "We can use `make_series` to put `c_array`\n",
    "and `frac_infected` in a Pandas `Series`."
   ]
  },
  {
   "cell_type": "code",
   "execution_count": 21,
   "id": "appropriate-geology",
   "metadata": {},
   "outputs": [],
   "source": [
    "frac_infected_series = make_series(c_array, frac_infected)"
   ]
  },
  {
   "cell_type": "markdown",
   "id": "bottom-print",
   "metadata": {},
   "source": [
    "Now we can plot the results:"
   ]
  },
  {
   "cell_type": "code",
   "execution_count": 22,
   "id": "integral-reading",
   "metadata": {},
   "outputs": [],
   "source": [
    "plot_sweep_frame(frame)\n",
    "frac_infected_series.plot(label='analysis')\n",
    "\n",
    "decorate(xlabel='Contact number (c)',\n",
    "         ylabel='Fraction infected')"
   ]
  },
  {
   "cell_type": "markdown",
   "id": "peaceful-interest",
   "metadata": {},
   "source": [
    "When the contact number exceeds 1, analysis and simulation agree. When\n",
    "the contact number is less than 1, they do not: analysis indicates there should be no infections; in the simulations there are a small number of infections.\n",
    "\n",
    "The reason for the discrepancy is that the simulation divides time into a discrete series of days, whereas the analysis treats time as a\n",
    "continuous quantity. In other words, the two methods are actually based on different models. So which model is better?\n",
    "\n",
    "Probably neither. When the contact number is small, the early progress\n",
    "of the epidemic depends on details of the scenario. If we are lucky, the original infected person, \"patient zero\", infects no one and there is no epidemic. If we are unlucky, patient zero might have a large number of close friends, or might work in the dining hall (and fail to observe safe food handling procedures).\n",
    "\n",
    "For contact numbers near or less than 1, we might need a more detailed\n",
    "model. But for higher contact numbers the SIR model might be good\n",
    "enough."
   ]
  },
  {
   "cell_type": "markdown",
   "id": "beginning-capital",
   "metadata": {},
   "source": [
    "## Estimating contact number\n",
    "\n",
    "Figure xxx shows that if we know the contact number, we can compute the fraction infected. But we can also read the figure the other way; that is, at the end of an epidemic, if we can estimate the fraction of the population that was ever infected, we can use it to estimate the contact number.\n",
    "\n",
    "Well, in theory we can. In practice, it might not work very well,\n",
    "because of the shape of the curve. When the contact number is near 2,\n",
    "the curve is quite steep, which means that small changes in $c$ yield\n",
    "big changes in the number of infections. If we observe that the total\n",
    "fraction infected is anywhere from 20% to 80%, we would conclude that\n",
    "$c$ is near 2.\n",
    "\n",
    "On the other hand, for larger contact numbers, nearly the entire\n",
    "population is infected, so the curve is nearly flat. In that case we\n",
    "would not be able to estimate $c$ precisely, because any value greater\n",
    "than 3 would yield effectively the same results. Fortunately, this is\n",
    "unlikely to happen in the real world; very few epidemics affect anything close to 90% of the population.\n",
    "\n",
    "So the SIR model has limitations; nevertheless, it provides insight into the behavior of infectious disease, especially the phenomenon of herd immunity. As we saw in Chapter xxx, if we know the parameters of the model, we can use it to evaluate possible interventions. And as we saw in this chapter, we might be able to use data from earlier outbreaks to estimate the parameters.\n"
   ]
  },
  {
   "cell_type": "markdown",
   "id": "olive-niger",
   "metadata": {},
   "source": [
    "## Exercises"
   ]
  },
  {
   "cell_type": "markdown",
   "id": "upper-interim",
   "metadata": {},
   "source": [
    "**Exercise:**  If we didn't know about contact numbers, we might have explored other possibilities, like the difference between `beta` and `gamma`, rather than their ratio.\n",
    "\n",
    "Write a version of `plot_sweep_frame`, called `plot_sweep_frame_difference`, that plots the fraction infected versus the difference `beta-gamma`.\n",
    "\n",
    "What do the results look like, and what does that imply? "
   ]
  },
  {
   "cell_type": "code",
   "execution_count": 23,
   "id": "talented-discovery",
   "metadata": {},
   "outputs": [],
   "source": [
    "# Solution goes here"
   ]
  },
  {
   "cell_type": "code",
   "execution_count": 24,
   "id": "bright-label",
   "metadata": {},
   "outputs": [],
   "source": [
    "# Solution goes here"
   ]
  },
  {
   "cell_type": "code",
   "execution_count": 25,
   "id": "suspended-louisiana",
   "metadata": {},
   "outputs": [],
   "source": [
    "# Solution goes here"
   ]
  },
  {
   "cell_type": "markdown",
   "id": "understanding-fault",
   "metadata": {},
   "source": [
    "**Exercise:** Suppose you run a survey at the end of the semester and find that 26% of students had the Freshman Plague at some point.\n",
    "\n",
    "What is your best estimate of `c`?\n",
    "\n",
    "Hint: if you print `frac_infected_series`, you can read off the answer. "
   ]
  },
  {
   "cell_type": "code",
   "execution_count": 26,
   "id": "another-timing",
   "metadata": {
    "scrolled": true
   },
   "outputs": [],
   "source": [
    "# Solution goes here"
   ]
  },
  {
   "cell_type": "code",
   "execution_count": 17,
   "id": "gross-terry",
   "metadata": {},
   "outputs": [],
   "source": [
    "# Solution goes here"
   ]
  },
  {
   "cell_type": "code",
   "execution_count": null,
   "id": "found-surgery",
   "metadata": {},
   "outputs": [],
   "source": []
  }
 ],
 "metadata": {
  "kernelspec": {
   "display_name": "Python 3",
   "language": "python",
   "name": "python3"
  },
  "language_info": {
   "codemirror_mode": {
    "name": "ipython",
    "version": 3
   },
   "file_extension": ".py",
   "mimetype": "text/x-python",
   "name": "python",
   "nbconvert_exporter": "python",
   "pygments_lexer": "ipython3",
   "version": "3.9.1"
  }
 },
 "nbformat": 4,
 "nbformat_minor": 5
}
