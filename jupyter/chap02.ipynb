{
 "cells": [
  {
   "cell_type": "markdown",
   "id": "british-hampshire",
   "metadata": {},
   "source": [
    "# Chapter 2"
   ]
  },
  {
   "cell_type": "markdown",
   "id": "plastic-target",
   "metadata": {
    "tags": [
     "remove-cell"
    ]
   },
   "source": [
    "*Modeling and Simulation in Python*\n",
    "\n",
    "Copyright 2021 Allen Downey\n",
    "\n",
    "License: [Creative Commons Attribution-NonCommercial-ShareAlike 4.0 International](https://creativecommons.org/licenses/by-nc-sa/4.0/)"
   ]
  },
  {
   "cell_type": "code",
   "execution_count": 1,
   "id": "confirmed-melbourne",
   "metadata": {
    "tags": [
     "remove-cell"
    ]
   },
   "outputs": [],
   "source": [
    "# check if the libraries we need are installed\n",
    "    \n",
    "try:\n",
    "    import pint\n",
    "except ImportError:\n",
    "    !pip install pint\n",
    "    import pint\n",
    "    \n",
    "try:\n",
    "    import modsim\n",
    "except ImportError:\n",
    "    !pip install modsimpy\n",
    "    from modsim import *"
   ]
  },
  {
   "cell_type": "markdown",
   "id": "parliamentary-bailey",
   "metadata": {},
   "source": [
    "# Bike share\n",
    "\n",
    "This chapter presents a simple model of a bike share system and\n",
    "demonstrates the features of Python we'll use to develop simulations of\n",
    "real-world systems.\n",
    "\n",
    "Along the way, we'll make decisions about how to model the system. In\n",
    "the next chapter we'll review these decisions and gradually improve the\n",
    "model.\n",
    "\n",
    "## Modeling\n",
    "\n",
    "Imagine a bike share system for students traveling between Olin College\n",
    "and Wellesley College, which are about 3 miles apart in eastern\n",
    "Massachusetts.\n",
    "\n",
    "Suppose the system contains 12 bikes and two bike racks, one at Olin and\n",
    "one at Wellesley, each with the capacity to hold 12 bikes.\n",
    "\n",
    "As students arrive, check out a bike, and ride to the other campus, the\n",
    "number of bikes in each location changes. In the simulation, we'll need\n",
    "to keep track of where the bikes are. To do that, we'll use a function called `State`, which is defined in the ModSim library.\n",
    "We can import it like this."
   ]
  },
  {
   "cell_type": "code",
   "execution_count": 2,
   "id": "after-publisher",
   "metadata": {},
   "outputs": [],
   "source": [
    "from modsim import State"
   ]
  },
  {
   "cell_type": "markdown",
   "id": "encouraging-input",
   "metadata": {},
   "source": [
    "Now we can call it like this:"
   ]
  },
  {
   "cell_type": "code",
   "execution_count": 3,
   "id": "organic-consequence",
   "metadata": {},
   "outputs": [],
   "source": [
    "bikeshare = State(olin=10, wellesley=2)"
   ]
  },
  {
   "cell_type": "markdown",
   "id": "varied-croatia",
   "metadata": {},
   "source": [
    "The expressions in parentheses are **keyword arguments**.\n",
    "They create two variables, `olin` and `wellesley`, and give them values.\n",
    "\n",
    "Then we call the `State` function.\n",
    "The result is a `State` object, which is a collection of **state variables**.\n",
    "\n",
    "In this example, the state variables represent the number of\n",
    "bikes at each location. The initial values are 10 and 2, indicating that there are 10 bikes at Olin and 2 at Wellesley. \n",
    "\n",
    "The `State` object is assigned to a new variable named `bikeshare`.\n",
    "We can read the variables inside a `State` object using the **dot\n",
    "operator**, like this:"
   ]
  },
  {
   "cell_type": "code",
   "execution_count": 4,
   "id": "above-woman",
   "metadata": {},
   "outputs": [
    {
     "data": {
      "text/plain": [
       "10"
      ]
     },
     "execution_count": 4,
     "metadata": {},
     "output_type": "execute_result"
    }
   ],
   "source": [
    "bikeshare.olin"
   ]
  },
  {
   "cell_type": "markdown",
   "id": "unnecessary-jewelry",
   "metadata": {},
   "source": [
    "And this:"
   ]
  },
  {
   "cell_type": "code",
   "execution_count": 5,
   "id": "sacred-hours",
   "metadata": {},
   "outputs": [
    {
     "data": {
      "text/plain": [
       "2"
      ]
     },
     "execution_count": 5,
     "metadata": {},
     "output_type": "execute_result"
    }
   ],
   "source": [
    "bikeshare.wellesley"
   ]
  },
  {
   "cell_type": "markdown",
   "id": "organizational-husband",
   "metadata": {},
   "source": [
    "Or, to display the state variables and their values, you can just type the name of the object:"
   ]
  },
  {
   "cell_type": "code",
   "execution_count": 6,
   "id": "primary-carrier",
   "metadata": {},
   "outputs": [
    {
     "data": {
      "text/html": [
       "<div>\n",
       "<style scoped>\n",
       "    .dataframe tbody tr th:only-of-type {\n",
       "        vertical-align: middle;\n",
       "    }\n",
       "\n",
       "    .dataframe tbody tr th {\n",
       "        vertical-align: top;\n",
       "    }\n",
       "\n",
       "    .dataframe thead th {\n",
       "        text-align: right;\n",
       "    }\n",
       "</style>\n",
       "<table border=\"1\" class=\"dataframe\">\n",
       "  <thead>\n",
       "    <tr style=\"text-align: right;\">\n",
       "      <th></th>\n",
       "      <th>values</th>\n",
       "    </tr>\n",
       "  </thead>\n",
       "  <tbody>\n",
       "    <tr>\n",
       "      <th>olin</th>\n",
       "      <td>10</td>\n",
       "    </tr>\n",
       "    <tr>\n",
       "      <th>wellesley</th>\n",
       "      <td>2</td>\n",
       "    </tr>\n",
       "  </tbody>\n",
       "</table>\n",
       "</div>"
      ],
      "text/plain": [
       "namespace(olin=10, wellesley=2)"
      ]
     },
     "execution_count": 6,
     "metadata": {},
     "output_type": "execute_result"
    }
   ],
   "source": [
    "bikeshare"
   ]
  },
  {
   "cell_type": "markdown",
   "id": "american-worship",
   "metadata": {},
   "source": [
    "These values make up the **state** of the system.\n",
    "We can update the state by assigning new values to the variables. \n",
    "For example, if a student moves a bike from Olin to Wellesley, we can figure out the new values and assign them:"
   ]
  },
  {
   "cell_type": "code",
   "execution_count": 7,
   "id": "beautiful-priority",
   "metadata": {},
   "outputs": [],
   "source": [
    "bikeshare.olin = 9\n",
    "bikeshare.wellesley = 3"
   ]
  },
  {
   "cell_type": "markdown",
   "id": "adjusted-baghdad",
   "metadata": {},
   "source": [
    "Or we can use **update operators**, `-=` and `+=`, to subtract 1 from\n",
    "`olin` and add 1 to `wellesley`:"
   ]
  },
  {
   "cell_type": "code",
   "execution_count": 8,
   "id": "another-boating",
   "metadata": {},
   "outputs": [],
   "source": [
    "bikeshare.olin -= 1\n",
    "bikeshare.wellesley += 1"
   ]
  },
  {
   "cell_type": "markdown",
   "id": "finite-taste",
   "metadata": {},
   "source": [
    "The result is the same either way."
   ]
  },
  {
   "cell_type": "markdown",
   "id": "fiscal-addition",
   "metadata": {},
   "source": [
    "## Defining functions\n",
    "\n",
    "So far we have used functions defined in NumPy and ModSim. Now we're going to define our own function.\n",
    "\n",
    "When you are developing code in Jupyter, it is often efficient to write a few lines of code, test them to confirm they do what you intend, and then use them to define a new function. For example, these lines move a bike from Olin to Wellesley:"
   ]
  },
  {
   "cell_type": "code",
   "execution_count": 9,
   "id": "miniature-milton",
   "metadata": {},
   "outputs": [],
   "source": [
    "bikeshare.olin -= 1\n",
    "bikeshare.wellesley += 1"
   ]
  },
  {
   "cell_type": "markdown",
   "id": "imperial-account",
   "metadata": {},
   "source": [
    "Rather than repeat them every time a bike moves, we can define a new\n",
    "function:"
   ]
  },
  {
   "cell_type": "code",
   "execution_count": 10,
   "id": "peaceful-scroll",
   "metadata": {},
   "outputs": [],
   "source": [
    "def bike_to_wellesley():\n",
    "    bikeshare.olin -= 1\n",
    "    bikeshare.wellesley += 1"
   ]
  },
  {
   "cell_type": "markdown",
   "id": "illegal-newfoundland",
   "metadata": {},
   "source": [
    "`def` is a special word in Python that indicates we are defining a new\n",
    "function. The name of the function is `bike_to_wellesley`. The empty\n",
    "parentheses indicate that this function requires no additional\n",
    "information when it runs. The colon indicates the beginning of an\n",
    "indented **code block**.\n",
    "\n",
    "The next two lines are the **body** of the function. They have to be\n",
    "indented; by convention, the indentation is 4 spaces.\n",
    "\n",
    "When you define a function, it has no immediate effect. The body of the\n",
    "function doesn't run until you **call** the function. Here's how to call\n",
    "this function:"
   ]
  },
  {
   "cell_type": "code",
   "execution_count": 11,
   "id": "cordless-portrait",
   "metadata": {},
   "outputs": [],
   "source": [
    "bike_to_wellesley()"
   ]
  },
  {
   "cell_type": "markdown",
   "id": "potential-fourth",
   "metadata": {},
   "source": [
    "When you call the function, it runs the statements in the body, which\n",
    "update the variables of the `bikeshare` object; you can check by\n",
    "displaying the new state."
   ]
  },
  {
   "cell_type": "code",
   "execution_count": 12,
   "id": "fabulous-hopkins",
   "metadata": {},
   "outputs": [
    {
     "data": {
      "text/html": [
       "<div>\n",
       "<style scoped>\n",
       "    .dataframe tbody tr th:only-of-type {\n",
       "        vertical-align: middle;\n",
       "    }\n",
       "\n",
       "    .dataframe tbody tr th {\n",
       "        vertical-align: top;\n",
       "    }\n",
       "\n",
       "    .dataframe thead th {\n",
       "        text-align: right;\n",
       "    }\n",
       "</style>\n",
       "<table border=\"1\" class=\"dataframe\">\n",
       "  <thead>\n",
       "    <tr style=\"text-align: right;\">\n",
       "      <th></th>\n",
       "      <th>values</th>\n",
       "    </tr>\n",
       "  </thead>\n",
       "  <tbody>\n",
       "    <tr>\n",
       "      <th>olin</th>\n",
       "      <td>6</td>\n",
       "    </tr>\n",
       "    <tr>\n",
       "      <th>wellesley</th>\n",
       "      <td>6</td>\n",
       "    </tr>\n",
       "  </tbody>\n",
       "</table>\n",
       "</div>"
      ],
      "text/plain": [
       "namespace(olin=6, wellesley=6)"
      ]
     },
     "execution_count": 12,
     "metadata": {},
     "output_type": "execute_result"
    }
   ],
   "source": [
    "bikeshare"
   ]
  },
  {
   "cell_type": "markdown",
   "id": "coated-pathology",
   "metadata": {},
   "source": [
    "When you call a function, you have to include the parentheses. If you\n",
    "leave them out, you get this:"
   ]
  },
  {
   "cell_type": "code",
   "execution_count": 13,
   "id": "alternate-province",
   "metadata": {},
   "outputs": [
    {
     "data": {
      "text/plain": [
       "<function __main__.bike_to_wellesley()>"
      ]
     },
     "execution_count": 13,
     "metadata": {},
     "output_type": "execute_result"
    }
   ],
   "source": [
    "bike_to_wellesley"
   ]
  },
  {
   "cell_type": "markdown",
   "id": "living-national",
   "metadata": {},
   "source": [
    "This result indicates that `bike_to_wellesley` is a function. You don't\n",
    "have to know what `__main__` means, but if you see something like this,\n",
    "it probably means that you looked up a function but you didn't actually\n",
    "call it. So don't forget the parentheses."
   ]
  },
  {
   "cell_type": "markdown",
   "id": "impossible-scheme",
   "metadata": {},
   "source": [
    "## Print statements\n",
    "\n",
    "As you write more complicated programs, it is easy to lose track of what\n",
    "is going on. One of the most useful tools for debugging is the **print\n",
    "statement**, which displays text in the Jupyter notebook.\n",
    "\n",
    "Normally when Jupyter runs the code in a cell, it displays the value of\n",
    "the last line of code. For example, if you run:"
   ]
  },
  {
   "cell_type": "code",
   "execution_count": 14,
   "id": "functional-handbook",
   "metadata": {},
   "outputs": [
    {
     "data": {
      "text/plain": [
       "6"
      ]
     },
     "execution_count": 14,
     "metadata": {},
     "output_type": "execute_result"
    }
   ],
   "source": [
    "bikeshare.olin\n",
    "bikeshare.wellesley"
   ]
  },
  {
   "cell_type": "markdown",
   "id": "naval-architect",
   "metadata": {},
   "source": [
    "Jupyter runs both lines, but it only displays the value of the\n",
    "second. If you want to display more than one value, you can use\n",
    "print statements:"
   ]
  },
  {
   "cell_type": "code",
   "execution_count": 15,
   "id": "fleet-marathon",
   "metadata": {},
   "outputs": [
    {
     "name": "stdout",
     "output_type": "stream",
     "text": [
      "6\n",
      "6\n"
     ]
    }
   ],
   "source": [
    "print(bikeshare.olin)\n",
    "print(bikeshare.wellesley)"
   ]
  },
  {
   "cell_type": "markdown",
   "id": "literary-integrity",
   "metadata": {},
   "source": [
    "When you call the `print` function, you can put a variable name in\n",
    "parentheses, as in the previous example, or you can provide a sequence\n",
    "of variables separated by commas, like this:"
   ]
  },
  {
   "cell_type": "code",
   "execution_count": 16,
   "id": "accessory-porcelain",
   "metadata": {},
   "outputs": [
    {
     "name": "stdout",
     "output_type": "stream",
     "text": [
      "6 6\n"
     ]
    }
   ],
   "source": [
    "print(bikeshare.olin, bikeshare.wellesley)"
   ]
  },
  {
   "cell_type": "markdown",
   "id": "sustained-dallas",
   "metadata": {},
   "source": [
    "Python looks up the values of the variables and displays them; in this\n",
    "example, it displays two values on the same line, with a space between\n",
    "them.\n",
    "\n",
    "Print statements are useful for debugging functions. For example, we can\n",
    "add a print statement to `move_bike`, like this:"
   ]
  },
  {
   "cell_type": "code",
   "execution_count": 17,
   "id": "stone-oliver",
   "metadata": {},
   "outputs": [],
   "source": [
    "def bike_to_wellesley():\n",
    "    print('Moving a bike to Wellesley')\n",
    "    bikeshare.olin -= 1\n",
    "    bikeshare.wellesley += 1"
   ]
  },
  {
   "cell_type": "markdown",
   "id": "pharmaceutical-combat",
   "metadata": {},
   "source": [
    "Each time we call this version of the function, it displays a message,\n",
    "which can help us keep track of what the program is doing.\n",
    "The message in this example is a **string**, which is a sequence of\n",
    "letters and other symbols in quotes.\n",
    "\n",
    "Just like `bike_to_wellesley`, we can define a function that moves a\n",
    "bike from Wellesley to Olin:"
   ]
  },
  {
   "cell_type": "code",
   "execution_count": 18,
   "id": "loose-arlington",
   "metadata": {},
   "outputs": [],
   "source": [
    "def bike_to_olin():\n",
    "    print('Moving a bike to Olin')\n",
    "    bikeshare.wellesley -= 1\n",
    "    bikeshare.olin += 1"
   ]
  },
  {
   "cell_type": "markdown",
   "id": "prostate-launch",
   "metadata": {},
   "source": [
    "And call it like this:"
   ]
  },
  {
   "cell_type": "code",
   "execution_count": 19,
   "id": "compatible-transcript",
   "metadata": {},
   "outputs": [
    {
     "name": "stdout",
     "output_type": "stream",
     "text": [
      "Moving a bike to Olin\n"
     ]
    }
   ],
   "source": [
    "bike_to_olin()"
   ]
  },
  {
   "cell_type": "markdown",
   "id": "clean-bleeding",
   "metadata": {},
   "source": [
    "One benefit of defining functions is that you avoid repeating chunks of\n",
    "code, which makes programs smaller. Another benefit is that the name you\n",
    "give the function documents what it does, which makes programs more\n",
    "readable."
   ]
  },
  {
   "cell_type": "markdown",
   "id": "prescribed-observer",
   "metadata": {},
   "source": [
    "## If statements\n",
    "\n",
    "The ModSim library provides a function called `flip`, which we can import like this:"
   ]
  },
  {
   "cell_type": "code",
   "execution_count": 20,
   "id": "elegant-doubt",
   "metadata": {},
   "outputs": [],
   "source": [
    "from modsim import flip"
   ]
  },
  {
   "cell_type": "markdown",
   "id": "steady-arrow",
   "metadata": {},
   "source": [
    "When you call it, you provide a probability between 0 and 1, like `0.7`, as an example:"
   ]
  },
  {
   "cell_type": "code",
   "execution_count": 21,
   "id": "improving-simulation",
   "metadata": {},
   "outputs": [
    {
     "data": {
      "text/plain": [
       "False"
      ]
     },
     "execution_count": 21,
     "metadata": {},
     "output_type": "execute_result"
    }
   ],
   "source": [
    "flip(0.7)"
   ]
  },
  {
   "cell_type": "markdown",
   "id": "brown-header",
   "metadata": {},
   "source": [
    "The result is one of two values: `True` with probability 0.7 or `False`\n",
    "with probability 0.3. If you run `flip` like this 100 times, you should\n",
    "get `True` about 70 times and `False` about 30 times. But the results\n",
    "are random, so they might differ from these expectations.\n",
    "\n",
    "`True` and `False` are special values defined by Python. Note that they\n",
    "are not strings. There is a difference between `True`, which is a\n",
    "special value, and `'True'`, which is a string.\n",
    "\n",
    "`True` and `False` are called **boolean** values because they are\n",
    "related to Boolean algebra (<https://modsimpy.com/boolean>).\n",
    "\n",
    "We can use boolean values to control the behavior of the program, using\n",
    "an **if statement**:"
   ]
  },
  {
   "cell_type": "code",
   "execution_count": 22,
   "id": "organizational-portable",
   "metadata": {},
   "outputs": [],
   "source": [
    "if flip(0.5):\n",
    "    print('heads')"
   ]
  },
  {
   "cell_type": "markdown",
   "id": "covered-freedom",
   "metadata": {},
   "source": [
    "If the result from `flip` is `True`, the program displays the string\n",
    "`'heads'`. Otherwise it does nothing.\n",
    "\n",
    "The syntax for `if` statements is similar to the syntax for\n",
    "function definitions: the first line has to end with a colon, and the\n",
    "lines inside the `if` statement have to be indented.\n",
    "\n",
    "Optionally, you can add an **else clause** to indicate what should\n",
    "happen if the result is `False`:"
   ]
  },
  {
   "cell_type": "code",
   "execution_count": 23,
   "id": "auburn-sphere",
   "metadata": {},
   "outputs": [
    {
     "name": "stdout",
     "output_type": "stream",
     "text": [
      "tails\n"
     ]
    }
   ],
   "source": [
    "if flip(0.5):\n",
    "    print('heads')\n",
    "else:\n",
    "    print('tails')    "
   ]
  },
  {
   "cell_type": "markdown",
   "id": "collected-venice",
   "metadata": {},
   "source": [
    "Now we can use `flip` to simulate the arrival of students who want to\n",
    "borrow a bike. Suppose students arrive at the Olin station every 2\n",
    "minutes, on average. In that case, the chance of an arrival during any\n",
    "one-minute period is 50%, and we can simulate it like this:"
   ]
  },
  {
   "cell_type": "code",
   "execution_count": 24,
   "id": "incident-somalia",
   "metadata": {},
   "outputs": [],
   "source": [
    "if flip(0.5):\n",
    "    bike_to_wellesley()"
   ]
  },
  {
   "cell_type": "markdown",
   "id": "twenty-brand",
   "metadata": {},
   "source": [
    "If students arrive at the Wellesley station every 3 minutes, on average,\n",
    "the chance of an arrival during any one-minute period is 33%, and we can\n",
    "simulate it like this:"
   ]
  },
  {
   "cell_type": "code",
   "execution_count": 25,
   "id": "variable-drain",
   "metadata": {},
   "outputs": [],
   "source": [
    "if flip(0.33):\n",
    "    bike_to_olin()"
   ]
  },
  {
   "cell_type": "markdown",
   "id": "loved-kentucky",
   "metadata": {},
   "source": [
    "We can combine these snippets into a function that simulates a **time\n",
    "step**, which is an interval of time, in this case one minute:"
   ]
  },
  {
   "cell_type": "code",
   "execution_count": 26,
   "id": "smoking-spectrum",
   "metadata": {},
   "outputs": [],
   "source": [
    "def step():\n",
    "    if flip(0.5):\n",
    "        bike_to_wellesley()\n",
    "    \n",
    "    if flip(0.33):\n",
    "        bike_to_olin()"
   ]
  },
  {
   "cell_type": "markdown",
   "id": "educational-color",
   "metadata": {},
   "source": [
    "Then we can simulate a time step like this:"
   ]
  },
  {
   "cell_type": "code",
   "execution_count": 27,
   "id": "offensive-meter",
   "metadata": {},
   "outputs": [
    {
     "name": "stdout",
     "output_type": "stream",
     "text": [
      "Moving a bike to Wellesley\n",
      "Moving a bike to Olin\n"
     ]
    }
   ],
   "source": [
    "step()"
   ]
  },
  {
   "cell_type": "markdown",
   "id": "bridal-stage",
   "metadata": {},
   "source": [
    "Even though there are no values in parentheses, we have to include them."
   ]
  },
  {
   "cell_type": "markdown",
   "id": "adult-window",
   "metadata": {},
   "source": [
    "## Parameters\n",
    "\n",
    "The previous version of `step` is fine if the arrival probabilities\n",
    "never change, but in reality, these probabilities vary over time.\n",
    "\n",
    "So instead of putting the constant values 0.5 and 0.33 in `step` we can replace them with **parameters**. Parameters are variables whose values are set when a function is called.\n",
    "\n",
    "Here's a version of `step` that takes two parameters, `p1` and `p2`:"
   ]
  },
  {
   "cell_type": "code",
   "execution_count": 28,
   "id": "funky-macintosh",
   "metadata": {},
   "outputs": [],
   "source": [
    "def step(p1, p2):\n",
    "    if flip(p1):\n",
    "        bike_to_wellesley()\n",
    "    \n",
    "    if flip(p2):\n",
    "        bike_to_olin()"
   ]
  },
  {
   "cell_type": "markdown",
   "id": "swiss-distributor",
   "metadata": {},
   "source": [
    "The values of `p1` and `p2` are not set inside this function; instead,\n",
    "they are provided when the function is called, like this:"
   ]
  },
  {
   "cell_type": "code",
   "execution_count": 29,
   "id": "pleased-vision",
   "metadata": {},
   "outputs": [
    {
     "name": "stdout",
     "output_type": "stream",
     "text": [
      "Moving a bike to Wellesley\n"
     ]
    }
   ],
   "source": [
    "step(0.5, 0.33)"
   ]
  },
  {
   "cell_type": "markdown",
   "id": "located-inspector",
   "metadata": {},
   "source": [
    "The values you provide when you call the function are called\n",
    "**arguments**. The arguments, `0.5` and `0.33` in this example, get\n",
    "assigned to the parameters, `p1` and `p2`, in order. So running this\n",
    "function has the same effect as:"
   ]
  },
  {
   "cell_type": "code",
   "execution_count": 30,
   "id": "known-edgar",
   "metadata": {},
   "outputs": [
    {
     "name": "stdout",
     "output_type": "stream",
     "text": [
      "Moving a bike to Wellesley\n"
     ]
    }
   ],
   "source": [
    "p1 = 0.5\n",
    "p2 = 0.33\n",
    "\n",
    "if flip(p1):\n",
    "    bike_to_wellesley()\n",
    "    \n",
    "if flip(p2):\n",
    "    bike_to_olin()"
   ]
  },
  {
   "cell_type": "markdown",
   "id": "periodic-heath",
   "metadata": {},
   "source": [
    "The advantage of using parameters is that you can call the same function many times, providing different arguments each time.\n",
    "\n",
    "Adding parameters to a function is called **generalization**, because it makes the function more general, that is, less specialized."
   ]
  },
  {
   "cell_type": "markdown",
   "id": "indonesian-shelter",
   "metadata": {},
   "source": [
    "## For loops\n",
    "\n",
    "At some point you will get sick of running cells over and over.\n",
    "Fortunately, there is an easy way to repeat a chunk of code, the **for\n",
    "loop**. Here's an example:"
   ]
  },
  {
   "cell_type": "code",
   "execution_count": 31,
   "id": "welcome-crossing",
   "metadata": {},
   "outputs": [
    {
     "name": "stdout",
     "output_type": "stream",
     "text": [
      "1\n",
      "Moving a bike to Wellesley\n",
      "2\n",
      "Moving a bike to Wellesley\n",
      "3\n",
      "Moving a bike to Wellesley\n"
     ]
    }
   ],
   "source": [
    "for i in range(1, 4):\n",
    "    print(i)\n",
    "    bike_to_wellesley()"
   ]
  },
  {
   "cell_type": "markdown",
   "id": "motivated-study",
   "metadata": {},
   "source": [
    "The syntax here should look familiar; the first line ends with a\n",
    "colon, and the lines inside the `for` loop are indented. The other\n",
    "elements of the loop are:\n",
    "\n",
    "-   The words `for` and `in` are special words we have to use in a for\n",
    "    loop.\n",
    "\n",
    "-   `range` is a Python function we're using here to control the number of times the loop runs.\n",
    "\n",
    "-   `i` is a **loop variable** that gets created when the for loop runs.\n",
    "\n",
    "When this loop runs, it runs the statements inside the loop three times.  The first time, the value of `i` is `1`; the second time, it is `2`; the third time, it is `3`.\n",
    "\n",
    "Each time through the loop, it prints the value of `i` and moves one bike Olin to Wellesley.\n",
    "\n",
    "It might seem strange that the loop stops when `i` is `3`, but that's how `range` works: it includes the first argument, `1`, but not the second, `4`.\n",
    "\n",
    "Now, since we have moved a number of bikes around, let's start again with a new `State` object."
   ]
  },
  {
   "cell_type": "code",
   "execution_count": 32,
   "id": "passing-notification",
   "metadata": {},
   "outputs": [],
   "source": [
    "bikeshare = State(olin=10, wellesley=2)"
   ]
  },
  {
   "cell_type": "markdown",
   "id": "linear-cleaner",
   "metadata": {},
   "source": [
    "We'll use this `bikeshare` in the next section."
   ]
  },
  {
   "cell_type": "markdown",
   "id": "successful-rough",
   "metadata": {},
   "source": [
    "## TimeSeries\n",
    "\n",
    "When we run a simulation, we often want to save the results for later analysis. The ModSim library provides a `TimeSeries` object for this purpose. A `TimeSeries` contains a sequence of time stamps and a\n",
    "corresponding sequence of values. In this example, the time stamps are\n",
    "integers representing minutes, and the values are the number of bikes at one location.\n",
    "\n",
    "We can create a new, empty `TimeSeries` like this:"
   ]
  },
  {
   "cell_type": "code",
   "execution_count": 33,
   "id": "approved-bruce",
   "metadata": {},
   "outputs": [],
   "source": [
    "from modsim import TimeSeries\n",
    "\n",
    "results = TimeSeries()"
   ]
  },
  {
   "cell_type": "markdown",
   "id": "extensive-uniform",
   "metadata": {},
   "source": [
    "And we can add a value to a `TimeSeries` like this:"
   ]
  },
  {
   "cell_type": "code",
   "execution_count": 34,
   "id": "affected-syntax",
   "metadata": {},
   "outputs": [],
   "source": [
    "results[0] = bikeshare.olin"
   ]
  },
  {
   "cell_type": "markdown",
   "id": "rational-assault",
   "metadata": {},
   "source": [
    "The number in brackets is the time stamp, also called a **label**.\n",
    "\n",
    "We can use a `TimeSeries` inside a for loop to store the results of the\n",
    "simulation:"
   ]
  },
  {
   "cell_type": "code",
   "execution_count": 35,
   "id": "optical-ordinary",
   "metadata": {},
   "outputs": [
    {
     "name": "stdout",
     "output_type": "stream",
     "text": [
      "1\n",
      "Moving a bike to Wellesley\n",
      "2\n",
      "3\n",
      "4\n"
     ]
    }
   ],
   "source": [
    "for i in range(1, 5):\n",
    "    print(i)\n",
    "    step(0.3, 0.2)\n",
    "    results[i] = bikeshare.olin"
   ]
  },
  {
   "cell_type": "markdown",
   "id": "dutch-sheep",
   "metadata": {},
   "source": [
    "Each time through the loop, we print the value of `i` and call `step`, which updates `bikeshare`.\n",
    "Then we store the number of bikes at Olin in `results`. \n",
    "We use the loop variable, `i`, as the time stamp.\n",
    "\n",
    "When the loop exits, `results` contains 5 time stamps, from 0 through\n",
    "4, and the number of bikes at Olin at the end of each time step.\n",
    "\n",
    "We can display the `TimeSeries` like this:"
   ]
  },
  {
   "cell_type": "code",
   "execution_count": 36,
   "id": "allied-hobby",
   "metadata": {},
   "outputs": [
    {
     "data": {
      "text/plain": [
       "0    10\n",
       "1     9\n",
       "2     9\n",
       "3     9\n",
       "4     9\n",
       "dtype: int64"
      ]
     },
     "execution_count": 36,
     "metadata": {},
     "output_type": "execute_result"
    }
   ],
   "source": [
    "results"
   ]
  },
  {
   "cell_type": "markdown",
   "id": "found-indonesia",
   "metadata": {},
   "source": [
    "The left column displays the timestamps; the right column displays the values (which might be negative, depending on the state of the system).\n",
    "At the bottom, `dtype` is the type of the data in the `TimeSeries`; you can ignore this for now.\n",
    "\n",
    "ModSim provides a function called `display` that displays the `TimeSeries` as a table:"
   ]
  },
  {
   "cell_type": "code",
   "execution_count": 37,
   "id": "compound-globe",
   "metadata": {},
   "outputs": [
    {
     "data": {
      "text/html": [
       "<div>\n",
       "<style scoped>\n",
       "    .dataframe tbody tr th:only-of-type {\n",
       "        vertical-align: middle;\n",
       "    }\n",
       "\n",
       "    .dataframe tbody tr th {\n",
       "        vertical-align: top;\n",
       "    }\n",
       "\n",
       "    .dataframe thead th {\n",
       "        text-align: right;\n",
       "    }\n",
       "</style>\n",
       "<table border=\"1\" class=\"dataframe\">\n",
       "  <thead>\n",
       "    <tr style=\"text-align: right;\">\n",
       "      <th></th>\n",
       "      <th>values</th>\n",
       "    </tr>\n",
       "  </thead>\n",
       "  <tbody>\n",
       "    <tr>\n",
       "      <th>0</th>\n",
       "      <td>10</td>\n",
       "    </tr>\n",
       "    <tr>\n",
       "      <th>1</th>\n",
       "      <td>9</td>\n",
       "    </tr>\n",
       "    <tr>\n",
       "      <th>2</th>\n",
       "      <td>9</td>\n",
       "    </tr>\n",
       "    <tr>\n",
       "      <th>3</th>\n",
       "      <td>9</td>\n",
       "    </tr>\n",
       "    <tr>\n",
       "      <th>4</th>\n",
       "      <td>9</td>\n",
       "    </tr>\n",
       "  </tbody>\n",
       "</table>\n",
       "</div>"
      ],
      "text/plain": [
       "   values\n",
       "0      10\n",
       "1       9\n",
       "2       9\n",
       "3       9\n",
       "4       9"
      ]
     },
     "execution_count": 37,
     "metadata": {},
     "output_type": "execute_result"
    }
   ],
   "source": [
    "from modsim import display\n",
    "\n",
    "display(results)"
   ]
  },
  {
   "cell_type": "markdown",
   "id": "dated-canyon",
   "metadata": {},
   "source": [
    "You don't have to use `display`, but I think it looks better."
   ]
  },
  {
   "cell_type": "markdown",
   "id": "senior-mexico",
   "metadata": {},
   "source": [
    "## Plotting\n",
    "\n",
    "ModSim provides a function called `plot` we can use to plot\n",
    "the results:"
   ]
  },
  {
   "cell_type": "code",
   "execution_count": 38,
   "id": "persistent-replication",
   "metadata": {},
   "outputs": [
    {
     "data": {
      "image/png": "[encoded data removed]",
      "text/plain": [
       "<Figure size 432x288 with 1 Axes>"
      ]
     },
     "metadata": {
      "needs_background": "light"
     },
     "output_type": "display_data"
    }
   ],
   "source": [
    "from modsim import plot\n",
    "\n",
    "plot(results)"
   ]
  },
  {
   "cell_type": "markdown",
   "id": "mexican-recipe",
   "metadata": {},
   "source": [
    "The legend for this figure says \"None\" because we have not provided a label.  Here's how we can do that:"
   ]
  },
  {
   "cell_type": "code",
   "execution_count": 39,
   "id": "hollow-george",
   "metadata": {},
   "outputs": [
    {
     "data": {
      "image/png": "[encoded data removed]",
      "text/plain": [
       "<Figure size 432x288 with 1 Axes>"
      ]
     },
     "metadata": {
      "needs_background": "light"
     },
     "output_type": "display_data"
    }
   ],
   "source": [
    "plot(results, label='Olin')"
   ]
  },
  {
   "cell_type": "markdown",
   "id": "romantic-measure",
   "metadata": {},
   "source": [
    "Whenever you make a figure, you should label the axes. The ModSim\n",
    "library provides `decorate`, which we can use to labels the axes and give the figure a title:"
   ]
  },
  {
   "cell_type": "code",
   "execution_count": 40,
   "id": "occupied-claim",
   "metadata": {},
   "outputs": [
    {
     "data": {
      "image/png": "[encoded data removed]",
      "text/plain": [
       "<Figure size 432x288 with 1 Axes>"
      ]
     },
     "metadata": {
      "needs_background": "light"
     },
     "output_type": "display_data"
    }
   ],
   "source": [
    "from modsim import decorate\n",
    "\n",
    "plot(results, label='Olin')\n",
    "\n",
    "decorate(title='Olin-Wellesley Bikeshare',\n",
    "         xlabel='Time step (min)', \n",
    "         ylabel='Number of bikes')"
   ]
  },
  {
   "cell_type": "markdown",
   "id": "practical-fruit",
   "metadata": {},
   "source": [
    "## Summary\n",
    "\n",
    "This chapter introduces the tools we need to run simulations, record the results, and plot them.\n",
    "\n",
    "We used a `State` object to represent the state of the system.\n",
    "Then we used the `flip` function and an `if` statement to simulate a single time step.\n",
    "\n",
    "We used `for` loop to simulate a series of steps, and a `TimeSeries` to record the results.\n",
    "\n",
    "Finally, we used `plot` and `decorate` to plot the results.\n",
    "\n",
    "In the next chapter, we will extend this simulation to make it a little more realistic."
   ]
  },
  {
   "cell_type": "markdown",
   "id": "bronze-adventure",
   "metadata": {},
   "source": [
    "## Exercises"
   ]
  },
  {
   "cell_type": "markdown",
   "id": "headed-invite",
   "metadata": {},
   "source": [
    "**Exercise:** What happens if you spell the name of a state variable wrong?  Edit the following cell, change the spelling of `wellesley`, and run it.\n",
    "\n",
    "The error message uses the word \"attribute\", which is another name for what we are calling a state variable. "
   ]
  },
  {
   "cell_type": "code",
   "execution_count": 41,
   "id": "compressed-utilization",
   "metadata": {},
   "outputs": [
    {
     "data": {
      "text/plain": [
       "2"
      ]
     },
     "execution_count": 41,
     "metadata": {},
     "output_type": "execute_result"
    }
   ],
   "source": [
    "bikeshare = State(olin=10, wellesley=2)\n",
    "\n",
    "bikeshare.wellesley"
   ]
  },
  {
   "cell_type": "markdown",
   "id": "cheap-panama",
   "metadata": {},
   "source": [
    "**Exercise:** Make a `State` object with a third state variable, called `babson`, with initial value 0, and display the state of the system."
   ]
  },
  {
   "cell_type": "code",
   "execution_count": 42,
   "id": "elect-makeup",
   "metadata": {},
   "outputs": [
    {
     "data": {
      "text/html": [
       "<div>\n",
       "<style scoped>\n",
       "    .dataframe tbody tr th:only-of-type {\n",
       "        vertical-align: middle;\n",
       "    }\n",
       "\n",
       "    .dataframe tbody tr th {\n",
       "        vertical-align: top;\n",
       "    }\n",
       "\n",
       "    .dataframe thead th {\n",
       "        text-align: right;\n",
       "    }\n",
       "</style>\n",
       "<table border=\"1\" class=\"dataframe\">\n",
       "  <thead>\n",
       "    <tr style=\"text-align: right;\">\n",
       "      <th></th>\n",
       "      <th>values</th>\n",
       "    </tr>\n",
       "  </thead>\n",
       "  <tbody>\n",
       "    <tr>\n",
       "      <th>olin</th>\n",
       "      <td>10</td>\n",
       "    </tr>\n",
       "    <tr>\n",
       "      <th>wellesley</th>\n",
       "      <td>2</td>\n",
       "    </tr>\n",
       "    <tr>\n",
       "      <th>babson</th>\n",
       "      <td>0</td>\n",
       "    </tr>\n",
       "  </tbody>\n",
       "</table>\n",
       "</div>"
      ],
      "text/plain": [
       "namespace(olin=10, wellesley=2, babson=0)"
      ]
     },
     "execution_count": 42,
     "metadata": {},
     "output_type": "execute_result"
    }
   ],
   "source": [
    "# Solution\n",
    "\n",
    "bikeshare = State(olin=10, wellesley=2, babson=0)\n",
    "bikeshare"
   ]
  },
  {
   "cell_type": "markdown",
   "id": "prescribed-white",
   "metadata": {},
   "source": [
    "**Exercise:** Wrap the code in the chapter in a function named `run_simulation` that takes three parameters, named `p1`, `p2`, and `num_steps`.\n",
    "\n",
    "It should:\n",
    "\n",
    "1. Create a `TimeSeries` object to hold the results.\n",
    "\n",
    "2. Use a for loop to run `step` the number of times specified by `num_steps`, passing along the specified values of `p1` and `p2`.\n",
    "\n",
    "3. After each step, it should save the number of bikes at Olin in the `TimeSeries`.\n",
    "\n",
    "4. After the for loop, it should plot the results and\n",
    "\n",
    "5. Decorate the axes.\n",
    "\n",
    "To test your function:\n",
    "\n",
    "1. Create a `State` object with the initial state of the system.\n",
    "\n",
    "2. Call `run_simulation` with appropriate parameters."
   ]
  },
  {
   "cell_type": "code",
   "execution_count": 43,
   "id": "strategic-reporter",
   "metadata": {},
   "outputs": [],
   "source": [
    "# Solution\n",
    "\n",
    "def run_simulation(p1, p2, num_steps):\n",
    "    results = TimeSeries()\n",
    "    results[0] = bikeshare.olin\n",
    "    \n",
    "    for i in range(1, num_steps):\n",
    "        step(p1, p2)\n",
    "        results[i] = bikeshare.olin\n",
    "        \n",
    "    plot(results, label='Olin')\n",
    "    decorate(title='Olin-Wellesley Bikeshare',\n",
    "             xlabel='Time step (min)', \n",
    "             ylabel='Number of bikes')"
   ]
  },
  {
   "cell_type": "code",
   "execution_count": 44,
   "id": "adjustable-zoning",
   "metadata": {},
   "outputs": [
    {
     "name": "stdout",
     "output_type": "stream",
     "text": [
      "Moving a bike to Olin\n",
      "Moving a bike to Olin\n",
      "Moving a bike to Wellesley\n",
      "Moving a bike to Wellesley\n",
      "Moving a bike to Wellesley\n",
      "Moving a bike to Olin\n",
      "Moving a bike to Wellesley\n",
      "Moving a bike to Wellesley\n",
      "Moving a bike to Wellesley\n",
      "Moving a bike to Wellesley\n",
      "Moving a bike to Wellesley\n",
      "Moving a bike to Olin\n",
      "Moving a bike to Wellesley\n",
      "Moving a bike to Wellesley\n",
      "Moving a bike to Wellesley\n",
      "Moving a bike to Wellesley\n",
      "Moving a bike to Wellesley\n",
      "Moving a bike to Wellesley\n",
      "Moving a bike to Olin\n",
      "Moving a bike to Wellesley\n",
      "Moving a bike to Wellesley\n",
      "Moving a bike to Olin\n",
      "Moving a bike to Olin\n",
      "Moving a bike to Wellesley\n",
      "Moving a bike to Wellesley\n",
      "Moving a bike to Olin\n",
      "Moving a bike to Olin\n",
      "Moving a bike to Wellesley\n",
      "Moving a bike to Wellesley\n",
      "Moving a bike to Olin\n",
      "Moving a bike to Wellesley\n",
      "Moving a bike to Wellesley\n"
     ]
    },
    {
     "data": {
      "image/png": "[encoded data removed]",
      "text/plain": [
       "<Figure size 432x288 with 1 Axes>"
      ]
     },
     "metadata": {
      "needs_background": "light"
     },
     "output_type": "display_data"
    }
   ],
   "source": [
    "# Solution\n",
    "\n",
    "bikeshare = State(olin=10, wellesley=2)\n",
    "run_simulation(0.3, 0.2, 60)"
   ]
  },
  {
   "cell_type": "markdown",
   "id": "eleven-listening",
   "metadata": {},
   "source": [
    "## Opening the hood\n",
    "\n",
    "This section contains additional information about the functions we've used an pointers to their documentation.\n",
    "\n",
    "You don't need to know anything in these sections, so if you are already feeling overwhelmed, you might want to skip them.  But if you are curious, read on."
   ]
  },
  {
   "cell_type": "markdown",
   "id": "liable-reliance",
   "metadata": {},
   "source": [
    "The `State` object defined in the ModSim library, is based on the `SimpleNamespace` object defined in a standard Python library called `types`; the documentation is at <https://docs.python.org/3.7/library/types.html#types.SimpleNamespace>."
   ]
  },
  {
   "cell_type": "markdown",
   "id": "naked-department",
   "metadata": {},
   "source": [
    "The `TimeSeries` object is based on the `Series` object defined by a library called Pandas.\n",
    "The documentation is at <https://pandas.pydata.org/pandas-docs/stable/generated/pandas.Series.html>.\n",
    "\n",
    "`display` works by creating another Pandas object, called a `DataFrame`, which can be displayed as a table.\n",
    "We'll use `DataFrame` objects in future chapters."
   ]
  },
  {
   "cell_type": "markdown",
   "id": "derived-province",
   "metadata": {},
   "source": [
    "`Series` objects provide their own `plot` function, but the syntax is different from the other functions we've used, so ModSim provides a function called `plot` just to make it consistent.\n",
    "\n",
    "`decorate` is based on Matplotlib, which is most widely-used plotting function for Python.  Matplotlib provides separate functions for `title`, `xlabel`, and `ylabel`.\n",
    "`decorate` makes them a little easier to use."
   ]
  },
  {
   "cell_type": "markdown",
   "id": "southeast-advertiser",
   "metadata": {},
   "source": [
    "The `flip` function uses NumPy's `random` function to generate a random number between 0 and 1, then returns `True` or `False` with the given probability.\n",
    "\n",
    "You can get the source code for `flip` by running the following cell."
   ]
  },
  {
   "cell_type": "code",
   "execution_count": 45,
   "id": "tested-blond",
   "metadata": {},
   "outputs": [
    {
     "name": "stdout",
     "output_type": "stream",
     "text": [
      "def flip(p=0.5):\n",
      "    \"\"\"Flips a coin with the given probability.\n",
      "\n",
      "    p: float 0-1\n",
      "\n",
      "    returns: boolean (True or False)\n",
      "    \"\"\"\n",
      "    return np.random.random() < p\n",
      "\n"
     ]
    }
   ],
   "source": [
    "from modsim import source_code\n",
    "\n",
    "source_code(flip)"
   ]
  },
  {
   "cell_type": "markdown",
   "id": "rational-taiwan",
   "metadata": {},
   "source": [
    "You might not understand everything in this function yet, but you will."
   ]
  },
  {
   "cell_type": "code",
   "execution_count": null,
   "id": "significant-defense",
   "metadata": {},
   "outputs": [],
   "source": []
  }
 ],
 "metadata": {
  "kernelspec": {
   "display_name": "Python 3",
   "language": "python",
   "name": "python3"
  },
  "language_info": {
   "codemirror_mode": {
    "name": "ipython",
    "version": 3
   },
   "file_extension": ".py",
   "mimetype": "text/x-python",
   "name": "python",
   "nbconvert_exporter": "python",
   "pygments_lexer": "ipython3",
   "version": "3.7.9"
  }
 },
 "nbformat": 4,
 "nbformat_minor": 5
}
