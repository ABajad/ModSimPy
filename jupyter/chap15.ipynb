{
 "cells": [
  {
   "cell_type": "markdown",
   "id": "third-grass",
   "metadata": {},
   "source": [
    "# Chapter 15"
   ]
  },
  {
   "cell_type": "markdown",
   "id": "driving-terrain",
   "metadata": {
    "tags": [
     "remove-cell"
    ]
   },
   "source": [
    "*Modeling and Simulation in Python*\n",
    "\n",
    "Copyright 2021 Allen Downey\n",
    "\n",
    "License: [Creative Commons Attribution-NonCommercial-ShareAlike 4.0 International](https://creativecommons.org/licenses/by-nc-sa/4.0/)"
   ]
  },
  {
   "cell_type": "code",
   "execution_count": 1,
   "id": "administrative-process",
   "metadata": {
    "tags": [
     "remove-cell"
    ]
   },
   "outputs": [],
   "source": [
    "# check if the libraries we need are installed\n",
    "\n",
    "try:\n",
    "    import pint\n",
    "except ImportError:\n",
    "    !pip install pint\n",
    "    \n",
    "try:\n",
    "    import modsim\n",
    "except ImportError:\n",
    "    !pip install modsimpy"
   ]
  },
  {
   "cell_type": "markdown",
   "id": "willing-twist",
   "metadata": {},
   "source": [
    "So far the systems we have studied have been physical in the sense that they exist in the world, but they have not been physics, in the sense of what physics classes are usually about. In the next few chapters, we'll do some physics, starting with **thermal systems**, that is, systems where the temperature of objects changes as heat transfers from one to another."
   ]
  },
  {
   "cell_type": "markdown",
   "id": "graduate-yahoo",
   "metadata": {},
   "source": [
    "## The coffee cooling problem\n",
    "\n",
    "The coffee cooling problem was discussed by Jearl Walker in \n",
    "\"The Amateur Scientist\", *Scientific American*, Volume 237, Issue 5, November 1977. Since then it has become a standard example of modeling and simulation.\n",
    "\n",
    "Here is my version of the problem:\n",
    "\n",
    "> Suppose I stop on the way to work to pick up a cup of coffee, which I take with milk. Assuming that I want the coffee to be as hot as possible when I arrive at work, should I add the milk at the coffee shop, wait until I get to work, or add the milk at some point in between?\n",
    "\n",
    "To help answer this question, I made a trial run with the milk and\n",
    "coffee in separate containers and took some measurements (not really):\n",
    "\n",
    "-   When served, the temperature of the coffee is 90 °C. The volume is\n",
    "    300 mL.\n",
    "\n",
    "-   The milk is at an initial temperature of 5 °C, and I take about\n",
    "    50 mL.\n",
    "\n",
    "-   The ambient temperature in my car is 22 °C.\n",
    "\n",
    "-   The coffee is served in a well insulated cup. When I arrive at work after 30 minutes, the temperature of the coffee has fallen to 70 °C.\n",
    "\n",
    "-   The milk container is not as well insulated. After 15 minutes, it\n",
    "    warms up to 20 °C, nearly the ambient temperature.\n",
    "\n",
    "To use this data and answer the question, we have to know something\n",
    "about temperature and heat, and we have to make some modeling decisions."
   ]
  },
  {
   "cell_type": "markdown",
   "id": "technological-invention",
   "metadata": {},
   "source": [
    "## Temperature and heat\n",
    "\n",
    "To understand how coffee cools (and milk warms), we need a model of\n",
    "temperature and heat. **Temperature** is a property of an object or a\n",
    "system; in SI units it is measured in degrees Celsius (°C). Temperature quantifies how hot or cold the object is, which is related to the average velocity of the particles that make up the object.\n",
    "\n",
    "When particles in a hot object contact particles in a cold object, the\n",
    "hot object gets cooler and the cold object gets warmer as energy is\n",
    "transferred from one to the other. The transferred energy is called\n",
    "**heat**; in SI units it is measured in joules (J).\n",
    "\n",
    "Heat is related to temperature by the following equation (see\n",
    "<http://modsimpy.com/thermass>): \n",
    "\n",
    "$$Q = C~\\Delta T$$ \n",
    "\n",
    "where $Q$ is the\n",
    "amount of heat transferred to an object, $\\Delta T$ is resulting change in temperature, and $C$ is the **thermal mass** of the object, which quantifies how much energy it takes to heat or cool it. In SI units, thermal mass is measured in joules per degree Celsius (J/°C).\n",
    "\n",
    "For objects made primarily from one material, thermal mass can be\n",
    "computed like this: \n",
    "\n",
    "$$C = m c_p$$ \n",
    "\n",
    "where $m$ is the mass of the object and $c_p$ is the **specific heat capacity** of the material (see <http://modsimpy.com/specheat>).\n",
    "\n",
    "We can use these equations to estimate the thermal mass of a cup of\n",
    "coffee. The specific heat capacity of coffee is probably close to that\n",
    "of water, which is 4.2 J/g/°C. Assuming that the density of coffee is\n",
    "close to that of water, which is 1 g/mL, the mass of 300 mL of coffee is 300 g, and the thermal mass is 1260 J/°C.\n",
    "\n",
    "So when a cup of coffee cools from 90 °C to 70 °C, the change in\n",
    "temperature, $\\Delta T$ is 20 °C, which means that 25 200 J of heat\n",
    "energy was transferred from the coffee to the surrounding environment\n",
    "(the cup holder and air in my car).\n",
    "\n",
    "To give you a sense of how much energy that is, if you were able to\n",
    "harness all of that heat to do work (which you cannot), you could\n",
    "use it to lift a cup of coffee from sea level to 8571 m, just shy of the height of Mount Everest, 8848 m.\n",
    "\n",
    "Assuming that the cup has less mass than the coffee, and is made from a material with lower specific heat, we can ignore the thermal mass of the cup. For a cup with substantial thermal mass, like a ceramic mug, we might consider a model that computes the temperature of coffee and cup separately."
   ]
  },
  {
   "cell_type": "markdown",
   "id": "hidden-sandwich",
   "metadata": {},
   "source": [
    "## Heat transfer\n",
    "\n",
    "In a situation like the coffee cooling problem, there are three ways\n",
    "heat transfers from one object to another (see <http://modsimpy.com/transfer>):\n",
    "\n",
    "-   Conduction: When objects at different temperatures come into\n",
    "    contact, the faster-moving particles of the higher-temperature\n",
    "    object transfer kinetic energy to the slower-moving particles of the\n",
    "    lower-temperature object.\n",
    "\n",
    "-   Convection: When particles in a gas or liquid flow from place to\n",
    "    place, they carry heat energy with them. Fluid flows can be caused\n",
    "    by external action, like stirring, or by internal differences in\n",
    "    temperature. For example, you might have heard that hot air rises,\n",
    "    which is a form of \"natural convection\\\".\n",
    "\n",
    "-   Radiation: As the particles in an object move due to thermal energy,\n",
    "    they emit electromagnetic radiation. The energy carried by this\n",
    "    radiation depends on the object's temperature and surface properties\n",
    "    (see <http://modsimpy.com/thermrad>).\n",
    "\n",
    "For objects like coffee in a car, the effect of radiation is much\n",
    "smaller than the effects of conduction and convection, so we will ignore it.\n",
    "\n",
    "Convection can be a complex topic, since it often depends on details of fluid flow in three dimensions. But for this problem we will be able to get away with a simple model called \"Newton's law of cooling\"."
   ]
  },
  {
   "cell_type": "markdown",
   "id": "precious-phone",
   "metadata": {},
   "source": [
    "## Newton's law of cooling\n",
    "\n",
    "Newton's law of cooling asserts that the temperature rate of change for an object is proportional to the difference in temperature between the\n",
    "object and the surrounding environment:\n",
    "\n",
    "$$\\frac{dT}{dt} = -r (T - T_{env})$$ \n",
    "\n",
    "where $T$, the temperature of the object, is a function of time, $t$; $T_{env}$ is the temperature of the environment, and $r$ is a constant that characterizes how quickly heat is transferred between the system and the environment.\n",
    "\n",
    "Newton's so-called \"law \" is really a model: it is a good approximation in some conditions and less good in others.\n",
    "\n",
    "For example, if the primary mechanism of heat transfer is conduction,\n",
    "Newton's law is \"true\", which is to say that $r$ is constant over a\n",
    "wide range of temperatures. And sometimes we can estimate $r$ based on\n",
    "the material properties and shape of the object.\n",
    "\n",
    "When convection contributes a non-negligible fraction of heat transfer, $r$ depends on temperature, but Newton's law is often accurate enough, at least over a narrow range of temperatures. In this case $r$ usually has to be estimated experimentally, since it depends on details of surface shape, air flow, evaporation, etc.\n",
    "\n",
    "When radiation makes up a substantial part of heat transfer, Newton's\n",
    "law is not a good model at all. This is the case for objects in space or in a vacuum, and for objects at high temperatures (more than a few\n",
    "hundred degrees Celsius, say).\n",
    "\n",
    "However, for a situation like the coffee cooling problem, we expect\n",
    "Newton's model to be quite good."
   ]
  },
  {
   "cell_type": "markdown",
   "id": "complex-statement",
   "metadata": {},
   "source": [
    "## Implementation\n",
    "\n",
    "To get started, let's forget about the milk temporarily and focus on the coffee. \n",
    "\n",
    "Here's a `System` object that contains the parameters of the system:"
   ]
  },
  {
   "cell_type": "code",
   "execution_count": 2,
   "id": "advisory-stations",
   "metadata": {},
   "outputs": [],
   "source": [
    "from modsim import System\n",
    "\n",
    "def make_system(T_init, volume, r, t_end):\n",
    "    return System(T_init=T_init,\n",
    "                  volume=volume,\n",
    "                  r=r,\n",
    "                  t_end=t_end,\n",
    "                  T_env=22,\n",
    "                  t_0=0,\n",
    "                  dt=1)"
   ]
  },
  {
   "cell_type": "code",
   "execution_count": 3,
   "id": "simple-shelter",
   "metadata": {},
   "outputs": [],
   "source": [
    "coffee = make_system(T_init=90, volume=300, r=0.01, t_end=30)"
   ]
  },
  {
   "cell_type": "markdown",
   "id": "legal-shift",
   "metadata": {},
   "source": [
    "The values of `volume`, `T_env`, and `t_end` come from the statement of the problem. I chose the value of `r` arbitrarily for now; we will\n",
    "figure out how to estimate it soon.\n",
    "\n",
    "`dt` is the time step we use to simulate the cooling process. Strictly\n",
    "speaking, Newton's law is a differential equation, but over a short\n",
    "period of time we can approximate it with a difference equation:\n",
    "\n",
    "$$\\Delta T = -r (T - T_{env}) dt$$ \n",
    "\n",
    "where $dt$ is a small time step and\n",
    "$\\Delta T$ is the change in temperature during that time step.\n",
    "\n",
    "Note: I use $\\Delta T$ to denote a change in temperature over time, but in the context of heat transfer, you might also see $\\Delta T$ used to denote the difference in temperature between an object and its\n",
    "environment, $T - T_{env}$. To minimize confusion, I avoid this second\n",
    "use.\n",
    "\n",
    "Now we can write an update function:"
   ]
  },
  {
   "cell_type": "code",
   "execution_count": 4,
   "id": "organic-morrison",
   "metadata": {},
   "outputs": [],
   "source": [
    "def change_func(T, t, system):\n",
    "    r, T_env, dt = system.r, system.T_env, system.dt    \n",
    "    return -r * (T - T_env) * dt"
   ]
  },
  {
   "cell_type": "markdown",
   "id": "manufactured-alfred",
   "metadata": {},
   "source": [
    "Like previous update functions, this one takes a `State` object, a time,\n",
    "and a `System` object.\n",
    "\n",
    "Now if we run"
   ]
  },
  {
   "cell_type": "code",
   "execution_count": 5,
   "id": "olympic-bailey",
   "metadata": {},
   "outputs": [
    {
     "data": {
      "text/plain": [
       "-0.68"
      ]
     },
     "execution_count": 5,
     "metadata": {},
     "output_type": "execute_result"
    }
   ],
   "source": [
    "change_func(coffee.T_init, 0, coffee)"
   ]
  },
  {
   "cell_type": "markdown",
   "id": "synthetic-montana",
   "metadata": {},
   "source": [
    "we see that the temperature after one minute is 89.3 °C, so the\n",
    "temperature drops by about 0.7 °C/min, at least for this value of `r`.\n",
    "\n",
    "Here's a version of `run_simulation` that simulates a series of time\n",
    "steps from `t_0` to `t_end`:"
   ]
  },
  {
   "cell_type": "code",
   "execution_count": 6,
   "id": "synthetic-danish",
   "metadata": {},
   "outputs": [],
   "source": [
    "from modsim import linrange\n",
    "from pandas import Series\n",
    "from numpy import empty\n",
    "\n",
    "def run_simulation(system, change_func):\n",
    "    t_array = linrange(system.t_0, system.t_end, system.dt)\n",
    "    n = len(t_array)\n",
    "    \n",
    "    T_array = empty(n)\n",
    "    T_array[0] = system.T_init\n",
    "    \n",
    "    for i in range(n-1):\n",
    "        t = t_array[i]\n",
    "        T = T_array[i]\n",
    "        T_array[i+1] = T + change_func(T, t, system)\n",
    "    \n",
    "    system.T_final = T_array[-1]\n",
    "    return Series(T_array, index=t_array)"
   ]
  },
  {
   "cell_type": "markdown",
   "id": "finite-paraguay",
   "metadata": {},
   "source": [
    "This function is similar to previous versions of `run_simulation`.\n",
    "\n",
    "One difference is that it uses `linrange` to make an array of values\n",
    "from `t_0` to `t_end` with time step `dt`.\n",
    "\n",
    "We can run it like this:"
   ]
  },
  {
   "cell_type": "code",
   "execution_count": 7,
   "id": "virtual-notebook",
   "metadata": {},
   "outputs": [],
   "source": [
    "results = run_simulation(coffee, change_func)"
   ]
  },
  {
   "cell_type": "markdown",
   "id": "impressed-provincial",
   "metadata": {},
   "source": [
    "The result is a `TimeSeries` with one row per time step. "
   ]
  },
  {
   "cell_type": "code",
   "execution_count": 8,
   "id": "realistic-imagination",
   "metadata": {},
   "outputs": [
    {
     "data": {
      "text/plain": [
       "26.0    74.362934\n",
       "27.0    73.839305\n",
       "28.0    73.320912\n",
       "29.0    72.807702\n",
       "30.0    72.299625\n",
       "dtype: float64"
      ]
     },
     "execution_count": 8,
     "metadata": {},
     "output_type": "execute_result"
    }
   ],
   "source": [
    "results.tail()"
   ]
  },
  {
   "cell_type": "code",
   "execution_count": 9,
   "id": "seven-poker",
   "metadata": {},
   "outputs": [
    {
     "data": {
      "text/plain": [
       "72.2996253904031"
      ]
     },
     "execution_count": 9,
     "metadata": {},
     "output_type": "execute_result"
    }
   ],
   "source": [
    "coffee.T_final"
   ]
  },
  {
   "cell_type": "markdown",
   "id": "seven-costume",
   "metadata": {},
   "source": [
    "The temperature after 30 minutes is 72.3 °C, which is a little higher than stated in the problem, 70 °C. "
   ]
  },
  {
   "cell_type": "markdown",
   "id": "acoustic-provider",
   "metadata": {},
   "source": [
    "We can adjust `r` and find the right value by trial and error, but we'll see a better way in the next chapter."
   ]
  },
  {
   "cell_type": "code",
   "execution_count": 10,
   "id": "demanding-spending",
   "metadata": {},
   "outputs": [
    {
     "data": {
      "image/png": "[encoded data removed]",
      "text/plain": [
       "<Figure size 432x288 with 1 Axes>"
      ]
     },
     "metadata": {
      "needs_background": "light"
     },
     "output_type": "display_data"
    }
   ],
   "source": [
    "from modsim import decorate\n",
    "\n",
    "results.plot(label='coffee')\n",
    "\n",
    "decorate(xlabel='Time (minute)',\n",
    "         ylabel='Temperature (C)',\n",
    "         title='Coffee Cooling')"
   ]
  },
  {
   "cell_type": "markdown",
   "id": "automatic-standard",
   "metadata": {},
   "source": [
    "## Exercises\n",
    "\n",
    "**Exercise:**  Simulate the temperature of 50 mL of milk with a starting temperature of 5 degC, in a vessel with the same insulation, for 15 minutes, and plot the results.\n",
    "\n",
    "By trial and error, find a value for `r` that makes the final temperature close to 20 C."
   ]
  },
  {
   "cell_type": "code",
   "execution_count": 83,
   "id": "maritime-pillow",
   "metadata": {},
   "outputs": [
    {
     "data": {
      "text/plain": [
       "20.00135627897414"
      ]
     },
     "execution_count": 83,
     "metadata": {},
     "output_type": "execute_result"
    }
   ],
   "source": [
    "# Solution\n",
    "\n",
    "milk = make_system(T_init=5, t_end=15, r=0.133, volume=50)\n",
    "results_milk = run_simulation(milk, change_func)\n",
    "milk.T_final"
   ]
  },
  {
   "cell_type": "code",
   "execution_count": 85,
   "id": "killing-kitchen",
   "metadata": {},
   "outputs": [
    {
     "data": {
      "image/png": "[encoded data removed]",
      "text/plain": [
       "<Figure size 432x288 with 1 Axes>"
      ]
     },
     "metadata": {
      "needs_background": "light"
     },
     "output_type": "display_data"
    }
   ],
   "source": [
    "# Solution\n",
    "\n",
    "results_milk.plot(color='C1', label='milk')\n",
    "\n",
    "decorate(xlabel='Time (minutes)',\n",
    "         ylabel='Temperature (C)')"
   ]
  },
  {
   "cell_type": "code",
   "execution_count": null,
   "id": "buried-sweden",
   "metadata": {},
   "outputs": [],
   "source": []
  }
 ],
 "metadata": {
  "kernelspec": {
   "display_name": "Python 3",
   "language": "python",
   "name": "python3"
  },
  "language_info": {
   "codemirror_mode": {
    "name": "ipython",
    "version": 3
   },
   "file_extension": ".py",
   "mimetype": "text/x-python",
   "name": "python",
   "nbconvert_exporter": "python",
   "pygments_lexer": "ipython3",
   "version": "3.7.9"
  }
 },
 "nbformat": 4,
 "nbformat_minor": 5
}
