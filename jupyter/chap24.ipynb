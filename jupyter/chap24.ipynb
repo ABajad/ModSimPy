{
 "cells": [
  {
   "cell_type": "markdown",
   "id": "august-parks",
   "metadata": {},
   "source": [
    "# Chapter 24"
   ]
  },
  {
   "cell_type": "markdown",
   "id": "suspended-puppy",
   "metadata": {
    "tags": [
     "remove-cell"
    ]
   },
   "source": [
    "*Modeling and Simulation in Python*\n",
    "\n",
    "Copyright 2021 Allen Downey\n",
    "\n",
    "License: [Creative Commons Attribution-NonCommercial-ShareAlike 4.0 International](https://creativecommons.org/licenses/by-nc-sa/4.0/)"
   ]
  },
  {
   "cell_type": "code",
   "execution_count": 1,
   "id": "cutting-ultimate",
   "metadata": {
    "tags": [
     "remove-cell"
    ]
   },
   "outputs": [],
   "source": [
    "# check if the libraries we need are installed\n",
    "    \n",
    "try:\n",
    "    import modsim\n",
    "except ImportError:\n",
    "    !pip install modsimpy"
   ]
  },
  {
   "cell_type": "markdown",
   "id": "hispanic-pressure",
   "metadata": {},
   "source": [
    "In this chapter we model systems that involve rotating objects. In\n",
    "general, rotation is complicated: in three dimensions, objects can\n",
    "rotate around three axes; objects are often easier to spin around some\n",
    "axes than others; and they may be stable when spinning around some axes but not others.\n",
    "\n",
    "If the configuration of an object changes over time, it might become\n",
    "easier or harder to spin, which explains the surprising dynamics of\n",
    "gymnasts, divers, ice skaters, etc.\n",
    "\n",
    "And when you apply a twisting force to a rotating object, the effect is often contrary to intuition. For an example, see this video on\n",
    "gyroscopic precession <http://modsimpy.com/precess>.\n",
    "\n",
    "In this chapter, we will not take on the physics of rotation in all its glory. Rather, we will focus on simple scenarios where all rotation and all twisting forces are around a single axis. In that case, we can treat some vector quantities as if they were scalars (in the same way that we sometimes treat velocity as a scalar with an implicit direction).\n",
    "\n",
    "This approach makes it possible to simulate and analyze many interesting systems, but you will also encounter systems that would be better approached with the more general toolkit."
   ]
  },
  {
   "cell_type": "markdown",
   "id": "rural-secret",
   "metadata": {},
   "source": [
    "The fundamental ideas in this chapter and the next are **angular\n",
    "velocity**, **angular acceleration**, **torque**, and **moment of\n",
    "inertia**. If you are not already familiar with these concepts, I will\n",
    "define them as we go along, and I will point to additional reading.\n",
    "\n",
    "At the end of the next chapter, you will use these tools to simulate the behavior of a yo-yo (see <http://modsimpy.com/yoyo>). But we'll work our way up to it gradually, starting with toilet paper."
   ]
  },
  {
   "cell_type": "markdown",
   "id": "protecting-photography",
   "metadata": {},
   "source": [
    "## The physics of toilet paper\n",
    "\n",
    "As a simple example of a system with rotation, we'll simulate the\n",
    "manufacture of a roll of toilet paper. Starting with a cardboard tube at the center, we will roll up 47 m of paper, the typical length of a roll of toilet paper in the U.S. (see <http://modsimpy.com/paper>).\n",
    "\n",
    "![Diagram of a roll of toilet paper, showing change in paper length as a result of a small rotation, $d\\theta$.](figs/paper_roll.pdf){height=\"2.5in\"}\n",
    "\n",
    "This figure shows a diagram of the system: $r$ represents\n",
    "the radius of the roll at a point in time. Initially, $r$ is the radius of the cardboard core, $R_{min}$. When the roll is complete, $r$ is $R_{max}$.\n",
    "\n",
    "I'll use $\\theta$ to represent the total rotation of the roll in\n",
    "radians. In the diagram, $d\\theta$ represents a small increase in\n",
    "$\\theta$, which corresponds to a distance along the circumference of the roll of $r~d\\theta$.\n",
    "\n",
    "Finally, I'll use $y$ to represent the total length of paper that's been rolled. Initially, $\\theta=0$ and $y=0$. For each small increase in $\\theta$, there is a corresponding increase in $y$: \n",
    "\n",
    "$$dy = r~d\\theta$$\n",
    "\n",
    "If we divide both sides by a small increase in time, $dt$, we get a\n",
    "differential equation for $y$ as a function of time.\n",
    "\n",
    "$$\\frac{dy}{dt} = r \\frac{d\\theta}{dt}$$ \n",
    "\n",
    "As we roll up the paper, $r$ increases, too. Assuming that $r$ increases by a fixed amount per revolution, we can write \n",
    "\n",
    "$$dr = k~d\\theta$$ \n",
    "\n",
    "Where $k$ is an unknown constant we'll have to figure out. Again, we can divide both sides by $dt$ to get a differential equation in time:\n",
    "\n",
    "$$\\frac{dr}{dt} = k \\frac{d\\theta}{dt}$$ \n",
    "\n",
    "Finally, let's assume that $\\theta$ increases at a constant rate of 10 rad/s (about 95 revolutions per minute): \n",
    "\n",
    "$$\\frac{d\\theta}{dt} = 10$$ \n",
    "\n",
    "This rate of change is called an **angular velocity**. Now we have a system of three differential equations we can use to simulate the system."
   ]
  },
  {
   "cell_type": "markdown",
   "id": "prostate-smell",
   "metadata": {},
   "source": [
    "## Implementation\n",
    "\n",
    "At this point we have a pretty standard process for writing simulations like this.\n",
    "\n",
    "First we'll create a `Params` object with the parameters of the system:"
   ]
  },
  {
   "cell_type": "code",
   "execution_count": 2,
   "id": "honey-translator",
   "metadata": {},
   "outputs": [],
   "source": [
    "from modsim import Params\n",
    "\n",
    "params = Params(Rmin = 0.02,  # m \n",
    "                Rmax = 0.055, # m \n",
    "                L = 47,       # m \n",
    "                omega = 10,   # radian / s \n",
    "               )"
   ]
  },
  {
   "cell_type": "markdown",
   "id": "caring-unemployment",
   "metadata": {},
   "source": [
    "`Rmin` and `Rmax` are the initial and final values for the radius, `r`.\n",
    "`L` is the total length of the paper. `t_end` is the length of the\n",
    "simulation in time, and `dt` is the time step for the ODE solver.\n",
    "\n",
    "We use the `Params` object to make a `System` object:"
   ]
  },
  {
   "cell_type": "code",
   "execution_count": 3,
   "id": "fresh-domestic",
   "metadata": {},
   "outputs": [],
   "source": [
    "from modsim import State, System\n",
    "\n",
    "def make_system(params):\n",
    "    init = State(theta = 0,   # radian\n",
    "                 y = 0,       # m,\n",
    "                 r = params.Rmin\n",
    "                )\n",
    "    \n",
    "    k = estimate_k(params)\n",
    "\n",
    "    return System(init=init, \n",
    "                  k=k,\n",
    "                  omega = params.omega,\n",
    "                  Rmin = params.Rmin,\n",
    "                  Rmax = params.Rmax,\n",
    "                  L = params.L,\n",
    "                  t_end = 130,\n",
    "                  num = 2000,\n",
    "                 )"
   ]
  },
  {
   "cell_type": "markdown",
   "id": "strong-harrison",
   "metadata": {},
   "source": [
    "The initial state contains three variables, `theta`, `y`, and `r`.\n",
    "\n",
    "`estimate_k` computes the parameter, `k`, that relates `theta` and `r`.\n",
    "Here's how it works:"
   ]
  },
  {
   "cell_type": "code",
   "execution_count": 4,
   "id": "common-sender",
   "metadata": {},
   "outputs": [],
   "source": [
    "from numpy import pi\n",
    "\n",
    "def estimate_k(params):\n",
    "    Rmin, Rmax, L = params.Rmin, params.Rmax, params.L\n",
    "    \n",
    "    Ravg = (Rmax + Rmin) / 2\n",
    "    Cavg = 2 * pi * Ravg\n",
    "    revs = L / Cavg\n",
    "    rads = 2 * pi * revs\n",
    "    k = (Rmax - Rmin) / rads\n",
    "    return k"
   ]
  },
  {
   "cell_type": "markdown",
   "id": "compact-atlas",
   "metadata": {},
   "source": [
    "`Ravg` is the average radius, half way between `Rmin` and `Rmax`, so\n",
    "`Cavg` is the circumference of the roll when `r` is `Ravg`.\n",
    "\n",
    "`revs` is the total number of revolutions it would take to roll up\n",
    "length `L` if `r` were constant at `Ravg`. And `rads` is just `revs`\n",
    "converted to radians.\n",
    "\n",
    "Finally, `k` is the change in `r` for each radian of revolution. For\n",
    "these parameters, `k` is about `2.8e-5` m/rad."
   ]
  },
  {
   "cell_type": "code",
   "execution_count": 5,
   "id": "environmental-nitrogen",
   "metadata": {},
   "outputs": [
    {
     "data": {
      "text/plain": [
       "theta    0.00\n",
       "y        0.00\n",
       "r        0.02\n",
       "dtype: float64"
      ]
     },
     "execution_count": 5,
     "metadata": {},
     "output_type": "execute_result"
    }
   ],
   "source": [
    "system = make_system(params)\n",
    "system.init"
   ]
  },
  {
   "cell_type": "code",
   "execution_count": 6,
   "id": "improving-acrobat",
   "metadata": {},
   "outputs": [
    {
     "data": {
      "text/plain": [
       "2.7925531914893616e-05"
      ]
     },
     "execution_count": 6,
     "metadata": {},
     "output_type": "execute_result"
    }
   ],
   "source": [
    "system.k"
   ]
  },
  {
   "cell_type": "markdown",
   "id": "beginning-artwork",
   "metadata": {},
   "source": [
    "Now we can use the differential equations from the previous section to\n",
    "write a slope function:"
   ]
  },
  {
   "cell_type": "code",
   "execution_count": 7,
   "id": "signed-eight",
   "metadata": {},
   "outputs": [],
   "source": [
    "def slope_func(t, state, system):\n",
    "    theta, y, r = state\n",
    "    k, omega = system.k, system.omega\n",
    "    \n",
    "    dydt = r * omega\n",
    "    drdt = k * omega\n",
    "    \n",
    "    return omega, dydt, drdt"
   ]
  },
  {
   "cell_type": "markdown",
   "id": "celtic-civilian",
   "metadata": {},
   "source": [
    "As usual, the slope function takes a `State` object, a time, and a\n",
    "`System` object. The `State` object contains hypothetical values of\n",
    "`theta`, `y`, and `r` at time `t`. The job of the slope function is to\n",
    "compute the time derivatives of these values. The derivative of `theta` is angular velocity, which is often denoted `omega`."
   ]
  },
  {
   "cell_type": "markdown",
   "id": "tracked-delay",
   "metadata": {},
   "source": [
    "And as usual, we should test the slope function with the initial conditions."
   ]
  },
  {
   "cell_type": "code",
   "execution_count": 8,
   "id": "employed-palestine",
   "metadata": {},
   "outputs": [
    {
     "data": {
      "text/plain": [
       "(10, 0.2, 0.0002792553191489362)"
      ]
     },
     "execution_count": 8,
     "metadata": {},
     "output_type": "execute_result"
    }
   ],
   "source": [
    "slope_func(0, system.init, system)"
   ]
  },
  {
   "cell_type": "markdown",
   "id": "russian-rochester",
   "metadata": {},
   "source": [
    "We'd like to stop the simulation when the length of paper on the roll is `L`. We can do that with an event function that passes through 0 when `y` equals `L`:"
   ]
  },
  {
   "cell_type": "code",
   "execution_count": 9,
   "id": "strong-custody",
   "metadata": {},
   "outputs": [],
   "source": [
    "def event_func(t, state, system):\n",
    "    theta, y, r = state\n",
    "    return y - system.L"
   ]
  },
  {
   "cell_type": "markdown",
   "id": "affecting-pathology",
   "metadata": {},
   "source": [
    "Now we can run the simulation like this:"
   ]
  },
  {
   "cell_type": "code",
   "execution_count": 10,
   "id": "stable-lying",
   "metadata": {},
   "outputs": [
    {
     "data": {
      "text/plain": [
       "'A termination event occurred.'"
      ]
     },
     "execution_count": 10,
     "metadata": {},
     "output_type": "execute_result"
    }
   ],
   "source": [
    "from modsim import run_solve_ivp\n",
    "\n",
    "results, details = run_solve_ivp(system, slope_func,\n",
    "                                  events=event_func)\n",
    "details.message"
   ]
  },
  {
   "cell_type": "markdown",
   "id": "separated-colleague",
   "metadata": {},
   "source": [
    "### Plotting"
   ]
  },
  {
   "cell_type": "markdown",
   "id": "satisfied-camel",
   "metadata": {},
   "source": [
    "Plotting `theta`"
   ]
  },
  {
   "cell_type": "code",
   "execution_count": 11,
   "id": "excited-marshall",
   "metadata": {},
   "outputs": [
    {
     "data": {
      "image/png": "[encoded data removed]",
      "text/plain": [
       "<Figure size 432x288 with 1 Axes>"
      ]
     },
     "metadata": {
      "needs_background": "light"
     },
     "output_type": "display_data"
    }
   ],
   "source": [
    "from modsim import decorate\n",
    "\n",
    "def plot_theta(results):\n",
    "    results.theta.plot(color='C0', label='theta')\n",
    "    decorate(xlabel='Time (s)',\n",
    "             ylabel='Angle (rad)')\n",
    "    \n",
    "plot_theta(results)"
   ]
  },
  {
   "cell_type": "markdown",
   "id": "legislative-sixth",
   "metadata": {},
   "source": [
    "Plotting `y`"
   ]
  },
  {
   "cell_type": "code",
   "execution_count": 12,
   "id": "plastic-operations",
   "metadata": {},
   "outputs": [
    {
     "data": {
      "image/png": "[encoded data removed]",
      "text/plain": [
       "<Figure size 432x288 with 1 Axes>"
      ]
     },
     "metadata": {
      "needs_background": "light"
     },
     "output_type": "display_data"
    }
   ],
   "source": [
    "def plot_y(results):\n",
    "    results.y.plot(color='C1', label='y')\n",
    "\n",
    "    decorate(xlabel='Time (s)',\n",
    "             ylabel='Length (m)')\n",
    "    \n",
    "plot_y(results)"
   ]
  },
  {
   "cell_type": "markdown",
   "id": "enclosed-stand",
   "metadata": {},
   "source": [
    "Plotting `r`"
   ]
  },
  {
   "cell_type": "code",
   "execution_count": 13,
   "id": "pleased-edward",
   "metadata": {},
   "outputs": [
    {
     "data": {
      "image/png": "[encoded data removed]",
      "text/plain": [
       "<Figure size 432x288 with 1 Axes>"
      ]
     },
     "metadata": {
      "needs_background": "light"
     },
     "output_type": "display_data"
    }
   ],
   "source": [
    "def plot_r(results):\n",
    "    results.r.plot(color='C2', label='r')\n",
    "\n",
    "    decorate(xlabel='Time (s)',\n",
    "             ylabel='Radius (m)')\n",
    "    \n",
    "plot_r(results)"
   ]
  },
  {
   "cell_type": "markdown",
   "id": "satellite-evans",
   "metadata": {},
   "source": [
    " `theta` grows linearly over time, as we should expect. As a result, `r` also grows linearly. But since the derivative of `y` depends on `r`, and `r` is increasing, `y` grows with increasing slope.\n",
    "\n",
    "Because this system is so simple, it is almost silly to simulate it. As we'll see in the next section, it is easy enough to solve the\n",
    "differential equations analytically. But it is often useful to start\n",
    "with a simple simulation as a way of exploring and checking assumptions."
   ]
  },
  {
   "cell_type": "code",
   "execution_count": 14,
   "id": "quantitative-student",
   "metadata": {},
   "outputs": [
    {
     "data": {
      "text/html": [
       "<div>\n",
       "<style scoped>\n",
       "    .dataframe tbody tr th:only-of-type {\n",
       "        vertical-align: middle;\n",
       "    }\n",
       "\n",
       "    .dataframe tbody tr th {\n",
       "        vertical-align: top;\n",
       "    }\n",
       "\n",
       "    .dataframe thead th {\n",
       "        text-align: right;\n",
       "    }\n",
       "</style>\n",
       "<table border=\"1\" class=\"dataframe\">\n",
       "  <thead>\n",
       "    <tr style=\"text-align: right;\">\n",
       "      <th></th>\n",
       "      <th>theta</th>\n",
       "      <th>y</th>\n",
       "      <th>r</th>\n",
       "    </tr>\n",
       "  </thead>\n",
       "  <tbody>\n",
       "    <tr>\n",
       "      <th>125.082541</th>\n",
       "      <td>1250.825413</td>\n",
       "      <td>46.862152</td>\n",
       "      <td>0.054930</td>\n",
       "    </tr>\n",
       "    <tr>\n",
       "      <th>125.145239</th>\n",
       "      <td>1251.452393</td>\n",
       "      <td>46.896598</td>\n",
       "      <td>0.054947</td>\n",
       "    </tr>\n",
       "    <tr>\n",
       "      <th>125.207937</th>\n",
       "      <td>1252.079373</td>\n",
       "      <td>46.931054</td>\n",
       "      <td>0.054965</td>\n",
       "    </tr>\n",
       "    <tr>\n",
       "      <th>125.270635</th>\n",
       "      <td>1252.706353</td>\n",
       "      <td>46.965522</td>\n",
       "      <td>0.054982</td>\n",
       "    </tr>\n",
       "    <tr>\n",
       "      <th>125.333333</th>\n",
       "      <td>1253.333333</td>\n",
       "      <td>47.000000</td>\n",
       "      <td>0.055000</td>\n",
       "    </tr>\n",
       "  </tbody>\n",
       "</table>\n",
       "</div>"
      ],
      "text/plain": [
       "                  theta          y         r\n",
       "125.082541  1250.825413  46.862152  0.054930\n",
       "125.145239  1251.452393  46.896598  0.054947\n",
       "125.207937  1252.079373  46.931054  0.054965\n",
       "125.270635  1252.706353  46.965522  0.054982\n",
       "125.333333  1253.333333  47.000000  0.055000"
      ]
     },
     "execution_count": 14,
     "metadata": {},
     "output_type": "execute_result"
    }
   ],
   "source": [
    "results.tail()"
   ]
  },
  {
   "cell_type": "markdown",
   "id": "potential-strength",
   "metadata": {},
   "source": [
    "The elapsed time is about 2 minutes, which is plausible."
   ]
  },
  {
   "cell_type": "code",
   "execution_count": 15,
   "id": "systematic-differential",
   "metadata": {},
   "outputs": [
    {
     "data": {
      "text/plain": [
       "2.08888888888889"
      ]
     },
     "execution_count": 15,
     "metadata": {},
     "output_type": "execute_result"
    }
   ],
   "source": [
    "t_final = results.index[-1]\n",
    "t_final / 60"
   ]
  },
  {
   "cell_type": "markdown",
   "id": "incident-delight",
   "metadata": {},
   "source": [
    "The final value of `y` is 47 meters, as expected."
   ]
  },
  {
   "cell_type": "code",
   "execution_count": 51,
   "id": "suffering-directory",
   "metadata": {},
   "outputs": [
    {
     "data": {
      "text/plain": [
       "(47.0, 47)"
      ]
     },
     "execution_count": 51,
     "metadata": {},
     "output_type": "execute_result"
    }
   ],
   "source": [
    "final_state = results.iloc[-1] \n",
    "final_state.y, params.L"
   ]
  },
  {
   "cell_type": "markdown",
   "id": "nasty-triple",
   "metadata": {},
   "source": [
    "The final value of radius is `Rmax`."
   ]
  },
  {
   "cell_type": "code",
   "execution_count": 17,
   "id": "cutting-proceeding",
   "metadata": {},
   "outputs": [
    {
     "data": {
      "text/plain": [
       "(0.05500000000000002, 0.055)"
      ]
     },
     "execution_count": 17,
     "metadata": {},
     "output_type": "execute_result"
    }
   ],
   "source": [
    "final_state.r, params.Rmax"
   ]
  },
  {
   "cell_type": "markdown",
   "id": "charitable-mystery",
   "metadata": {},
   "source": [
    "And the total number of rotations is close to 200, which seems plausible."
   ]
  },
  {
   "cell_type": "code",
   "execution_count": 52,
   "id": "removable-brother",
   "metadata": {},
   "outputs": [
    {
     "data": {
      "text/plain": [
       "199.47419534184226"
      ]
     },
     "execution_count": 52,
     "metadata": {},
     "output_type": "execute_result"
    }
   ],
   "source": [
    "radians = final_state.theta\n",
    "rotations = radians / 2 / pi\n",
    "rotations"
   ]
  },
  {
   "cell_type": "markdown",
   "id": "continued-angel",
   "metadata": {},
   "source": [
    "## Animation\n",
    "\n",
    "Here's a draw function that animates the results using `matplotlib` patches."
   ]
  },
  {
   "cell_type": "code",
   "execution_count": 46,
   "id": "confused-preview",
   "metadata": {},
   "outputs": [],
   "source": [
    "from matplotlib.patches import Circle, Arrow\n",
    "from matplotlib.pyplot import gca, axis\n",
    "from modsim import pol2cart\n",
    "\n",
    "def draw_func(t, state):\n",
    "    # get radius in mm\n",
    "    theta, y, r = state\n",
    "    radius = r\n",
    "    \n",
    "    # draw the paper\n",
    "    circle = Circle([0, 0], radius)\n",
    "    gca().add_patch(circle)\n",
    "    \n",
    "    # draw the core\n",
    "    core = Circle([0, 0], params.Rmin, color='0.9')\n",
    "    gca().add_patch(core)\n",
    "    \n",
    "    # draw the perimeter\n",
    "    core = Circle([0, 0], params.Rmax, \n",
    "                  color='0.7', fill=False)\n",
    "    gca().add_patch(core)\n",
    "    \n",
    "    # draw an arrow to show rotation\n",
    "    dx, dy = pol2cart(theta, radius)\n",
    "    arrow = Arrow(0, 0, dx, dy, color='C1', width=0.01)\n",
    "    gca().add_patch(arrow)\n",
    "\n",
    "    # make the aspect ratio 1\n",
    "    decorate(xlim=[-0.1, 0.1],\n",
    "             ylim=[-0.07, 0.07])"
   ]
  },
  {
   "cell_type": "code",
   "execution_count": 47,
   "id": "naughty-tenant",
   "metadata": {},
   "outputs": [
    {
     "data": {
      "image/png": "[encoded data removed]",
      "text/plain": [
       "<Figure size 432x288 with 1 Axes>"
      ]
     },
     "metadata": {
      "needs_background": "light"
     },
     "output_type": "display_data"
    }
   ],
   "source": [
    "draw_func(0, system.init)"
   ]
  },
  {
   "cell_type": "code",
   "execution_count": 48,
   "id": "distant-nancy",
   "metadata": {},
   "outputs": [
    {
     "data": {
      "image/png": "[encoded data removed]",
      "text/plain": [
       "<Figure size 432x288 with 1 Axes>"
      ]
     },
     "metadata": {
      "needs_background": "light"
     },
     "output_type": "display_data"
    }
   ],
   "source": [
    "draw_func(t_final, final_state)"
   ]
  },
  {
   "cell_type": "code",
   "execution_count": 50,
   "id": "identical-expense",
   "metadata": {
    "scrolled": true
   },
   "outputs": [
    {
     "data": {
      "image/png": "[encoded data removed]",
      "text/plain": [
       "<Figure size 432x288 with 1 Axes>"
      ]
     },
     "metadata": {
      "needs_background": "light"
     },
     "output_type": "display_data"
    }
   ],
   "source": [
    "from modsim import animate\n",
    "\n",
    "# animate(results, draw_func)"
   ]
  },
  {
   "cell_type": "markdown",
   "id": "contained-taiwan",
   "metadata": {},
   "source": [
    "Now that we have a working simulation, it is also useful to do some analysis."
   ]
  },
  {
   "cell_type": "markdown",
   "id": "electric-longer",
   "metadata": {},
   "source": [
    "## Analysis\n",
    "\n",
    "The differential equations in Section xx are simple enough that we can just solve them. Since angular velocity is constant: \n",
    "\n",
    "$$\\frac{d\\theta}{dt} = \\omega$$ \n",
    "\n",
    "We can find $\\theta$ as a function of time by integrating both sides:\n",
    "\n",
    "$$\\theta(t) = \\omega t + C_1$$ \n",
    "\n",
    "With the initial condition $\\theta(0)=0$, we find $C_1=0$. Similarly,\n",
    "\n",
    "$$\\frac{dr}{dt} = k \\omega$$ \n",
    "\n",
    "So\n",
    "\n",
    "$$r(t) = k \\omega t + C_2$$ \n",
    "\n",
    "With the initial condition $r(0)=R_{min}$, we find $C_2=R_{min}$. Then we can plug the solution for $r$ into the equation for $y$: \n",
    "\n",
    "$$\\begin{aligned}\n",
    "\\frac{dy}{dt} & = r \\omega                      \\\\\n",
    "              & = \\left[ k \\omega t + R_{min} \\right] \\omega \\nonumber\\end{aligned}$$\n",
    "              \n",
    "Integrating both sides yields:\n",
    "\n",
    "$$y(t) = \\left[ k \\omega t^2 / 2 + R_{min} t \\right] \\omega + C_3$$ \n",
    "\n",
    "So $y$ is a parabola, as you might have guessed. With initial condition $y(0)=0$, we find $C_3=0$.\n",
    "\n",
    "We can also use these equations to find the relationship between $y$ and $r$, independent of time, which we can use to compute $k$. Using a move we saw in Section xxx, I'll divide Equations 1 and\n",
    "2, yielding\n",
    "\n",
    "$$\\frac{dr}{dy} = \\frac{k}{r}$$ \n",
    "\n",
    "Separating variables yields\n",
    "\n",
    "$$r~dr = k~dy$$ \n",
    "\n",
    "Integrating both sides yields \n",
    "\n",
    "$$r^2 / 2 = k y + C$$ \n",
    "\n",
    "When $y=0$, $r=R_{min}$, so $$C = \\frac{1}{2} R_{min}^2$$ Solving for $y$, we have \n",
    "\n",
    "$$y = \\frac{1}{2k} (r^2 - R_{min}^2)                 \\label{eqn3}$$\n",
    "\n",
    "When $y=L$, $r=R_{max}$; substituting in those values yields\n",
    "\n",
    "$$L = \\frac{1}{2k} (R_{max}^2 - R_{min}^2)$$ \n",
    "\n",
    "Solving for $k$ yields\n",
    "\n",
    "$$k =  \\frac{1}{2L} (R_{max}^2 - R_{min}^2)           \\label{eqn4}$$\n",
    "\n",
    "Plugging in the values of the parameters yields `2.8e-5` m/rad, the same as the \"estimate\" we computed in Section xxx. In this case the estimate turns out to be exact."
   ]
  },
  {
   "cell_type": "markdown",
   "id": "welcome-organization",
   "metadata": {},
   "source": [
    "We can also see the relationship between `y` and `r`, which I derive analytically in the book."
   ]
  },
  {
   "cell_type": "markdown",
   "id": "foreign-needle",
   "metadata": {},
   "source": [
    "## Summary"
   ]
  },
  {
   "cell_type": "markdown",
   "id": "hindu-civilization",
   "metadata": {},
   "source": [
    "### Rolling paper\n",
    "\n",
    "We'll start by loading the units we need."
   ]
  },
  {
   "cell_type": "code",
   "execution_count": 22,
   "id": "active-absorption",
   "metadata": {},
   "outputs": [
    {
     "ename": "NameError",
     "evalue": "name 'UNITS' is not defined",
     "output_type": "error",
     "traceback": [
      "\u001b[0;31m---------------------------------------------------------------------------\u001b[0m",
      "\u001b[0;31mNameError\u001b[0m                                 Traceback (most recent call last)",
      "\u001b[0;32m<ipython-input-22-2bc8c7513e21>\u001b[0m in \u001b[0;36m<module>\u001b[0;34m\u001b[0m\n\u001b[0;32m----> 1\u001b[0;31m \u001b[0mradian\u001b[0m \u001b[0;34m=\u001b[0m \u001b[0mUNITS\u001b[0m\u001b[0;34m.\u001b[0m\u001b[0mradian\u001b[0m\u001b[0;34m\u001b[0m\u001b[0;34m\u001b[0m\u001b[0m\n\u001b[0m\u001b[1;32m      2\u001b[0m \u001b[0mm\u001b[0m \u001b[0;34m=\u001b[0m \u001b[0mUNITS\u001b[0m\u001b[0;34m.\u001b[0m\u001b[0mmeter\u001b[0m\u001b[0;34m\u001b[0m\u001b[0;34m\u001b[0m\u001b[0m\n\u001b[1;32m      3\u001b[0m \u001b[0ms\u001b[0m \u001b[0;34m=\u001b[0m \u001b[0mUNITS\u001b[0m\u001b[0;34m.\u001b[0m\u001b[0msecond\u001b[0m\u001b[0;34m\u001b[0m\u001b[0;34m\u001b[0m\u001b[0m\n",
      "\u001b[0;31mNameError\u001b[0m: name 'UNITS' is not defined"
     ]
    }
   ],
   "source": [
    "radian = UNITS.radian\n",
    "m = UNITS.meter\n",
    "s = UNITS.second"
   ]
  },
  {
   "cell_type": "markdown",
   "id": "fancy-floating",
   "metadata": {},
   "source": [
    "And creating a `Params` object with the system parameters"
   ]
  },
  {
   "cell_type": "code",
   "execution_count": null,
   "id": "british-method",
   "metadata": {},
   "outputs": [],
   "source": [
    "params = Params(Rmin = 0.02 * m,\n",
    "                Rmax = 0.055 * m,\n",
    "                L = 47 * m,\n",
    "                omega = 10 * radian / s,\n",
    "                t_end = 130 * s,\n",
    "                dt = 1*s)"
   ]
  },
  {
   "cell_type": "markdown",
   "id": "governing-paraguay",
   "metadata": {},
   "source": [
    "The following function estimates the parameter `k`, which is the increase in the radius of the roll for each radian of rotation. "
   ]
  },
  {
   "cell_type": "code",
   "execution_count": null,
   "id": "spread-fabric",
   "metadata": {},
   "outputs": [],
   "source": [
    "def estimate_k(params):\n",
    "    \"\"\"Estimates the parameter `k`.\n",
    "    \n",
    "    params: Params with Rmin, Rmax, and L\n",
    "    \n",
    "    returns: k in meters per radian\n",
    "    \"\"\"\n",
    "    Rmin, Rmax, L = params.Rmin, params.Rmax, params.L\n",
    "    \n",
    "    Ravg = (Rmax + Rmin) / 2\n",
    "    Cavg = 2 * pi * Ravg\n",
    "    revs = L / Cavg\n",
    "    rads = 2 * pi * revs\n",
    "    k = (Rmax - Rmin) / rads\n",
    "    return k"
   ]
  },
  {
   "cell_type": "markdown",
   "id": "plain-chambers",
   "metadata": {},
   "source": [
    "As usual, `make_system` takes a `Params` object and returns a `System` object."
   ]
  },
  {
   "cell_type": "code",
   "execution_count": null,
   "id": "tutorial-direction",
   "metadata": {},
   "outputs": [],
   "source": [
    "def make_system(params):\n",
    "    \"\"\"Make a system object.\n",
    "    \n",
    "    params: Params with Rmin, Rmax, and L\n",
    "    \n",
    "    returns: System with init, k, and ts\n",
    "    \"\"\"\n",
    "    init = State(theta = 0 * radian,\n",
    "                 y = 0 * m,\n",
    "                 r = params.Rmin)\n",
    "    \n",
    "    k = estimate_k(params)\n",
    "\n",
    "    return System(params, init=init, k=k)"
   ]
  },
  {
   "cell_type": "markdown",
   "id": "separate-flexibility",
   "metadata": {},
   "source": [
    "Testing `make_system`"
   ]
  },
  {
   "cell_type": "code",
   "execution_count": null,
   "id": "latter-retention",
   "metadata": {},
   "outputs": [],
   "source": [
    "system = make_system(params)"
   ]
  },
  {
   "cell_type": "code",
   "execution_count": null,
   "id": "aggressive-bikini",
   "metadata": {},
   "outputs": [],
   "source": [
    "system.init"
   ]
  },
  {
   "cell_type": "markdown",
   "id": "processed-archive",
   "metadata": {},
   "source": [
    "Now we can write a slope function based on the differential equations\n",
    "\n",
    "$\\omega = \\frac{d\\theta}{dt} = 10$\n",
    "\n",
    "$\\frac{dy}{dt} = r \\frac{d\\theta}{dt}$\n",
    "\n",
    "$\\frac{dr}{dt} = k \\frac{d\\theta}{dt}$\n"
   ]
  },
  {
   "cell_type": "code",
   "execution_count": null,
   "id": "unable-track",
   "metadata": {},
   "outputs": [],
   "source": [
    "def slope_func(state, t, system):\n",
    "    \"\"\"Computes the derivatives of the state variables.\n",
    "    \n",
    "    state: State object with theta, y, r\n",
    "    t: time\n",
    "    system: System object with r, k\n",
    "    \n",
    "    returns: sequence of derivatives\n",
    "    \"\"\"\n",
    "    theta, y, r = state\n",
    "    k, omega = system.k, system.omega\n",
    "    \n",
    "    dydt = r * omega\n",
    "    drdt = k * omega\n",
    "    \n",
    "    return omega, dydt, drdt"
   ]
  },
  {
   "cell_type": "markdown",
   "id": "behind-aaron",
   "metadata": {},
   "source": [
    "Testing `slope_func`"
   ]
  },
  {
   "cell_type": "code",
   "execution_count": null,
   "id": "middle-paint",
   "metadata": {},
   "outputs": [],
   "source": [
    "slope_func(system.init, 0, system)"
   ]
  },
  {
   "cell_type": "markdown",
   "id": "better-filing",
   "metadata": {},
   "source": [
    "We'll use an event function to stop when `y=L`."
   ]
  },
  {
   "cell_type": "code",
   "execution_count": null,
   "id": "numerous-legislature",
   "metadata": {},
   "outputs": [],
   "source": [
    "def event_func(state, t, system):\n",
    "    \"\"\"Detects when we've rolled length `L`.\n",
    "    \n",
    "    state: State object with theta, y, r\n",
    "    t: time\n",
    "    system: System object with L\n",
    "    \n",
    "    returns: difference between `y` and `L`\n",
    "    \"\"\"\n",
    "    theta, y, r = state\n",
    "    \n",
    "    return y - system.L"
   ]
  },
  {
   "cell_type": "code",
   "execution_count": null,
   "id": "broad-place",
   "metadata": {},
   "outputs": [],
   "source": [
    "event_func(system.init, 0, system)"
   ]
  },
  {
   "cell_type": "markdown",
   "id": "polished-phrase",
   "metadata": {},
   "source": [
    "Now we can run the simulation."
   ]
  },
  {
   "cell_type": "code",
   "execution_count": null,
   "id": "monetary-charlotte",
   "metadata": {},
   "outputs": [],
   "source": [
    "results, details = run_solve_ivp(system, slope_func, events=event_func)\n",
    "details"
   ]
  },
  {
   "cell_type": "markdown",
   "id": "religious-conditions",
   "metadata": {},
   "source": [
    "And look at the results."
   ]
  },
  {
   "cell_type": "markdown",
   "id": "lucky-advance",
   "metadata": {},
   "source": [
    "**Exercise:** Run the simulation again with a smaller step size to smooth out the animation."
   ]
  },
  {
   "cell_type": "markdown",
   "id": "noted-amount",
   "metadata": {},
   "source": [
    "### Exercises\n",
    "\n",
    "**Exercise:** Since we keep `omega` constant, the linear velocity of the paper increases with radius.  Use `gradient` to estimate the derivative of `results.y`.  What is the peak linear velocity?"
   ]
  },
  {
   "cell_type": "code",
   "execution_count": null,
   "id": "given-panic",
   "metadata": {},
   "outputs": [],
   "source": [
    "# Solution\n",
    "\n",
    "dydt = gradient(results.y);"
   ]
  },
  {
   "cell_type": "code",
   "execution_count": null,
   "id": "foreign-reservation",
   "metadata": {},
   "outputs": [],
   "source": [
    "plot(dydt, label='dydt')\n",
    "decorate(xlabel='Time (s)',\n",
    "         ylabel='Linear velocity (m/s)')"
   ]
  },
  {
   "cell_type": "code",
   "execution_count": null,
   "id": "proof-abraham",
   "metadata": {},
   "outputs": [],
   "source": [
    "# Solution\n",
    "\n",
    "linear_velocity = get_last_value(dydt) * m/s"
   ]
  },
  {
   "cell_type": "markdown",
   "id": "advisory-integer",
   "metadata": {},
   "source": [
    "Now suppose the peak velocity is the limit; that is, we can't move the paper any faster than that.\n",
    "\n",
    "Nevertheless, we might be able to speed up the process by keeping the linear velocity at the maximum all the time.\n",
    "\n",
    "Write a slope function that keeps the linear velocity, `dydt`, constant, and computes the angular velocity, `omega`, accordingly.\n",
    "\n",
    "Run the simulation and see how much faster we could finish rolling the paper."
   ]
  },
  {
   "cell_type": "code",
   "execution_count": null,
   "id": "historic-barrier",
   "metadata": {},
   "outputs": [],
   "source": [
    "# Solution\n",
    "\n",
    "def slope_func(state, t, system):\n",
    "    \"\"\"Computes the derivatives of the state variables.\n",
    "    \n",
    "    state: State object with theta, y, r\n",
    "    t: time\n",
    "    system: System object with r, k\n",
    "    \n",
    "    returns: sequence of derivatives\n",
    "    \"\"\"\n",
    "    theta, y, r = state\n",
    "    k, omega = system.k, system.omega\n",
    "    \n",
    "    dydt = linear_velocity\n",
    "    omega = dydt / r\n",
    "    drdt = k * omega\n",
    "    \n",
    "    return omega, dydt, drdt"
   ]
  },
  {
   "cell_type": "code",
   "execution_count": null,
   "id": "false-identity",
   "metadata": {},
   "outputs": [],
   "source": [
    "# Solution\n",
    "\n",
    "slope_func(system.init, 0, system)"
   ]
  },
  {
   "cell_type": "code",
   "execution_count": null,
   "id": "physical-novelty",
   "metadata": {},
   "outputs": [],
   "source": [
    "# Solution\n",
    "\n",
    "results, details = run_solve_ivp(system, slope_func, events=event_func)\n",
    "details"
   ]
  },
  {
   "cell_type": "code",
   "execution_count": null,
   "id": "peaceful-doctor",
   "metadata": {},
   "outputs": [],
   "source": [
    "# Solution\n",
    "\n",
    "t_final = get_last_label(results) * s"
   ]
  },
  {
   "cell_type": "code",
   "execution_count": null,
   "id": "limiting-license",
   "metadata": {},
   "outputs": [],
   "source": [
    "# Solution\n",
    "\n",
    "plot_three(results)"
   ]
  },
  {
   "cell_type": "code",
   "execution_count": null,
   "id": "least-analysis",
   "metadata": {},
   "outputs": [],
   "source": []
  }
 ],
 "metadata": {
  "kernelspec": {
   "display_name": "Python 3",
   "language": "python",
   "name": "python3"
  },
  "language_info": {
   "codemirror_mode": {
    "name": "ipython",
    "version": 3
   },
   "file_extension": ".py",
   "mimetype": "text/x-python",
   "name": "python",
   "nbconvert_exporter": "python",
   "pygments_lexer": "ipython3",
   "version": "3.7.9"
  }
 },
 "nbformat": 4,
 "nbformat_minor": 5
}
